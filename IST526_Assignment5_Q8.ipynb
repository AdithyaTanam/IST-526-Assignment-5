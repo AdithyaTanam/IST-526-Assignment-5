{
  "nbformat": 4,
  "nbformat_minor": 0,
  "metadata": {
    "kernelspec": {
      "display_name": "Python 3",
      "language": "python",
      "name": "python3"
    },
    "language_info": {
      "codemirror_mode": {
        "name": "ipython",
        "version": 3
      },
      "file_extension": ".py",
      "mimetype": "text/x-python",
      "name": "python",
      "nbconvert_exporter": "python",
      "pygments_lexer": "ipython3",
      "version": "3.6.6"
    },
    "colab": {
      "name": "IST526_Assignment5_Q8.ipynb",
      "provenance": [],
      "collapsed_sections": [
        "UgkApVIdU5qX",
        "mzylF0--VFOS"
      ],
      "toc_visible": true,
      "include_colab_link": true
    }
  },
  "cells": [
    {
      "cell_type": "markdown",
      "metadata": {
        "id": "view-in-github",
        "colab_type": "text"
      },
      "source": [
        "<a href=\"https://colab.research.google.com/github/AdithyaTanam/IST-526-Assignment-5/blob/main/IST526_Assignment5_Q8.ipynb\" target=\"_parent\"><img src=\"https://colab.research.google.com/assets/colab-badge.svg\" alt=\"Open In Colab\"/></a>"
      ]
    },
    {
      "cell_type": "markdown",
      "metadata": {
        "id": "MARw0PQKHtQP"
      },
      "source": [
        "# Import Essential Libraries"
      ]
    },
    {
      "cell_type": "code",
      "metadata": {
        "id": "h4k3Dx3oB_ZP"
      },
      "source": [
        "import numpy as np\n",
        "import pandas as pd\n",
        "\n",
        "# Plotting tools\n",
        "import matplotlib as mpl\n",
        "import matplotlib.pyplot as plt\n",
        "%matplotlib inline\n",
        "\n",
        "import warnings\n",
        "warnings.filterwarnings('ignore')\n"
      ],
      "execution_count": 34,
      "outputs": []
    },
    {
      "cell_type": "markdown",
      "metadata": {
        "id": "cdXSrxZPI3_v"
      },
      "source": [
        "## Import Plotly"
      ]
    },
    {
      "cell_type": "code",
      "metadata": {
        "id": "rpNEnF-NI5tw"
      },
      "source": [
        "# Using plotly.express\n",
        "import plotly.express as px\n",
        "import plotly.graph_objects as go"
      ],
      "execution_count": 35,
      "outputs": []
    },
    {
      "cell_type": "markdown",
      "metadata": {
        "id": "T6CLE3SeHnLK"
      },
      "source": [
        "## Natural Language Processing (NLP) Libraries\n"
      ]
    },
    {
      "cell_type": "code",
      "metadata": {
        "id": "pORUpC0IHyy2"
      },
      "source": [
        "import re\n",
        "from pprint import pprint\n",
        "\n",
        "import csv\n",
        "import string\n",
        "\n",
        "import warnings\n",
        "warnings.filterwarnings(\"ignore\",category=DeprecationWarning)\n",
        "\n",
        "# spacy for lemmatization\n",
        "import spacy\n"
      ],
      "execution_count": 36,
      "outputs": []
    },
    {
      "cell_type": "markdown",
      "metadata": {
        "id": "SUh-_A59UKzw"
      },
      "source": [
        "### Gensim package"
      ]
    },
    {
      "cell_type": "code",
      "metadata": {
        "id": "BzfnhT24UQtX"
      },
      "source": [
        "# Gensim\n",
        "import gensim\n",
        "import gensim.corpora as corpora\n",
        "from gensim.utils import simple_preprocess\n",
        "from gensim.models import CoherenceModel\n",
        "from gensim.models import Word2Vec\n",
        "\n",
        "# Enable logging for gensim - optional\n",
        "import logging\n",
        "logging.basicConfig(format='%(asctime)s : %(levelname)s : %(message)s', level=logging.ERROR)"
      ],
      "execution_count": 37,
      "outputs": []
    },
    {
      "cell_type": "markdown",
      "metadata": {
        "id": "zbzA3yoUUddW"
      },
      "source": [
        "### pyLDAVis package"
      ]
    },
    {
      "cell_type": "code",
      "metadata": {
        "colab": {
          "base_uri": "https://localhost:8080/"
        },
        "id": "LOIx678KCSYn",
        "outputId": "214a1664-4cf7-4769-af30-45690bb2adde"
      },
      "source": [
        "!pip install pyLDAvis"
      ],
      "execution_count": 38,
      "outputs": [
        {
          "output_type": "stream",
          "name": "stdout",
          "text": [
            "Requirement already satisfied: pyLDAvis in /usr/local/lib/python3.7/dist-packages (3.3.1)\n",
            "Requirement already satisfied: future in /usr/local/lib/python3.7/dist-packages (from pyLDAvis) (0.16.0)\n",
            "Requirement already satisfied: scipy in /usr/local/lib/python3.7/dist-packages (from pyLDAvis) (1.4.1)\n",
            "Requirement already satisfied: funcy in /usr/local/lib/python3.7/dist-packages (from pyLDAvis) (1.17)\n",
            "Requirement already satisfied: numexpr in /usr/local/lib/python3.7/dist-packages (from pyLDAvis) (2.8.1)\n",
            "Requirement already satisfied: numpy>=1.20.0 in /usr/local/lib/python3.7/dist-packages (from pyLDAvis) (1.21.6)\n",
            "Requirement already satisfied: sklearn in /usr/local/lib/python3.7/dist-packages (from pyLDAvis) (0.0)\n",
            "Requirement already satisfied: gensim in /usr/local/lib/python3.7/dist-packages (from pyLDAvis) (3.6.0)\n",
            "Requirement already satisfied: scikit-learn in /usr/local/lib/python3.7/dist-packages (from pyLDAvis) (1.0.2)\n",
            "Requirement already satisfied: setuptools in /usr/local/lib/python3.7/dist-packages (from pyLDAvis) (57.4.0)\n",
            "Requirement already satisfied: pandas>=1.2.0 in /usr/local/lib/python3.7/dist-packages (from pyLDAvis) (1.3.5)\n",
            "Requirement already satisfied: joblib in /usr/local/lib/python3.7/dist-packages (from pyLDAvis) (1.1.0)\n",
            "Requirement already satisfied: jinja2 in /usr/local/lib/python3.7/dist-packages (from pyLDAvis) (2.11.3)\n",
            "Requirement already satisfied: python-dateutil>=2.7.3 in /usr/local/lib/python3.7/dist-packages (from pandas>=1.2.0->pyLDAvis) (2.8.2)\n",
            "Requirement already satisfied: pytz>=2017.3 in /usr/local/lib/python3.7/dist-packages (from pandas>=1.2.0->pyLDAvis) (2022.1)\n",
            "Requirement already satisfied: six>=1.5 in /usr/local/lib/python3.7/dist-packages (from python-dateutil>=2.7.3->pandas>=1.2.0->pyLDAvis) (1.15.0)\n",
            "Requirement already satisfied: smart-open>=1.2.1 in /usr/local/lib/python3.7/dist-packages (from gensim->pyLDAvis) (6.0.0)\n",
            "Requirement already satisfied: MarkupSafe>=0.23 in /usr/local/lib/python3.7/dist-packages (from jinja2->pyLDAvis) (2.0.1)\n",
            "Requirement already satisfied: packaging in /usr/local/lib/python3.7/dist-packages (from numexpr->pyLDAvis) (21.3)\n",
            "Requirement already satisfied: pyparsing!=3.0.5,>=2.0.2 in /usr/local/lib/python3.7/dist-packages (from packaging->numexpr->pyLDAvis) (3.0.8)\n",
            "Requirement already satisfied: threadpoolctl>=2.0.0 in /usr/local/lib/python3.7/dist-packages (from scikit-learn->pyLDAvis) (3.1.0)\n"
          ]
        }
      ]
    },
    {
      "cell_type": "code",
      "metadata": {
        "id": "7b66k4zNCV-Z"
      },
      "source": [
        "import pyLDAvis\n",
        "import pyLDAvis.gensim_models as gensimvis\n",
        "pyLDAvis.enable_notebook()\n"
      ],
      "execution_count": 39,
      "outputs": []
    },
    {
      "cell_type": "markdown",
      "metadata": {
        "id": "r74MsRbNUiv5"
      },
      "source": [
        "### NLTK Package"
      ]
    },
    {
      "cell_type": "code",
      "metadata": {
        "id": "EaYbc4DbB_ZR",
        "colab": {
          "base_uri": "https://localhost:8080/"
        },
        "outputId": "5a8aa0b4-5e1b-41f2-bc55-baee5370c3b4"
      },
      "source": [
        "# NLTK Stop words\n",
        "import nltk\n",
        "nltk.download(\"stopwords\")\n",
        "# nltk.download()\n",
        "\n",
        "from nltk.corpus import stopwords\n",
        "stop_words = stopwords.words('english')\n",
        "# stop_words.extend(['from', 'subject', 're', 'edu', 'use'])\n",
        "\n",
        "from nltk import ngrams\n",
        "from nltk.tokenize import word_tokenize\n",
        "from nltk.corpus import stopwords\n",
        "from nltk.stem.snowball import SnowballStemmer "
      ],
      "execution_count": 40,
      "outputs": [
        {
          "output_type": "stream",
          "name": "stdout",
          "text": [
            "[nltk_data] Downloading package stopwords to /root/nltk_data...\n",
            "[nltk_data]   Package stopwords is already up-to-date!\n"
          ]
        }
      ]
    },
    {
      "cell_type": "markdown",
      "metadata": {
        "id": "N6ylPTGif_Uu"
      },
      "source": [
        "# Mount Google Drive"
      ]
    },
    {
      "cell_type": "code",
      "metadata": {
        "colab": {
          "base_uri": "https://localhost:8080/"
        },
        "id": "lcgEn2kXfvCB",
        "outputId": "b0ad7cb7-2005-4c5f-fc40-c9686f93700b"
      },
      "source": [
        "import os\n",
        "\n",
        "# mount drive\n",
        "from google.colab import drive\n",
        "drive.mount('/content/drive')\n",
        "\n",
        "\n",
        "# edit this path if needed\n",
        "my_path = '/content/drive/My Drive/Colab Notebooks/'\n",
        "# my_path = '/content/drive/My Drive/NLP Code/'\n",
        "\n",
        "# change to this path\n",
        "os.chdir(my_path)\n",
        "\n",
        "# verify present working directory. It should be identical to 'my_path'\n",
        "!pwd"
      ],
      "execution_count": 41,
      "outputs": [
        {
          "output_type": "stream",
          "name": "stdout",
          "text": [
            "Drive already mounted at /content/drive; to attempt to forcibly remount, call drive.mount(\"/content/drive\", force_remount=True).\n",
            "/content/drive/My Drive/Colab Notebooks\n"
          ]
        }
      ]
    },
    {
      "cell_type": "markdown",
      "metadata": {
        "id": "O1b1sPFmIDay"
      },
      "source": [
        "# Import Text Data"
      ]
    },
    {
      "cell_type": "code",
      "metadata": {
        "colab": {
          "base_uri": "https://localhost:8080/",
          "height": 395
        },
        "id": "IJCl1iH8JVZ8",
        "outputId": "2f212d96-bf6d-46d0-82c7-facf8a1c930d"
      },
      "source": [
        "df = pd.read_csv('data/news_articles.csv', encoding='latin-1')\n",
        "display(df.head())\n",
        "display(df.tail())"
      ],
      "execution_count": 42,
      "outputs": [
        {
          "output_type": "display_data",
          "data": {
            "text/plain": [
              "                                             Article      Date  \\\n",
              "0  KARACHI: The Sindh government has decided to b...  1/1/2015   \n",
              "1  HONG KONG: Asian markets started 2015 on an up...  1/2/2015   \n",
              "2  HONG KONG:  Hong Kong shares opened 0.66 perce...  1/5/2015   \n",
              "3  HONG KONG: Asian markets tumbled Tuesday follo...  1/6/2015   \n",
              "4  NEW YORK: US oil prices Monday slipped below $...  1/6/2015   \n",
              "\n",
              "                                             Heading  NewsType  \n",
              "0  sindh govt decides to cut public transport far...  business  \n",
              "1                    asia stocks up in new year trad  business  \n",
              "2           hong kong stocks open 0.66 percent lower  business  \n",
              "3             asian stocks sink euro near nine year   business  \n",
              "4                 us oil prices slip below 50 a barr  business  "
            ],
            "text/html": [
              "\n",
              "  <div id=\"df-6f2f8e73-36b8-4597-b5b7-dfd985ab6698\">\n",
              "    <div class=\"colab-df-container\">\n",
              "      <div>\n",
              "<style scoped>\n",
              "    .dataframe tbody tr th:only-of-type {\n",
              "        vertical-align: middle;\n",
              "    }\n",
              "\n",
              "    .dataframe tbody tr th {\n",
              "        vertical-align: top;\n",
              "    }\n",
              "\n",
              "    .dataframe thead th {\n",
              "        text-align: right;\n",
              "    }\n",
              "</style>\n",
              "<table border=\"1\" class=\"dataframe\">\n",
              "  <thead>\n",
              "    <tr style=\"text-align: right;\">\n",
              "      <th></th>\n",
              "      <th>Article</th>\n",
              "      <th>Date</th>\n",
              "      <th>Heading</th>\n",
              "      <th>NewsType</th>\n",
              "    </tr>\n",
              "  </thead>\n",
              "  <tbody>\n",
              "    <tr>\n",
              "      <th>0</th>\n",
              "      <td>KARACHI: The Sindh government has decided to b...</td>\n",
              "      <td>1/1/2015</td>\n",
              "      <td>sindh govt decides to cut public transport far...</td>\n",
              "      <td>business</td>\n",
              "    </tr>\n",
              "    <tr>\n",
              "      <th>1</th>\n",
              "      <td>HONG KONG: Asian markets started 2015 on an up...</td>\n",
              "      <td>1/2/2015</td>\n",
              "      <td>asia stocks up in new year trad</td>\n",
              "      <td>business</td>\n",
              "    </tr>\n",
              "    <tr>\n",
              "      <th>2</th>\n",
              "      <td>HONG KONG:  Hong Kong shares opened 0.66 perce...</td>\n",
              "      <td>1/5/2015</td>\n",
              "      <td>hong kong stocks open 0.66 percent lower</td>\n",
              "      <td>business</td>\n",
              "    </tr>\n",
              "    <tr>\n",
              "      <th>3</th>\n",
              "      <td>HONG KONG: Asian markets tumbled Tuesday follo...</td>\n",
              "      <td>1/6/2015</td>\n",
              "      <td>asian stocks sink euro near nine year</td>\n",
              "      <td>business</td>\n",
              "    </tr>\n",
              "    <tr>\n",
              "      <th>4</th>\n",
              "      <td>NEW YORK: US oil prices Monday slipped below $...</td>\n",
              "      <td>1/6/2015</td>\n",
              "      <td>us oil prices slip below 50 a barr</td>\n",
              "      <td>business</td>\n",
              "    </tr>\n",
              "  </tbody>\n",
              "</table>\n",
              "</div>\n",
              "      <button class=\"colab-df-convert\" onclick=\"convertToInteractive('df-6f2f8e73-36b8-4597-b5b7-dfd985ab6698')\"\n",
              "              title=\"Convert this dataframe to an interactive table.\"\n",
              "              style=\"display:none;\">\n",
              "        \n",
              "  <svg xmlns=\"http://www.w3.org/2000/svg\" height=\"24px\"viewBox=\"0 0 24 24\"\n",
              "       width=\"24px\">\n",
              "    <path d=\"M0 0h24v24H0V0z\" fill=\"none\"/>\n",
              "    <path d=\"M18.56 5.44l.94 2.06.94-2.06 2.06-.94-2.06-.94-.94-2.06-.94 2.06-2.06.94zm-11 1L8.5 8.5l.94-2.06 2.06-.94-2.06-.94L8.5 2.5l-.94 2.06-2.06.94zm10 10l.94 2.06.94-2.06 2.06-.94-2.06-.94-.94-2.06-.94 2.06-2.06.94z\"/><path d=\"M17.41 7.96l-1.37-1.37c-.4-.4-.92-.59-1.43-.59-.52 0-1.04.2-1.43.59L10.3 9.45l-7.72 7.72c-.78.78-.78 2.05 0 2.83L4 21.41c.39.39.9.59 1.41.59.51 0 1.02-.2 1.41-.59l7.78-7.78 2.81-2.81c.8-.78.8-2.07 0-2.86zM5.41 20L4 18.59l7.72-7.72 1.47 1.35L5.41 20z\"/>\n",
              "  </svg>\n",
              "      </button>\n",
              "      \n",
              "  <style>\n",
              "    .colab-df-container {\n",
              "      display:flex;\n",
              "      flex-wrap:wrap;\n",
              "      gap: 12px;\n",
              "    }\n",
              "\n",
              "    .colab-df-convert {\n",
              "      background-color: #E8F0FE;\n",
              "      border: none;\n",
              "      border-radius: 50%;\n",
              "      cursor: pointer;\n",
              "      display: none;\n",
              "      fill: #1967D2;\n",
              "      height: 32px;\n",
              "      padding: 0 0 0 0;\n",
              "      width: 32px;\n",
              "    }\n",
              "\n",
              "    .colab-df-convert:hover {\n",
              "      background-color: #E2EBFA;\n",
              "      box-shadow: 0px 1px 2px rgba(60, 64, 67, 0.3), 0px 1px 3px 1px rgba(60, 64, 67, 0.15);\n",
              "      fill: #174EA6;\n",
              "    }\n",
              "\n",
              "    [theme=dark] .colab-df-convert {\n",
              "      background-color: #3B4455;\n",
              "      fill: #D2E3FC;\n",
              "    }\n",
              "\n",
              "    [theme=dark] .colab-df-convert:hover {\n",
              "      background-color: #434B5C;\n",
              "      box-shadow: 0px 1px 3px 1px rgba(0, 0, 0, 0.15);\n",
              "      filter: drop-shadow(0px 1px 2px rgba(0, 0, 0, 0.3));\n",
              "      fill: #FFFFFF;\n",
              "    }\n",
              "  </style>\n",
              "\n",
              "      <script>\n",
              "        const buttonEl =\n",
              "          document.querySelector('#df-6f2f8e73-36b8-4597-b5b7-dfd985ab6698 button.colab-df-convert');\n",
              "        buttonEl.style.display =\n",
              "          google.colab.kernel.accessAllowed ? 'block' : 'none';\n",
              "\n",
              "        async function convertToInteractive(key) {\n",
              "          const element = document.querySelector('#df-6f2f8e73-36b8-4597-b5b7-dfd985ab6698');\n",
              "          const dataTable =\n",
              "            await google.colab.kernel.invokeFunction('convertToInteractive',\n",
              "                                                     [key], {});\n",
              "          if (!dataTable) return;\n",
              "\n",
              "          const docLinkHtml = 'Like what you see? Visit the ' +\n",
              "            '<a target=\"_blank\" href=https://colab.research.google.com/notebooks/data_table.ipynb>data table notebook</a>'\n",
              "            + ' to learn more about interactive tables.';\n",
              "          element.innerHTML = '';\n",
              "          dataTable['output_type'] = 'display_data';\n",
              "          await google.colab.output.renderOutput(dataTable, element);\n",
              "          const docLink = document.createElement('div');\n",
              "          docLink.innerHTML = docLinkHtml;\n",
              "          element.appendChild(docLink);\n",
              "        }\n",
              "      </script>\n",
              "    </div>\n",
              "  </div>\n",
              "  "
            ]
          },
          "metadata": {}
        },
        {
          "output_type": "display_data",
          "data": {
            "text/plain": [
              "                                                Article       Date  \\\n",
              "2687  strong>DUBAI: Dubai International Airport and ...  3/25/2017   \n",
              "2688  strong>BEIJING: Former Prime Minister, Shaukat...  3/26/2017   \n",
              "2689  strong>WASHINGTON: Uber has grounded its fleet...  3/26/2017   \n",
              "2690  strong>BEIJING: The New Development Bank plans...  3/27/2017   \n",
              "2691  strong>KARACHI: Karachi-based technology incub...  3/27/2017   \n",
              "\n",
              "                                                Heading  NewsType  \n",
              "2687    Laptop ban hits Dubai for 11m weekend traveller  business  \n",
              "2688  Pak China relations not against any third coun...  business  \n",
              "2689         Uber grounds self driving cars after accid  business  \n",
              "2690  New Development Bank plans joint investments i...  business  \n",
              "2691  Google powered Startup Weekend energizing prou...  business  "
            ],
            "text/html": [
              "\n",
              "  <div id=\"df-79e086e2-debe-43d5-9690-95d5b3376211\">\n",
              "    <div class=\"colab-df-container\">\n",
              "      <div>\n",
              "<style scoped>\n",
              "    .dataframe tbody tr th:only-of-type {\n",
              "        vertical-align: middle;\n",
              "    }\n",
              "\n",
              "    .dataframe tbody tr th {\n",
              "        vertical-align: top;\n",
              "    }\n",
              "\n",
              "    .dataframe thead th {\n",
              "        text-align: right;\n",
              "    }\n",
              "</style>\n",
              "<table border=\"1\" class=\"dataframe\">\n",
              "  <thead>\n",
              "    <tr style=\"text-align: right;\">\n",
              "      <th></th>\n",
              "      <th>Article</th>\n",
              "      <th>Date</th>\n",
              "      <th>Heading</th>\n",
              "      <th>NewsType</th>\n",
              "    </tr>\n",
              "  </thead>\n",
              "  <tbody>\n",
              "    <tr>\n",
              "      <th>2687</th>\n",
              "      <td>strong&gt;DUBAI: Dubai International Airport and ...</td>\n",
              "      <td>3/25/2017</td>\n",
              "      <td>Laptop ban hits Dubai for 11m weekend traveller</td>\n",
              "      <td>business</td>\n",
              "    </tr>\n",
              "    <tr>\n",
              "      <th>2688</th>\n",
              "      <td>strong&gt;BEIJING: Former Prime Minister, Shaukat...</td>\n",
              "      <td>3/26/2017</td>\n",
              "      <td>Pak China relations not against any third coun...</td>\n",
              "      <td>business</td>\n",
              "    </tr>\n",
              "    <tr>\n",
              "      <th>2689</th>\n",
              "      <td>strong&gt;WASHINGTON: Uber has grounded its fleet...</td>\n",
              "      <td>3/26/2017</td>\n",
              "      <td>Uber grounds self driving cars after accid</td>\n",
              "      <td>business</td>\n",
              "    </tr>\n",
              "    <tr>\n",
              "      <th>2690</th>\n",
              "      <td>strong&gt;BEIJING: The New Development Bank plans...</td>\n",
              "      <td>3/27/2017</td>\n",
              "      <td>New Development Bank plans joint investments i...</td>\n",
              "      <td>business</td>\n",
              "    </tr>\n",
              "    <tr>\n",
              "      <th>2691</th>\n",
              "      <td>strong&gt;KARACHI: Karachi-based technology incub...</td>\n",
              "      <td>3/27/2017</td>\n",
              "      <td>Google powered Startup Weekend energizing prou...</td>\n",
              "      <td>business</td>\n",
              "    </tr>\n",
              "  </tbody>\n",
              "</table>\n",
              "</div>\n",
              "      <button class=\"colab-df-convert\" onclick=\"convertToInteractive('df-79e086e2-debe-43d5-9690-95d5b3376211')\"\n",
              "              title=\"Convert this dataframe to an interactive table.\"\n",
              "              style=\"display:none;\">\n",
              "        \n",
              "  <svg xmlns=\"http://www.w3.org/2000/svg\" height=\"24px\"viewBox=\"0 0 24 24\"\n",
              "       width=\"24px\">\n",
              "    <path d=\"M0 0h24v24H0V0z\" fill=\"none\"/>\n",
              "    <path d=\"M18.56 5.44l.94 2.06.94-2.06 2.06-.94-2.06-.94-.94-2.06-.94 2.06-2.06.94zm-11 1L8.5 8.5l.94-2.06 2.06-.94-2.06-.94L8.5 2.5l-.94 2.06-2.06.94zm10 10l.94 2.06.94-2.06 2.06-.94-2.06-.94-.94-2.06-.94 2.06-2.06.94z\"/><path d=\"M17.41 7.96l-1.37-1.37c-.4-.4-.92-.59-1.43-.59-.52 0-1.04.2-1.43.59L10.3 9.45l-7.72 7.72c-.78.78-.78 2.05 0 2.83L4 21.41c.39.39.9.59 1.41.59.51 0 1.02-.2 1.41-.59l7.78-7.78 2.81-2.81c.8-.78.8-2.07 0-2.86zM5.41 20L4 18.59l7.72-7.72 1.47 1.35L5.41 20z\"/>\n",
              "  </svg>\n",
              "      </button>\n",
              "      \n",
              "  <style>\n",
              "    .colab-df-container {\n",
              "      display:flex;\n",
              "      flex-wrap:wrap;\n",
              "      gap: 12px;\n",
              "    }\n",
              "\n",
              "    .colab-df-convert {\n",
              "      background-color: #E8F0FE;\n",
              "      border: none;\n",
              "      border-radius: 50%;\n",
              "      cursor: pointer;\n",
              "      display: none;\n",
              "      fill: #1967D2;\n",
              "      height: 32px;\n",
              "      padding: 0 0 0 0;\n",
              "      width: 32px;\n",
              "    }\n",
              "\n",
              "    .colab-df-convert:hover {\n",
              "      background-color: #E2EBFA;\n",
              "      box-shadow: 0px 1px 2px rgba(60, 64, 67, 0.3), 0px 1px 3px 1px rgba(60, 64, 67, 0.15);\n",
              "      fill: #174EA6;\n",
              "    }\n",
              "\n",
              "    [theme=dark] .colab-df-convert {\n",
              "      background-color: #3B4455;\n",
              "      fill: #D2E3FC;\n",
              "    }\n",
              "\n",
              "    [theme=dark] .colab-df-convert:hover {\n",
              "      background-color: #434B5C;\n",
              "      box-shadow: 0px 1px 3px 1px rgba(0, 0, 0, 0.15);\n",
              "      filter: drop-shadow(0px 1px 2px rgba(0, 0, 0, 0.3));\n",
              "      fill: #FFFFFF;\n",
              "    }\n",
              "  </style>\n",
              "\n",
              "      <script>\n",
              "        const buttonEl =\n",
              "          document.querySelector('#df-79e086e2-debe-43d5-9690-95d5b3376211 button.colab-df-convert');\n",
              "        buttonEl.style.display =\n",
              "          google.colab.kernel.accessAllowed ? 'block' : 'none';\n",
              "\n",
              "        async function convertToInteractive(key) {\n",
              "          const element = document.querySelector('#df-79e086e2-debe-43d5-9690-95d5b3376211');\n",
              "          const dataTable =\n",
              "            await google.colab.kernel.invokeFunction('convertToInteractive',\n",
              "                                                     [key], {});\n",
              "          if (!dataTable) return;\n",
              "\n",
              "          const docLinkHtml = 'Like what you see? Visit the ' +\n",
              "            '<a target=\"_blank\" href=https://colab.research.google.com/notebooks/data_table.ipynb>data table notebook</a>'\n",
              "            + ' to learn more about interactive tables.';\n",
              "          element.innerHTML = '';\n",
              "          dataTable['output_type'] = 'display_data';\n",
              "          await google.colab.output.renderOutput(dataTable, element);\n",
              "          const docLink = document.createElement('div');\n",
              "          docLink.innerHTML = docLinkHtml;\n",
              "          element.appendChild(docLink);\n",
              "        }\n",
              "      </script>\n",
              "    </div>\n",
              "  </div>\n",
              "  "
            ]
          },
          "metadata": {}
        }
      ]
    },
    {
      "cell_type": "markdown",
      "metadata": {
        "id": "UgkApVIdU5qX"
      },
      "source": [
        "# Tokenize: Parse each sentence to words/terms/tokens"
      ]
    },
    {
      "cell_type": "code",
      "metadata": {
        "colab": {
          "base_uri": "https://localhost:8080/",
          "height": 0
        },
        "id": "uh0FUcR4MkkM",
        "outputId": "bd55b925-975a-4f31-8591-13ebf0d4404b"
      },
      "source": [
        "df['token'] = df['Article'].apply (lambda x: gensim.utils.simple_preprocess(str(x), deacc=True))\n",
        "display(df.head())"
      ],
      "execution_count": 43,
      "outputs": [
        {
          "output_type": "display_data",
          "data": {
            "text/plain": [
              "                                             Article      Date  \\\n",
              "0  KARACHI: The Sindh government has decided to b...  1/1/2015   \n",
              "1  HONG KONG: Asian markets started 2015 on an up...  1/2/2015   \n",
              "2  HONG KONG:  Hong Kong shares opened 0.66 perce...  1/5/2015   \n",
              "3  HONG KONG: Asian markets tumbled Tuesday follo...  1/6/2015   \n",
              "4  NEW YORK: US oil prices Monday slipped below $...  1/6/2015   \n",
              "\n",
              "                                             Heading  NewsType  \\\n",
              "0  sindh govt decides to cut public transport far...  business   \n",
              "1                    asia stocks up in new year trad  business   \n",
              "2           hong kong stocks open 0.66 percent lower  business   \n",
              "3             asian stocks sink euro near nine year   business   \n",
              "4                 us oil prices slip below 50 a barr  business   \n",
              "\n",
              "                                               token  \n",
              "0  [karachi, the, sindh, government, has, decided...  \n",
              "1  [hong, kong, asian, markets, started, on, an, ...  \n",
              "2  [hong, kong, hong, kong, shares, opened, perce...  \n",
              "3  [hong, kong, asian, markets, tumbled, tuesday,...  \n",
              "4  [new, york, us, oil, prices, monday, slipped, ...  "
            ],
            "text/html": [
              "\n",
              "  <div id=\"df-52493a14-39e4-47f9-b178-96389f148a22\">\n",
              "    <div class=\"colab-df-container\">\n",
              "      <div>\n",
              "<style scoped>\n",
              "    .dataframe tbody tr th:only-of-type {\n",
              "        vertical-align: middle;\n",
              "    }\n",
              "\n",
              "    .dataframe tbody tr th {\n",
              "        vertical-align: top;\n",
              "    }\n",
              "\n",
              "    .dataframe thead th {\n",
              "        text-align: right;\n",
              "    }\n",
              "</style>\n",
              "<table border=\"1\" class=\"dataframe\">\n",
              "  <thead>\n",
              "    <tr style=\"text-align: right;\">\n",
              "      <th></th>\n",
              "      <th>Article</th>\n",
              "      <th>Date</th>\n",
              "      <th>Heading</th>\n",
              "      <th>NewsType</th>\n",
              "      <th>token</th>\n",
              "    </tr>\n",
              "  </thead>\n",
              "  <tbody>\n",
              "    <tr>\n",
              "      <th>0</th>\n",
              "      <td>KARACHI: The Sindh government has decided to b...</td>\n",
              "      <td>1/1/2015</td>\n",
              "      <td>sindh govt decides to cut public transport far...</td>\n",
              "      <td>business</td>\n",
              "      <td>[karachi, the, sindh, government, has, decided...</td>\n",
              "    </tr>\n",
              "    <tr>\n",
              "      <th>1</th>\n",
              "      <td>HONG KONG: Asian markets started 2015 on an up...</td>\n",
              "      <td>1/2/2015</td>\n",
              "      <td>asia stocks up in new year trad</td>\n",
              "      <td>business</td>\n",
              "      <td>[hong, kong, asian, markets, started, on, an, ...</td>\n",
              "    </tr>\n",
              "    <tr>\n",
              "      <th>2</th>\n",
              "      <td>HONG KONG:  Hong Kong shares opened 0.66 perce...</td>\n",
              "      <td>1/5/2015</td>\n",
              "      <td>hong kong stocks open 0.66 percent lower</td>\n",
              "      <td>business</td>\n",
              "      <td>[hong, kong, hong, kong, shares, opened, perce...</td>\n",
              "    </tr>\n",
              "    <tr>\n",
              "      <th>3</th>\n",
              "      <td>HONG KONG: Asian markets tumbled Tuesday follo...</td>\n",
              "      <td>1/6/2015</td>\n",
              "      <td>asian stocks sink euro near nine year</td>\n",
              "      <td>business</td>\n",
              "      <td>[hong, kong, asian, markets, tumbled, tuesday,...</td>\n",
              "    </tr>\n",
              "    <tr>\n",
              "      <th>4</th>\n",
              "      <td>NEW YORK: US oil prices Monday slipped below $...</td>\n",
              "      <td>1/6/2015</td>\n",
              "      <td>us oil prices slip below 50 a barr</td>\n",
              "      <td>business</td>\n",
              "      <td>[new, york, us, oil, prices, monday, slipped, ...</td>\n",
              "    </tr>\n",
              "  </tbody>\n",
              "</table>\n",
              "</div>\n",
              "      <button class=\"colab-df-convert\" onclick=\"convertToInteractive('df-52493a14-39e4-47f9-b178-96389f148a22')\"\n",
              "              title=\"Convert this dataframe to an interactive table.\"\n",
              "              style=\"display:none;\">\n",
              "        \n",
              "  <svg xmlns=\"http://www.w3.org/2000/svg\" height=\"24px\"viewBox=\"0 0 24 24\"\n",
              "       width=\"24px\">\n",
              "    <path d=\"M0 0h24v24H0V0z\" fill=\"none\"/>\n",
              "    <path d=\"M18.56 5.44l.94 2.06.94-2.06 2.06-.94-2.06-.94-.94-2.06-.94 2.06-2.06.94zm-11 1L8.5 8.5l.94-2.06 2.06-.94-2.06-.94L8.5 2.5l-.94 2.06-2.06.94zm10 10l.94 2.06.94-2.06 2.06-.94-2.06-.94-.94-2.06-.94 2.06-2.06.94z\"/><path d=\"M17.41 7.96l-1.37-1.37c-.4-.4-.92-.59-1.43-.59-.52 0-1.04.2-1.43.59L10.3 9.45l-7.72 7.72c-.78.78-.78 2.05 0 2.83L4 21.41c.39.39.9.59 1.41.59.51 0 1.02-.2 1.41-.59l7.78-7.78 2.81-2.81c.8-.78.8-2.07 0-2.86zM5.41 20L4 18.59l7.72-7.72 1.47 1.35L5.41 20z\"/>\n",
              "  </svg>\n",
              "      </button>\n",
              "      \n",
              "  <style>\n",
              "    .colab-df-container {\n",
              "      display:flex;\n",
              "      flex-wrap:wrap;\n",
              "      gap: 12px;\n",
              "    }\n",
              "\n",
              "    .colab-df-convert {\n",
              "      background-color: #E8F0FE;\n",
              "      border: none;\n",
              "      border-radius: 50%;\n",
              "      cursor: pointer;\n",
              "      display: none;\n",
              "      fill: #1967D2;\n",
              "      height: 32px;\n",
              "      padding: 0 0 0 0;\n",
              "      width: 32px;\n",
              "    }\n",
              "\n",
              "    .colab-df-convert:hover {\n",
              "      background-color: #E2EBFA;\n",
              "      box-shadow: 0px 1px 2px rgba(60, 64, 67, 0.3), 0px 1px 3px 1px rgba(60, 64, 67, 0.15);\n",
              "      fill: #174EA6;\n",
              "    }\n",
              "\n",
              "    [theme=dark] .colab-df-convert {\n",
              "      background-color: #3B4455;\n",
              "      fill: #D2E3FC;\n",
              "    }\n",
              "\n",
              "    [theme=dark] .colab-df-convert:hover {\n",
              "      background-color: #434B5C;\n",
              "      box-shadow: 0px 1px 3px 1px rgba(0, 0, 0, 0.15);\n",
              "      filter: drop-shadow(0px 1px 2px rgba(0, 0, 0, 0.3));\n",
              "      fill: #FFFFFF;\n",
              "    }\n",
              "  </style>\n",
              "\n",
              "      <script>\n",
              "        const buttonEl =\n",
              "          document.querySelector('#df-52493a14-39e4-47f9-b178-96389f148a22 button.colab-df-convert');\n",
              "        buttonEl.style.display =\n",
              "          google.colab.kernel.accessAllowed ? 'block' : 'none';\n",
              "\n",
              "        async function convertToInteractive(key) {\n",
              "          const element = document.querySelector('#df-52493a14-39e4-47f9-b178-96389f148a22');\n",
              "          const dataTable =\n",
              "            await google.colab.kernel.invokeFunction('convertToInteractive',\n",
              "                                                     [key], {});\n",
              "          if (!dataTable) return;\n",
              "\n",
              "          const docLinkHtml = 'Like what you see? Visit the ' +\n",
              "            '<a target=\"_blank\" href=https://colab.research.google.com/notebooks/data_table.ipynb>data table notebook</a>'\n",
              "            + ' to learn more about interactive tables.';\n",
              "          element.innerHTML = '';\n",
              "          dataTable['output_type'] = 'display_data';\n",
              "          await google.colab.output.renderOutput(dataTable, element);\n",
              "          const docLink = document.createElement('div');\n",
              "          docLink.innerHTML = docLinkHtml;\n",
              "          element.appendChild(docLink);\n",
              "        }\n",
              "      </script>\n",
              "    </div>\n",
              "  </div>\n",
              "  "
            ]
          },
          "metadata": {}
        }
      ]
    },
    {
      "cell_type": "markdown",
      "metadata": {
        "id": "mzylF0--VFOS"
      },
      "source": [
        "# Making Bigram and Trigram models"
      ]
    },
    {
      "cell_type": "code",
      "metadata": {
        "id": "y0K1mIk4B_ZT"
      },
      "source": [
        "# Build the bigram and trigram models\n",
        "bigram = gensim.models.Phrases(df['token'], min_count=5, threshold=100) # higher threshold fewer phrases.\n",
        "trigram = gensim.models.Phrases(bigram[df['token']], threshold=100)  \n",
        "\n",
        "# Faster way to get a sentence clubbed as a trigram/bigram\n",
        "bigram_mod = gensim.models.phrases.Phraser(bigram)\n",
        "trigram_mod = gensim.models.phrases.Phraser(trigram)\n"
      ],
      "execution_count": 44,
      "outputs": []
    },
    {
      "cell_type": "markdown",
      "metadata": {
        "id": "sRzfG9EhVMij"
      },
      "source": [
        "# Remove Stop words"
      ]
    },
    {
      "cell_type": "markdown",
      "source": [
        "## Define stop word removal functions"
      ],
      "metadata": {
        "id": "bZdjmF1dG78-"
      }
    },
    {
      "cell_type": "code",
      "metadata": {
        "id": "Y6-1VGIKB_ZU"
      },
      "source": [
        "# Define functions for stopwords, bigrams, trigrams and lemmatization\n",
        "def remove_stopwords(texts):\n",
        "    return [[word for word in simple_preprocess(str(doc)) if word not in stop_words] for doc in texts]\n",
        "\n",
        "def make_bigrams(texts):\n",
        "    return [bigram_mod[doc] for doc in texts]\n",
        "\n",
        "def make_trigrams(texts):\n",
        "    return [trigram_mod[bigram_mod[doc]] for doc in texts]\n",
        "\n",
        "def lemmatization(texts, allowed_postags=['NOUN', 'ADJ', 'VERB', 'ADV']):\n",
        "    nlp = spacy.load('en', disable=['parser', 'ner'])\n",
        "    \n",
        "    # allowed_list = ['jaws']\n",
        "    \"\"\"https://spacy.io/api/annotation\"\"\"\n",
        "    \n",
        "    texts_out = []\n",
        "    for sent in texts:\n",
        "        doc = nlp(\" \".join(sent)) \n",
        "        texts_out.append([token.lemma_ for token in doc if token.pos_ in allowed_postags])\n",
        "        #texts_out.append([token for token in doc if token.pos_ in allowed_postags])\n",
        "    return texts_out"
      ],
      "execution_count": 45,
      "outputs": []
    },
    {
      "cell_type": "markdown",
      "source": [
        "## Now, use stop word removal functions"
      ],
      "metadata": {
        "id": "Nkr9Kkp4HB_F"
      }
    },
    {
      "cell_type": "code",
      "metadata": {
        "colab": {
          "base_uri": "https://localhost:8080/",
          "height": 140
        },
        "id": "WGwNQZ0GV_Z2",
        "outputId": "e2c6182b-c03e-496a-90cb-07f413ebb33f"
      },
      "source": [
        "display('before: ', df['token'].head())"
      ],
      "execution_count": 46,
      "outputs": [
        {
          "output_type": "display_data",
          "data": {
            "text/plain": [
              "'before: '"
            ],
            "application/vnd.google.colaboratory.intrinsic+json": {
              "type": "string"
            }
          },
          "metadata": {}
        },
        {
          "output_type": "display_data",
          "data": {
            "text/plain": [
              "0    [karachi, the, sindh, government, has, decided...\n",
              "1    [hong, kong, asian, markets, started, on, an, ...\n",
              "2    [hong, kong, hong, kong, shares, opened, perce...\n",
              "3    [hong, kong, asian, markets, tumbled, tuesday,...\n",
              "4    [new, york, us, oil, prices, monday, slipped, ...\n",
              "Name: token, dtype: object"
            ]
          },
          "metadata": {}
        }
      ]
    },
    {
      "cell_type": "code",
      "metadata": {
        "id": "bO0Tk_UVB_ZU"
      },
      "source": [
        "# Remove Stop Words\n",
        "df['token'] = remove_stopwords(df['token'])\n",
        "\n",
        "# Form Bigrams\n",
        "# df['token'] = make_bigrams(df['token'])\n",
        "\n",
        "# Initialize spacy 'en' model, keeping only tagger component (for efficiency)\n",
        "# python3 -m spacy download en\n",
        "\n",
        "\n",
        "# Do lemmatization keeping only noun, adj, vb, adv\n",
        "df['token'] = lemmatization(df['token'], allowed_postags=['NOUN', 'ADJ', 'VERB', 'ADV'])"
      ],
      "execution_count": 47,
      "outputs": []
    },
    {
      "cell_type": "code",
      "metadata": {
        "id": "W9eq3h2kB_ZU",
        "colab": {
          "base_uri": "https://localhost:8080/",
          "height": 140
        },
        "outputId": "159f9733-b041-4e57-c669-1d46cefab62f"
      },
      "source": [
        "display('after: ' ,df['token'].head())"
      ],
      "execution_count": 48,
      "outputs": [
        {
          "output_type": "display_data",
          "data": {
            "text/plain": [
              "'after: '"
            ],
            "application/vnd.google.colaboratory.intrinsic+json": {
              "type": "string"
            }
          },
          "metadata": {}
        },
        {
          "output_type": "display_data",
          "data": {
            "text/plain": [
              "0    [government, decide, bring, public, transport,...\n",
              "1    [market, start, upswe, limited, trading, mainl...\n",
              "2    [share, open, percent, low, follow, tepid, lea...\n",
              "3    [tumble, follow, painful, loss, sit, year, low...\n",
              "4    [oil, price, slip, barrel, first, time, year, ...\n",
              "Name: token, dtype: object"
            ]
          },
          "metadata": {}
        }
      ]
    },
    {
      "cell_type": "code",
      "source": [
        "df.head(5)"
      ],
      "metadata": {
        "colab": {
          "base_uri": "https://localhost:8080/",
          "height": 285
        },
        "id": "Vf7PGyn77Q32",
        "outputId": "1c58c1fe-a31f-4adc-80b1-ff0d4d09377f"
      },
      "execution_count": 49,
      "outputs": [
        {
          "output_type": "execute_result",
          "data": {
            "text/plain": [
              "                                             Article      Date  \\\n",
              "0  KARACHI: The Sindh government has decided to b...  1/1/2015   \n",
              "1  HONG KONG: Asian markets started 2015 on an up...  1/2/2015   \n",
              "2  HONG KONG:  Hong Kong shares opened 0.66 perce...  1/5/2015   \n",
              "3  HONG KONG: Asian markets tumbled Tuesday follo...  1/6/2015   \n",
              "4  NEW YORK: US oil prices Monday slipped below $...  1/6/2015   \n",
              "\n",
              "                                             Heading  NewsType  \\\n",
              "0  sindh govt decides to cut public transport far...  business   \n",
              "1                    asia stocks up in new year trad  business   \n",
              "2           hong kong stocks open 0.66 percent lower  business   \n",
              "3             asian stocks sink euro near nine year   business   \n",
              "4                 us oil prices slip below 50 a barr  business   \n",
              "\n",
              "                                               token  \n",
              "0  [government, decide, bring, public, transport,...  \n",
              "1  [market, start, upswe, limited, trading, mainl...  \n",
              "2  [share, open, percent, low, follow, tepid, lea...  \n",
              "3  [tumble, follow, painful, loss, sit, year, low...  \n",
              "4  [oil, price, slip, barrel, first, time, year, ...  "
            ],
            "text/html": [
              "\n",
              "  <div id=\"df-57dc792a-06e5-4203-b99f-a0b8db47bb2a\">\n",
              "    <div class=\"colab-df-container\">\n",
              "      <div>\n",
              "<style scoped>\n",
              "    .dataframe tbody tr th:only-of-type {\n",
              "        vertical-align: middle;\n",
              "    }\n",
              "\n",
              "    .dataframe tbody tr th {\n",
              "        vertical-align: top;\n",
              "    }\n",
              "\n",
              "    .dataframe thead th {\n",
              "        text-align: right;\n",
              "    }\n",
              "</style>\n",
              "<table border=\"1\" class=\"dataframe\">\n",
              "  <thead>\n",
              "    <tr style=\"text-align: right;\">\n",
              "      <th></th>\n",
              "      <th>Article</th>\n",
              "      <th>Date</th>\n",
              "      <th>Heading</th>\n",
              "      <th>NewsType</th>\n",
              "      <th>token</th>\n",
              "    </tr>\n",
              "  </thead>\n",
              "  <tbody>\n",
              "    <tr>\n",
              "      <th>0</th>\n",
              "      <td>KARACHI: The Sindh government has decided to b...</td>\n",
              "      <td>1/1/2015</td>\n",
              "      <td>sindh govt decides to cut public transport far...</td>\n",
              "      <td>business</td>\n",
              "      <td>[government, decide, bring, public, transport,...</td>\n",
              "    </tr>\n",
              "    <tr>\n",
              "      <th>1</th>\n",
              "      <td>HONG KONG: Asian markets started 2015 on an up...</td>\n",
              "      <td>1/2/2015</td>\n",
              "      <td>asia stocks up in new year trad</td>\n",
              "      <td>business</td>\n",
              "      <td>[market, start, upswe, limited, trading, mainl...</td>\n",
              "    </tr>\n",
              "    <tr>\n",
              "      <th>2</th>\n",
              "      <td>HONG KONG:  Hong Kong shares opened 0.66 perce...</td>\n",
              "      <td>1/5/2015</td>\n",
              "      <td>hong kong stocks open 0.66 percent lower</td>\n",
              "      <td>business</td>\n",
              "      <td>[share, open, percent, low, follow, tepid, lea...</td>\n",
              "    </tr>\n",
              "    <tr>\n",
              "      <th>3</th>\n",
              "      <td>HONG KONG: Asian markets tumbled Tuesday follo...</td>\n",
              "      <td>1/6/2015</td>\n",
              "      <td>asian stocks sink euro near nine year</td>\n",
              "      <td>business</td>\n",
              "      <td>[tumble, follow, painful, loss, sit, year, low...</td>\n",
              "    </tr>\n",
              "    <tr>\n",
              "      <th>4</th>\n",
              "      <td>NEW YORK: US oil prices Monday slipped below $...</td>\n",
              "      <td>1/6/2015</td>\n",
              "      <td>us oil prices slip below 50 a barr</td>\n",
              "      <td>business</td>\n",
              "      <td>[oil, price, slip, barrel, first, time, year, ...</td>\n",
              "    </tr>\n",
              "  </tbody>\n",
              "</table>\n",
              "</div>\n",
              "      <button class=\"colab-df-convert\" onclick=\"convertToInteractive('df-57dc792a-06e5-4203-b99f-a0b8db47bb2a')\"\n",
              "              title=\"Convert this dataframe to an interactive table.\"\n",
              "              style=\"display:none;\">\n",
              "        \n",
              "  <svg xmlns=\"http://www.w3.org/2000/svg\" height=\"24px\"viewBox=\"0 0 24 24\"\n",
              "       width=\"24px\">\n",
              "    <path d=\"M0 0h24v24H0V0z\" fill=\"none\"/>\n",
              "    <path d=\"M18.56 5.44l.94 2.06.94-2.06 2.06-.94-2.06-.94-.94-2.06-.94 2.06-2.06.94zm-11 1L8.5 8.5l.94-2.06 2.06-.94-2.06-.94L8.5 2.5l-.94 2.06-2.06.94zm10 10l.94 2.06.94-2.06 2.06-.94-2.06-.94-.94-2.06-.94 2.06-2.06.94z\"/><path d=\"M17.41 7.96l-1.37-1.37c-.4-.4-.92-.59-1.43-.59-.52 0-1.04.2-1.43.59L10.3 9.45l-7.72 7.72c-.78.78-.78 2.05 0 2.83L4 21.41c.39.39.9.59 1.41.59.51 0 1.02-.2 1.41-.59l7.78-7.78 2.81-2.81c.8-.78.8-2.07 0-2.86zM5.41 20L4 18.59l7.72-7.72 1.47 1.35L5.41 20z\"/>\n",
              "  </svg>\n",
              "      </button>\n",
              "      \n",
              "  <style>\n",
              "    .colab-df-container {\n",
              "      display:flex;\n",
              "      flex-wrap:wrap;\n",
              "      gap: 12px;\n",
              "    }\n",
              "\n",
              "    .colab-df-convert {\n",
              "      background-color: #E8F0FE;\n",
              "      border: none;\n",
              "      border-radius: 50%;\n",
              "      cursor: pointer;\n",
              "      display: none;\n",
              "      fill: #1967D2;\n",
              "      height: 32px;\n",
              "      padding: 0 0 0 0;\n",
              "      width: 32px;\n",
              "    }\n",
              "\n",
              "    .colab-df-convert:hover {\n",
              "      background-color: #E2EBFA;\n",
              "      box-shadow: 0px 1px 2px rgba(60, 64, 67, 0.3), 0px 1px 3px 1px rgba(60, 64, 67, 0.15);\n",
              "      fill: #174EA6;\n",
              "    }\n",
              "\n",
              "    [theme=dark] .colab-df-convert {\n",
              "      background-color: #3B4455;\n",
              "      fill: #D2E3FC;\n",
              "    }\n",
              "\n",
              "    [theme=dark] .colab-df-convert:hover {\n",
              "      background-color: #434B5C;\n",
              "      box-shadow: 0px 1px 3px 1px rgba(0, 0, 0, 0.15);\n",
              "      filter: drop-shadow(0px 1px 2px rgba(0, 0, 0, 0.3));\n",
              "      fill: #FFFFFF;\n",
              "    }\n",
              "  </style>\n",
              "\n",
              "      <script>\n",
              "        const buttonEl =\n",
              "          document.querySelector('#df-57dc792a-06e5-4203-b99f-a0b8db47bb2a button.colab-df-convert');\n",
              "        buttonEl.style.display =\n",
              "          google.colab.kernel.accessAllowed ? 'block' : 'none';\n",
              "\n",
              "        async function convertToInteractive(key) {\n",
              "          const element = document.querySelector('#df-57dc792a-06e5-4203-b99f-a0b8db47bb2a');\n",
              "          const dataTable =\n",
              "            await google.colab.kernel.invokeFunction('convertToInteractive',\n",
              "                                                     [key], {});\n",
              "          if (!dataTable) return;\n",
              "\n",
              "          const docLinkHtml = 'Like what you see? Visit the ' +\n",
              "            '<a target=\"_blank\" href=https://colab.research.google.com/notebooks/data_table.ipynb>data table notebook</a>'\n",
              "            + ' to learn more about interactive tables.';\n",
              "          element.innerHTML = '';\n",
              "          dataTable['output_type'] = 'display_data';\n",
              "          await google.colab.output.renderOutput(dataTable, element);\n",
              "          const docLink = document.createElement('div');\n",
              "          docLink.innerHTML = docLinkHtml;\n",
              "          element.appendChild(docLink);\n",
              "        }\n",
              "      </script>\n",
              "    </div>\n",
              "  </div>\n",
              "  "
            ]
          },
          "metadata": {},
          "execution_count": 49
        }
      ]
    },
    {
      "cell_type": "code",
      "source": [
        "df['Country related news'] = df['Article'].str.split(':').str[0]\n",
        "\n",
        "df.head(5)"
      ],
      "metadata": {
        "colab": {
          "base_uri": "https://localhost:8080/",
          "height": 354
        },
        "id": "7HicWQaL9NSO",
        "outputId": "4ab1d63b-8e02-4164-e87b-f189d234a8d3"
      },
      "execution_count": 51,
      "outputs": [
        {
          "output_type": "execute_result",
          "data": {
            "text/plain": [
              "                                             Article      Date  \\\n",
              "0  KARACHI: The Sindh government has decided to b...  1/1/2015   \n",
              "1  HONG KONG: Asian markets started 2015 on an up...  1/2/2015   \n",
              "2  HONG KONG:  Hong Kong shares opened 0.66 perce...  1/5/2015   \n",
              "3  HONG KONG: Asian markets tumbled Tuesday follo...  1/6/2015   \n",
              "4  NEW YORK: US oil prices Monday slipped below $...  1/6/2015   \n",
              "\n",
              "                                             Heading  NewsType  \\\n",
              "0  sindh govt decides to cut public transport far...  business   \n",
              "1                    asia stocks up in new year trad  business   \n",
              "2           hong kong stocks open 0.66 percent lower  business   \n",
              "3             asian stocks sink euro near nine year   business   \n",
              "4                 us oil prices slip below 50 a barr  business   \n",
              "\n",
              "                                               token Country related news  \n",
              "0  [government, decide, bring, public, transport,...              KARACHI  \n",
              "1  [market, start, upswe, limited, trading, mainl...            HONG KONG  \n",
              "2  [share, open, percent, low, follow, tepid, lea...            HONG KONG  \n",
              "3  [tumble, follow, painful, loss, sit, year, low...            HONG KONG  \n",
              "4  [oil, price, slip, barrel, first, time, year, ...             NEW YORK  "
            ],
            "text/html": [
              "\n",
              "  <div id=\"df-9ba88dc1-629d-46fe-8074-0af0933209fc\">\n",
              "    <div class=\"colab-df-container\">\n",
              "      <div>\n",
              "<style scoped>\n",
              "    .dataframe tbody tr th:only-of-type {\n",
              "        vertical-align: middle;\n",
              "    }\n",
              "\n",
              "    .dataframe tbody tr th {\n",
              "        vertical-align: top;\n",
              "    }\n",
              "\n",
              "    .dataframe thead th {\n",
              "        text-align: right;\n",
              "    }\n",
              "</style>\n",
              "<table border=\"1\" class=\"dataframe\">\n",
              "  <thead>\n",
              "    <tr style=\"text-align: right;\">\n",
              "      <th></th>\n",
              "      <th>Article</th>\n",
              "      <th>Date</th>\n",
              "      <th>Heading</th>\n",
              "      <th>NewsType</th>\n",
              "      <th>token</th>\n",
              "      <th>Country related news</th>\n",
              "    </tr>\n",
              "  </thead>\n",
              "  <tbody>\n",
              "    <tr>\n",
              "      <th>0</th>\n",
              "      <td>KARACHI: The Sindh government has decided to b...</td>\n",
              "      <td>1/1/2015</td>\n",
              "      <td>sindh govt decides to cut public transport far...</td>\n",
              "      <td>business</td>\n",
              "      <td>[government, decide, bring, public, transport,...</td>\n",
              "      <td>KARACHI</td>\n",
              "    </tr>\n",
              "    <tr>\n",
              "      <th>1</th>\n",
              "      <td>HONG KONG: Asian markets started 2015 on an up...</td>\n",
              "      <td>1/2/2015</td>\n",
              "      <td>asia stocks up in new year trad</td>\n",
              "      <td>business</td>\n",
              "      <td>[market, start, upswe, limited, trading, mainl...</td>\n",
              "      <td>HONG KONG</td>\n",
              "    </tr>\n",
              "    <tr>\n",
              "      <th>2</th>\n",
              "      <td>HONG KONG:  Hong Kong shares opened 0.66 perce...</td>\n",
              "      <td>1/5/2015</td>\n",
              "      <td>hong kong stocks open 0.66 percent lower</td>\n",
              "      <td>business</td>\n",
              "      <td>[share, open, percent, low, follow, tepid, lea...</td>\n",
              "      <td>HONG KONG</td>\n",
              "    </tr>\n",
              "    <tr>\n",
              "      <th>3</th>\n",
              "      <td>HONG KONG: Asian markets tumbled Tuesday follo...</td>\n",
              "      <td>1/6/2015</td>\n",
              "      <td>asian stocks sink euro near nine year</td>\n",
              "      <td>business</td>\n",
              "      <td>[tumble, follow, painful, loss, sit, year, low...</td>\n",
              "      <td>HONG KONG</td>\n",
              "    </tr>\n",
              "    <tr>\n",
              "      <th>4</th>\n",
              "      <td>NEW YORK: US oil prices Monday slipped below $...</td>\n",
              "      <td>1/6/2015</td>\n",
              "      <td>us oil prices slip below 50 a barr</td>\n",
              "      <td>business</td>\n",
              "      <td>[oil, price, slip, barrel, first, time, year, ...</td>\n",
              "      <td>NEW YORK</td>\n",
              "    </tr>\n",
              "  </tbody>\n",
              "</table>\n",
              "</div>\n",
              "      <button class=\"colab-df-convert\" onclick=\"convertToInteractive('df-9ba88dc1-629d-46fe-8074-0af0933209fc')\"\n",
              "              title=\"Convert this dataframe to an interactive table.\"\n",
              "              style=\"display:none;\">\n",
              "        \n",
              "  <svg xmlns=\"http://www.w3.org/2000/svg\" height=\"24px\"viewBox=\"0 0 24 24\"\n",
              "       width=\"24px\">\n",
              "    <path d=\"M0 0h24v24H0V0z\" fill=\"none\"/>\n",
              "    <path d=\"M18.56 5.44l.94 2.06.94-2.06 2.06-.94-2.06-.94-.94-2.06-.94 2.06-2.06.94zm-11 1L8.5 8.5l.94-2.06 2.06-.94-2.06-.94L8.5 2.5l-.94 2.06-2.06.94zm10 10l.94 2.06.94-2.06 2.06-.94-2.06-.94-.94-2.06-.94 2.06-2.06.94z\"/><path d=\"M17.41 7.96l-1.37-1.37c-.4-.4-.92-.59-1.43-.59-.52 0-1.04.2-1.43.59L10.3 9.45l-7.72 7.72c-.78.78-.78 2.05 0 2.83L4 21.41c.39.39.9.59 1.41.59.51 0 1.02-.2 1.41-.59l7.78-7.78 2.81-2.81c.8-.78.8-2.07 0-2.86zM5.41 20L4 18.59l7.72-7.72 1.47 1.35L5.41 20z\"/>\n",
              "  </svg>\n",
              "      </button>\n",
              "      \n",
              "  <style>\n",
              "    .colab-df-container {\n",
              "      display:flex;\n",
              "      flex-wrap:wrap;\n",
              "      gap: 12px;\n",
              "    }\n",
              "\n",
              "    .colab-df-convert {\n",
              "      background-color: #E8F0FE;\n",
              "      border: none;\n",
              "      border-radius: 50%;\n",
              "      cursor: pointer;\n",
              "      display: none;\n",
              "      fill: #1967D2;\n",
              "      height: 32px;\n",
              "      padding: 0 0 0 0;\n",
              "      width: 32px;\n",
              "    }\n",
              "\n",
              "    .colab-df-convert:hover {\n",
              "      background-color: #E2EBFA;\n",
              "      box-shadow: 0px 1px 2px rgba(60, 64, 67, 0.3), 0px 1px 3px 1px rgba(60, 64, 67, 0.15);\n",
              "      fill: #174EA6;\n",
              "    }\n",
              "\n",
              "    [theme=dark] .colab-df-convert {\n",
              "      background-color: #3B4455;\n",
              "      fill: #D2E3FC;\n",
              "    }\n",
              "\n",
              "    [theme=dark] .colab-df-convert:hover {\n",
              "      background-color: #434B5C;\n",
              "      box-shadow: 0px 1px 3px 1px rgba(0, 0, 0, 0.15);\n",
              "      filter: drop-shadow(0px 1px 2px rgba(0, 0, 0, 0.3));\n",
              "      fill: #FFFFFF;\n",
              "    }\n",
              "  </style>\n",
              "\n",
              "      <script>\n",
              "        const buttonEl =\n",
              "          document.querySelector('#df-9ba88dc1-629d-46fe-8074-0af0933209fc button.colab-df-convert');\n",
              "        buttonEl.style.display =\n",
              "          google.colab.kernel.accessAllowed ? 'block' : 'none';\n",
              "\n",
              "        async function convertToInteractive(key) {\n",
              "          const element = document.querySelector('#df-9ba88dc1-629d-46fe-8074-0af0933209fc');\n",
              "          const dataTable =\n",
              "            await google.colab.kernel.invokeFunction('convertToInteractive',\n",
              "                                                     [key], {});\n",
              "          if (!dataTable) return;\n",
              "\n",
              "          const docLinkHtml = 'Like what you see? Visit the ' +\n",
              "            '<a target=\"_blank\" href=https://colab.research.google.com/notebooks/data_table.ipynb>data table notebook</a>'\n",
              "            + ' to learn more about interactive tables.';\n",
              "          element.innerHTML = '';\n",
              "          dataTable['output_type'] = 'display_data';\n",
              "          await google.colab.output.renderOutput(dataTable, element);\n",
              "          const docLink = document.createElement('div');\n",
              "          docLink.innerHTML = docLinkHtml;\n",
              "          element.appendChild(docLink);\n",
              "        }\n",
              "      </script>\n",
              "    </div>\n",
              "  </div>\n",
              "  "
            ]
          },
          "metadata": {},
          "execution_count": 51
        }
      ]
    },
    {
      "cell_type": "code",
      "source": [
        "# Using plotly.express\n",
        "import plotly.express as px\n",
        "import plotly.graph_objects as go\n",
        "\n",
        "fig = px.area(\n",
        "    data_frame = df, \n",
        "    x='Date', \n",
        "    y='NewsType', \n",
        "    title='NewsType vs Dates'\n",
        ")\n",
        "\n",
        "fig.show()"
      ],
      "metadata": {
        "colab": {
          "base_uri": "https://localhost:8080/",
          "height": 542
        },
        "id": "SAheJzc28goZ",
        "outputId": "d36f70d6-b30d-4ffd-ef8d-13d4257447ec"
      },
      "execution_count": 53,
      "outputs": [
        {
          "output_type": "display_data",
          "data": {
            "text/html": [
              "<html>\n",
              "<head><meta charset=\"utf-8\" /></head>\n",
              "<body>\n",
              "    <div>            <script src=\"https://cdnjs.cloudflare.com/ajax/libs/mathjax/2.7.5/MathJax.js?config=TeX-AMS-MML_SVG\"></script><script type=\"text/javascript\">if (window.MathJax) {MathJax.Hub.Config({SVG: {font: \"STIX-Web\"}});}</script>                <script type=\"text/javascript\">window.PlotlyConfig = {MathJaxConfig: 'local'};</script>\n",
              "        <script src=\"https://cdn.plot.ly/plotly-2.8.3.min.js\"></script>                <div id=\"05a8282a-eaa8-43e4-8d8e-aca8bce1f97f\" class=\"plotly-graph-div\" style=\"height:525px; width:100%;\"></div>            <script type=\"text/javascript\">                                    window.PLOTLYENV=window.PLOTLYENV || {};                                    if (document.getElementById(\"05a8282a-eaa8-43e4-8d8e-aca8bce1f97f\")) {                    Plotly.newPlot(                        \"05a8282a-eaa8-43e4-8d8e-aca8bce1f97f\",                        [{\"hovertemplate\":\"Date=%{x}<br>NewsType=%{y}<extra></extra>\",\"legendgroup\":\"\",\"line\":{\"color\":\"#636efa\"},\"marker\":{\"symbol\":\"circle\"},\"mode\":\"lines\",\"name\":\"\",\"orientation\":\"v\",\"showlegend\":false,\"stackgroup\":\"1\",\"x\":[\"1/1/2015\",\"1/2/2015\",\"1/5/2015\",\"1/6/2015\",\"1/6/2015\",\"1/7/2015\",\"1/9/2015\",\"1/12/2015\",\"1/13/2015\",\"1/14/2015\",\"1/14/2015\",\"1/15/2015\",\"1/16/2015\",\"1/16/2015\",\"1/19/2015\",\"1/20/2015\",\"1/21/2015\",\"1/22/2015\",\"1/23/2015\",\"1/23/2015\",\"1/23/2015\",\"1/25/2015\",\"1/26/2015\",\"1/27/2015\",\"1/27/2015\",\"1/28/2015\",\"1/29/2015\",\"1/29/2015\",\"1/31/2015\",\"2/2/2015\",\"2/4/2015\",\"2/4/2015\",\"2/5/2015\",\"2/5/2015\",\"2/6/2015\",\"2/6/2015\",\"2/6/2015\",\"2/6/2015\",\"2/7/2015\",\"2/9/2015\",\"2/9/2015\",\"2/10/2015\",\"2/11/2015\",\"2/11/2015\",\"2/11/2015\",\"2/12/2015\",\"2/12/2015\",\"2/12/2015\",\"2/12/2015\",\"2/13/2015\",\"2/16/2015\",\"2/17/2015\",\"2/18/2015\",\"2/18/2015\",\"2/19/2015\",\"2/19/2015\",\"2/20/2015\",\"2/21/2015\",\"2/23/2015\",\"2/23/2015\",\"2/23/2015\",\"2/24/2015\",\"2/24/2015\",\"2/26/2015\",\"2/27/2015\",\"2/27/2015\",\"3/2/2015\",\"3/2/2015\",\"3/3/2015\",\"3/4/2015\",\"3/6/2015\",\"3/7/2015\",\"3/9/2015\",\"3/9/2015\",\"3/10/2015\",\"3/11/2015\",\"3/12/2015\",\"3/12/2015\",\"3/13/2015\",\"3/14/2015\",\"3/16/2015\",\"3/16/2015\",\"3/17/2015\",\"3/17/2015\",\"3/18/2015\",\"3/18/2015\",\"3/19/2015\",\"3/21/2015\",\"3/24/2015\",\"3/25/2015\",\"3/25/2015\",\"3/26/2015\",\"3/26/2015\",\"3/27/2015\",\"3/30/2015\",\"3/30/2015\",\"3/31/2015\",\"3/31/2015\",\"3/31/2015\",\"4/1/2015\",\"4/1/2015\",\"4/2/2015\",\"4/3/2015\",\"4/3/2015\",\"4/6/2015\",\"4/7/2015\",\"4/8/2015\",\"4/9/2015\",\"4/10/2015\",\"4/11/2015\",\"4/12/2015\",\"4/13/2015\",\"4/13/2015\",\"4/15/2015\",\"4/16/2015\",\"4/17/2015\",\"4/21/2015\",\"4/21/2015\",\"4/22/2015\",\"4/22/2015\",\"4/22/2015\",\"4/23/2015\",\"4/24/2015\",\"4/24/2015\",\"4/25/2015\",\"4/27/2015\",\"4/28/2015\",\"4/28/2015\",\"4/29/2015\",\"4/29/2015\",\"4/30/2015\",\"4/30/2015\",\"5/1/2015\",\"5/5/2015\",\"5/5/2015\",\"5/6/2015\",\"5/7/2015\",\"5/7/2015\",\"5/7/2015\",\"5/8/2015\",\"5/10/2015\",\"5/11/2015\",\"5/11/2015\",\"5/11/2015\",\"5/12/2015\",\"5/12/2015\",\"5/14/2015\",\"5/14/2015\",\"5/15/2015\",\"5/17/2015\",\"5/18/2015\",\"5/19/2015\",\"5/20/2015\",\"5/20/2015\",\"5/20/2015\",\"5/21/2015\",\"5/22/2015\",\"5/23/2015\",\"5/25/2015\",\"5/26/2015\",\"5/27/2015\",\"5/29/2015\",\"5/29/2015\",\"5/29/2015\",\"6/1/2015\",\"6/2/2015\",\"6/2/2015\",\"6/3/2015\",\"6/4/2015\",\"6/4/2015\",\"6/5/2015\",\"6/6/2015\",\"6/8/2015\",\"6/9/2015\",\"6/11/2015\",\"6/12/2015\",\"6/12/2015\",\"6/13/2015\",\"6/14/2015\",\"6/15/2015\",\"6/16/2015\",\"6/16/2015\",\"6/16/2015\",\"6/17/2015\",\"6/17/2015\",\"6/18/2015\",\"6/20/2015\",\"6/22/2015\",\"6/23/2015\",\"6/25/2015\",\"6/28/2015\",\"6/30/2015\",\"6/30/2015\",\"6/30/2015\",\"7/1/2015\",\"7/1/2015\",\"7/3/2015\",\"7/4/2015\",\"7/8/2015\",\"7/9/2015\",\"7/9/2015\",\"7/9/2015\",\"7/9/2015\",\"7/9/2015\",\"7/10/2015\",\"7/11/2015\",\"7/11/2015\",\"7/11/2015\",\"7/14/2015\",\"7/14/2015\",\"7/15/2015\",\"7/16/2015\",\"7/16/2015\",\"7/18/2015\",\"7/21/2015\",\"7/21/2015\",\"7/21/2015\",\"7/22/2015\",\"7/22/2015\",\"7/23/2015\",\"7/24/2015\",\"7/25/2015\",\"7/27/2015\",\"7/28/2015\",\"7/28/2015\",\"7/29/2015\",\"7/29/2015\",\"7/31/2015\",\"8/1/2015\",\"8/2/2015\",\"8/3/2015\",\"8/4/2015\",\"8/5/2015\",\"8/6/2015\",\"8/7/2015\",\"8/8/2015\",\"8/10/2015\",\"8/11/2015\",\"8/11/2015\",\"8/11/2015\",\"8/12/2015\",\"8/12/2015\",\"8/13/2015\",\"8/17/2015\",\"8/17/2015\",\"8/18/2015\",\"8/19/2015\",\"8/20/2015\",\"8/21/2015\",\"8/22/2015\",\"8/23/2015\",\"8/24/2015\",\"8/24/2015\",\"8/24/2015\",\"8/24/2015\",\"8/25/2015\",\"8/25/2015\",\"8/25/2015\",\"8/25/2015\",\"8/26/2015\",\"8/27/2015\",\"8/27/2015\",\"8/28/2015\",\"8/28/2015\",\"8/28/2015\",\"8/29/2015\",\"8/29/2015\",\"9/1/2015\",\"9/1/2015\",\"9/2/2015\",\"9/3/2015\",\"9/4/2015\",\"9/5/2015\",\"9/5/2015\",\"9/7/2015\",\"9/7/2015\",\"9/8/2015\",\"9/8/2015\",\"9/9/2015\",\"9/9/2015\",\"9/9/2015\",\"9/9/2015\",\"9/9/2015\",\"9/10/2015\",\"9/10/2015\",\"9/11/2015\",\"9/11/2015\",\"9/12/2015\",\"9/12/2015\",\"9/14/2015\",\"9/14/2015\",\"9/15/2015\",\"9/15/2015\",\"9/16/2015\",\"9/17/2015\",\"9/18/2015\",\"9/21/2015\",\"9/22/2015\",\"9/23/2015\",\"9/23/2015\",\"9/24/2015\",\"9/28/2015\",\"9/28/2015\",\"9/29/2015\",\"9/29/2015\",\"9/30/2015\",\"9/30/2015\",\"9/30/2015\",\"10/1/2015\",\"10/1/2015\",\"10/2/2015\",\"10/4/2015\",\"10/5/2015\",\"10/5/2015\",\"10/5/2015\",\"10/6/2015\",\"10/6/2015\",\"10/7/2015\",\"10/7/2015\",\"10/8/2015\",\"10/8/2015\",\"10/11/2015\",\"10/13/2015\",\"10/14/2015\",\"10/15/2015\",\"10/16/2015\",\"10/17/2015\",\"10/19/2015\",\"10/19/2015\",\"10/21/2015\",\"10/22/2015\",\"10/22/2015\",\"10/22/2015\",\"10/26/2015\",\"10/27/2015\",\"10/27/2015\",\"10/28/2015\",\"10/28/2015\",\"10/28/2015\",\"10/29/2015\",\"11/1/2015\",\"11/2/2015\",\"11/2/2015\",\"11/3/2015\",\"11/4/2015\",\"11/5/2015\",\"11/5/2015\",\"11/6/2015\",\"11/10/2015\",\"11/11/2015\",\"11/11/2015\",\"11/12/2015\",\"11/13/2015\",\"11/15/2015\",\"11/16/2015\",\"11/17/2015\",\"11/17/2015\",\"11/18/2015\",\"11/20/2015\",\"11/21/2015\",\"11/23/2015\",\"11/24/2015\",\"11/24/2015\",\"11/25/2015\",\"11/26/2015\",\"11/26/2015\",\"11/26/2015\",\"11/26/2015\",\"11/26/2015\",\"11/27/2015\",\"11/30/2015\",\"11/30/2015\",\"12/1/2015\",\"12/2/2015\",\"12/4/2015\",\"12/4/2015\",\"12/5/2015\",\"12/7/2015\",\"12/7/2015\",\"12/8/2015\",\"12/8/2015\",\"12/9/2015\",\"12/9/2015\",\"12/10/2015\",\"12/11/2015\",\"12/12/2015\",\"12/13/2015\",\"12/14/2015\",\"12/15/2015\",\"12/16/2015\",\"12/17/2015\",\"12/18/2015\",\"12/19/2015\",\"12/21/2015\",\"12/21/2015\",\"12/22/2015\",\"12/23/2015\",\"12/24/2015\",\"12/26/2015\",\"12/28/2015\",\"12/28/2015\",\"12/28/2015\",\"12/28/2015\",\"12/29/2015\",\"12/29/2015\",\"12/29/2015\",\"12/29/2015\",\"12/30/2015\",\"12/30/2015\",\"12/30/2015\",\"12/30/2015\",\"1/1/2016\",\"1/2/2016\",\"1/4/2016\",\"1/4/2016\",\"1/4/2016\",\"1/5/2016\",\"1/6/2016\",\"1/6/2016\",\"1/6/2016\",\"1/6/2016\",\"1/7/2016\",\"1/7/2016\",\"1/8/2016\",\"1/8/2016\",\"1/9/2016\",\"1/10/2016\",\"1/11/2016\",\"1/11/2016\",\"1/11/2016\",\"1/12/2016\",\"1/12/2016\",\"1/13/2016\",\"1/14/2016\",\"1/15/2016\",\"1/16/2016\",\"1/16/2016\",\"1/16/2016\",\"1/17/2016\",\"1/18/2016\",\"1/18/2016\",\"1/19/2016\",\"1/20/2016\",\"1/21/2016\",\"1/22/2016\",\"1/25/2016\",\"1/25/2016\",\"1/26/2016\",\"1/28/2016\",\"1/29/2016\",\"1/30/2016\",\"1/30/2016\",\"1/31/2016\",\"2/1/2016\",\"2/1/2016\",\"2/2/2016\",\"2/4/2016\",\"2/5/2016\",\"2/8/2016\",\"2/9/2016\",\"2/9/2016\",\"2/9/2016\",\"2/9/2016\",\"2/9/2016\",\"2/10/2016\",\"2/10/2016\",\"2/10/2016\",\"2/10/2016\",\"2/11/2016\",\"2/11/2016\",\"2/12/2016\",\"2/13/2016\",\"2/14/2016\",\"2/15/2016\",\"2/16/2016\",\"2/16/2016\",\"2/16/2016\",\"2/16/2016\",\"2/17/2016\",\"2/17/2016\",\"2/18/2016\",\"2/19/2016\",\"2/20/2016\",\"2/22/2016\",\"2/22/2016\",\"2/23/2016\",\"2/23/2016\",\"2/24/2016\",\"2/25/2016\",\"2/26/2016\",\"2/27/2016\",\"2/28/2016\",\"2/28/2016\",\"2/29/2016\",\"2/29/2016\",\"3/1/2016\",\"3/1/2016\",\"3/2/2016\",\"3/3/2016\",\"3/3/2016\",\"3/4/2016\",\"3/5/2016\",\"3/5/2016\",\"3/6/2016\",\"3/7/2016\",\"3/1/2016\",\"3/1/2016\",\"3/2/2016\",\"3/3/2016\",\"3/3/2016\",\"3/4/2016\",\"3/5/2016\",\"3/5/2016\",\"3/6/2016\",\"3/7/2016\",\"3/8/2016\",\"3/9/2016\",\"3/11/2016\",\"3/12/2016\",\"3/13/2016\",\"3/14/2016\",\"3/15/2016\",\"3/15/2016\",\"3/15/2016\",\"3/15/2016\",\"3/15/2016\",\"3/16/2016\",\"3/17/2016\",\"3/18/2016\",\"3/18/2016\",\"3/20/2016\",\"3/21/2016\",\"3/21/2016\",\"3/21/2016\",\"3/22/2016\",\"3/22/2016\",\"3/24/2016\",\"3/24/2016\",\"3/25/2016\",\"3/28/2016\",\"3/29/2016\",\"3/29/2016\",\"3/30/2016\",\"3/30/2016\",\"3/31/2016\",\"3/31/2016\",\"3/31/2016\",\"4/1/2016\",\"4/2/2016\",\"4/2/2016\",\"4/4/2016\",\"4/5/2016\",\"4/6/2016\",\"4/6/2016\",\"4/7/2016\",\"4/8/2016\",\"4/9/2016\",\"4/9/2016\",\"4/11/2016\",\"4/12/2016\",\"4/12/2016\",\"4/12/2016\",\"4/12/2016\",\"4/13/2016\",\"4/14/2016\",\"4/14/2016\",\"4/14/2016\",\"4/15/2016\",\"4/16/2016\",\"4/17/2016\",\"4/18/2016\",\"4/19/2016\",\"4/19/2016\",\"4/20/2016\",\"4/21/2016\",\"4/22/2016\",\"4/22/2016\",\"4/23/2016\",\"4/24/2016\",\"4/24/2016\",\"4/25/2016\",\"4/25/2016\",\"4/26/2016\",\"4/26/2016\",\"4/26/2016\",\"4/27/2016\",\"4/28/2016\",\"4/28/2016\",\"4/28/2016\",\"4/28/2016\",\"4/29/2016\",\"4/29/2016\",\"4/29/2016\",\"4/30/2016\",\"5/1/2016\",\"5/1/2016\",\"5/2/2016\",\"5/2/2016\",\"5/3/2016\",\"5/3/2016\",\"5/3/2016\",\"5/3/2016\",\"5/4/2016\",\"5/5/2016\",\"5/5/2016\",\"5/6/2016\",\"5/6/2016\",\"5/6/2016\",\"5/6/2016\",\"5/6/2016\",\"5/7/2016\",\"5/7/2016\",\"5/8/2016\",\"5/9/2016\",\"5/9/2016\",\"5/10/2016\",\"5/10/2016\",\"5/10/2016\",\"5/10/2016\",\"5/10/2016\",\"5/11/2016\",\"5/11/2016\",\"5/11/2016\",\"5/11/2016\",\"5/11/2016\",\"5/12/2016\",\"5/12/2016\",\"5/13/2016\",\"5/13/2016\",\"5/13/2016\",\"5/13/2016\",\"5/13/2016\",\"5/13/2016\",\"5/14/2016\",\"5/14/2016\",\"5/15/2016\",\"5/16/2016\",\"5/16/2016\",\"5/16/2016\",\"5/16/2016\",\"5/17/2016\",\"5/17/2016\",\"5/17/2016\",\"5/17/2016\",\"5/18/2016\",\"5/18/2016\",\"5/19/2016\",\"5/19/2016\",\"5/19/2016\",\"5/19/2016\",\"5/20/2016\",\"5/20/2016\",\"5/20/2016\",\"5/20/2016\",\"5/20/2016\",\"5/21/2016\",\"5/21/2016\",\"5/21/2016\",\"5/21/2016\",\"5/22/2016\",\"5/22/2016\",\"5/23/2016\",\"5/23/2016\",\"5/23/2016\",\"5/23/2016\",\"5/23/2016\",\"5/24/2016\",\"5/24/2016\",\"5/24/2016\",\"5/24/2016\",\"5/25/2016\",\"5/25/2016\",\"5/25/2016\",\"5/25/2016\",\"5/25/2016\",\"5/26/2016\",\"5/26/2016\",\"5/26/2016\",\"5/27/2016\",\"5/27/2016\",\"5/28/2016\",\"5/28/2016\",\"5/29/2016\",\"5/30/2016\",\"5/30/2016\",\"5/30/2016\",\"5/30/2016\",\"5/31/2016\",\"5/31/2016\",\"5/31/2016\",\"6/1/2016\",\"6/1/2016\",\"6/1/2016\",\"6/2/2016\",\"6/2/2016\",\"6/3/2016\",\"6/3/2016\",\"6/3/2016\",\"6/3/2016\",\"6/4/2016\",\"6/4/2016\",\"6/5/2016\",\"6/5/2016\",\"6/6/2016\",\"6/6/2016\",\"6/6/2016\",\"6/7/2016\",\"6/7/2016\",\"6/7/2016\",\"6/8/2016\",\"6/8/2016\",\"6/8/2016\",\"6/9/2016\",\"6/9/2016\",\"6/10/2016\",\"6/10/2016\",\"6/10/2016\",\"6/12/2016\",\"6/13/2016\",\"6/13/2016\",\"6/13/2016\",\"6/14/2016\",\"6/15/2016\",\"6/15/2016\",\"6/16/2016\",\"6/16/2016\",\"6/17/2016\",\"6/17/2016\",\"6/17/2016\",\"6/20/2016\",\"6/20/2016\",\"6/20/2016\",\"6/20/2016\",\"6/21/2016\",\"6/21/2016\",\"6/21/2016\",\"6/22/2016\",\"6/22/2016\",\"6/23/2016\",\"6/23/2016\",\"6/23/2016\",\"6/23/2016\",\"6/24/2016\",\"6/24/2016\",\"6/24/2016\",\"6/24/2016\",\"6/24/2016\",\"6/25/2016\",\"6/25/2016\",\"6/25/2016\",\"6/27/2016\",\"6/27/2016\",\"6/27/2016\",\"6/28/2016\",\"6/28/2016\",\"6/28/2016\",\"6/29/2016\",\"6/29/2016\",\"6/29/2016\",\"6/29/2016\",\"6/29/2016\",\"6/29/2016\",\"6/29/2016\",\"6/29/2016\",\"6/29/2016\",\"6/30/2016\",\"6/30/2016\",\"6/30/2016\",\"7/1/2016\",\"7/1/2016\",\"7/1/2016\",\"7/1/2016\",\"7/2/2016\",\"7/4/2016\",\"7/4/2016\",\"7/5/2016\",\"7/5/2016\",\"7/6/2016\",\"7/7/2016\",\"7/7/2016\",\"7/7/2016\",\"7/7/2016\",\"7/8/2016\",\"7/8/2016\",\"7/8/2016\",\"7/9/2016\",\"7/10/2016\",\"7/11/2016\",\"7/12/2016\",\"7/12/2016\",\"7/13/2016\",\"7/13/2016\",\"7/14/2016\",\"7/15/2016\",\"7/15/2016\",\"7/15/2016\",\"7/15/2016\",\"7/18/2016\",\"7/18/2016\",\"7/18/2016\",\"7/19/2016\",\"7/19/2016\",\"7/20/2016\",\"7/20/2016\",\"7/20/2016\",\"7/21/2016\",\"7/21/2016\",\"7/22/2016\",\"7/22/2016\",\"7/22/2016\",\"7/23/2016\",\"7/23/2016\",\"7/24/2016\",\"7/25/2016\",\"7/25/2016\",\"7/26/2016\",\"7/26/2016\",\"7/26/2016\",\"7/27/2016\",\"7/27/2016\",\"7/28/2016\",\"7/28/2016\",\"7/29/2016\",\"7/29/2016\",\"7/30/2016\",\"7/30/2016\",\"8/1/2016\",\"8/1/2016\",\"8/1/2016\",\"8/1/2016\",\"8/2/2016\",\"8/2/2016\",\"8/3/2016\",\"8/4/2016\",\"8/4/2016\",\"8/5/2016\",\"8/5/2016\",\"8/1/2016\",\"8/1/2016\",\"8/1/2016\",\"8/1/2016\",\"8/2/2016\",\"8/2/2016\",\"8/3/2016\",\"8/4/2016\",\"8/4/2016\",\"8/5/2016\",\"8/5/2016\",\"8/6/2016\",\"8/8/2016\",\"8/8/2016\",\"8/8/2016\",\"8/8/2016\",\"8/9/2016\",\"8/10/2016\",\"8/10/2016\",\"8/11/2016\",\"8/11/2016\",\"8/11/2016\",\"8/12/2016\",\"8/12/2016\",\"8/13/2016\",\"8/15/2016\",\"8/15/2016\",\"8/15/2016\",\"8/16/2016\",\"8/16/2016\",\"8/17/2016\",\"8/17/2016\",\"8/18/2016\",\"8/18/2016\",\"8/1/2016\",\"8/1/2016\",\"8/1/2016\",\"8/1/2016\",\"8/2/2016\",\"8/2/2016\",\"8/3/2016\",\"8/4/2016\",\"8/4/2016\",\"8/5/2016\",\"8/5/2016\",\"8/6/2016\",\"8/8/2016\",\"8/8/2016\",\"8/8/2016\",\"8/8/2016\",\"8/9/2016\",\"8/10/2016\",\"8/10/2016\",\"8/11/2016\",\"8/11/2016\",\"8/11/2016\",\"8/1/2016\",\"8/1/2016\",\"8/1/2016\",\"8/1/2016\",\"8/2/2016\",\"8/2/2016\",\"8/3/2016\",\"8/4/2016\",\"8/4/2016\",\"8/5/2016\",\"8/5/2016\",\"8/6/2016\",\"8/1/2016\",\"8/1/2016\",\"8/1/2016\",\"8/1/2016\",\"8/2/2016\",\"8/2/2016\",\"8/3/2016\",\"8/4/2016\",\"8/4/2016\",\"8/5/2016\",\"8/5/2016\",\"8/6/2016\",\"8/8/2016\",\"8/8/2016\",\"8/8/2016\",\"8/8/2016\",\"8/9/2016\",\"8/10/2016\",\"8/10/2016\",\"8/11/2016\",\"8/11/2016\",\"8/11/2016\",\"8/12/2016\",\"8/12/2016\",\"8/13/2016\",\"8/15/2016\",\"8/15/2016\",\"8/15/2016\",\"8/16/2016\",\"8/16/2016\",\"8/17/2016\",\"8/17/2016\",\"8/18/2016\",\"8/18/2016\",\"8/19/2016\",\"8/19/2016\",\"8/19/2016\",\"8/19/2016\",\"8/20/2016\",\"8/22/2016\",\"8/22/2016\",\"8/23/2016\",\"8/23/2016\",\"8/23/2016\",\"8/24/2016\",\"8/24/2016\",\"8/25/2016\",\"8/25/2016\",\"8/26/2016\",\"8/26/2016\",\"8/27/2016\",\"8/27/2016\",\"8/28/2016\",\"8/29/2016\",\"8/29/2016\",\"8/29/2016\",\"8/30/2016\",\"9/1/2016\",\"9/2/2016\",\"9/2/2016\",\"9/2/2016\",\"9/2/2016\",\"9/2/2016\",\"9/3/2016\",\"9/3/2016\",\"9/3/2016\",\"9/5/2016\",\"9/5/2016\",\"9/5/2016\",\"9/5/2016\",\"9/5/2016\",\"9/5/2016\",\"9/6/2016\",\"9/6/2016\",\"9/7/2016\",\"9/7/2016\",\"9/7/2016\",\"9/8/2016\",\"9/9/2016\",\"9/9/2016\",\"9/10/2016\",\"9/10/2016\",\"9/12/2016\",\"9/12/2016\",\"9/12/2016\",\"9/14/2016\",\"9/16/2016\",\"9/17/2016\",\"9/19/2016\",\"9/20/2016\",\"9/21/2016\",\"9/22/2016\",\"9/22/2016\",\"9/22/2016\",\"9/22/2016\",\"9/23/2016\",\"9/24/2016\",\"9/25/2016\",\"9/26/2016\",\"9/26/2016\",\"9/27/2016\",\"9/27/2016\",\"9/27/2016\",\"9/27/2016\",\"9/27/2016\",\"9/28/2016\",\"9/28/2016\",\"9/29/2016\",\"9/29/2016\",\"9/29/2016\",\"9/29/2016\",\"9/29/2016\",\"9/29/2016\",\"9/29/2016\",\"9/29/2016\",\"9/30/2016\",\"1/1/2016\",\"1/1/2016\",\"1/2/2016\",\"1/3/2016\",\"1/3/2016\",\"1/3/2016\",\"1/3/2016\",\"1/4/2016\",\"1/4/2016\",\"1/4/2016\",\"1/4/2016\",\"1/5/2016\",\"1/5/2016\",\"1/5/2016\",\"1/5/2016\",\"1/5/2016\",\"1/5/2016\",\"1/5/2016\",\"1/6/2016\",\"1/6/2016\",\"1/6/2016\",\"1/6/2016\",\"1/6/2016\",\"1/6/2016\",\"1/6/2016\",\"1/6/2016\",\"1/7/2016\",\"1/7/2016\",\"1/7/2016\",\"1/8/2016\",\"1/8/2016\",\"1/9/2016\",\"1/9/2016\",\"1/9/2016\",\"1/9/2016\",\"1/10/2016\",\"1/10/2016\",\"1/10/2016\",\"1/10/2016\",\"1/10/2016\",\"1/11/2016\",\"1/11/2016\",\"1/11/2016\",\"1/12/2016\",\"1/12/2016\",\"1/12/2016\",\"1/12/2016\",\"1/13/2016\",\"1/13/2016\",\"1/13/2016\",\"1/14/2016\",\"1/15/2016\",\"1/15/2016\",\"1/15/2016\",\"1/15/2016\",\"1/16/2016\",\"1/16/2016\",\"1/16/2016\",\"1/16/2016\",\"1/17/2016\",\"1/17/2016\",\"1/17/2016\",\"1/18/2016\",\"1/18/2016\",\"1/19/2016\",\"1/19/2016\",\"1/19/2016\",\"1/19/2016\",\"1/19/2016\",\"1/20/2016\",\"1/20/2016\",\"1/20/2016\",\"1/20/2016\",\"1/20/2016\",\"1/20/2016\",\"1/20/2016\",\"1/21/2016\",\"1/21/2016\",\"1/22/2016\",\"1/22/2016\",\"1/22/2016\",\"1/22/2016\",\"1/22/2016\",\"1/22/2016\",\"1/22/2016\",\"1/23/2016\",\"1/23/2016\",\"1/23/2016\",\"1/23/2016\",\"1/23/2016\",\"1/23/2016\",\"1/24/2016\",\"1/24/2016\",\"1/24/2016\",\"1/24/2016\",\"1/25/2016\",\"1/25/2016\",\"1/25/2016\",\"1/25/2016\",\"1/25/2016\",\"1/25/2016\",\"1/25/2016\",\"1/25/2016\",\"1/26/2016\",\"1/26/2016\",\"1/26/2016\",\"1/26/2016\",\"1/27/2016\",\"1/27/2016\",\"1/28/2016\",\"1/28/2016\",\"1/28/2016\",\"1/29/2016\",\"1/29/2016\",\"1/29/2016\",\"1/29/2016\",\"1/29/2016\",\"1/30/2016\",\"1/30/2016\",\"1/30/2016\",\"1/30/2016\",\"1/30/2016\",\"1/31/2016\",\"1/31/2016\",\"2/1/2016\",\"2/1/2016\",\"2/1/2016\",\"2/1/2016\",\"2/2/2016\",\"2/2/2016\",\"2/2/2016\",\"2/3/2016\",\"2/3/2016\",\"2/3/2016\",\"2/4/2016\",\"2/4/2016\",\"2/4/2016\",\"2/4/2016\",\"2/4/2016\",\"2/5/2016\",\"2/5/2016\",\"2/5/2016\",\"2/5/2016\",\"2/5/2016\",\"2/6/2016\",\"2/6/2016\",\"2/6/2016\",\"2/6/2016\",\"2/6/2016\",\"2/6/2016\",\"2/7/2016\",\"2/7/2016\",\"2/7/2016\",\"2/7/2016\",\"2/7/2016\",\"2/7/2016\",\"2/7/2016\",\"2/7/2016\",\"2/8/2016\",\"2/8/2016\",\"2/8/2016\",\"2/8/2016\",\"2/8/2016\",\"2/9/2016\",\"2/9/2016\",\"2/9/2016\",\"2/9/2016\",\"2/9/2016\",\"2/9/2016\",\"2/9/2016\",\"2/10/2016\",\"2/10/2016\",\"2/10/2016\",\"2/10/2016\",\"2/10/2016\",\"2/10/2016\",\"2/10/2016\",\"2/11/2016\",\"2/11/2016\",\"2/11/2016\",\"2/11/2016\",\"2/11/2016\",\"2/11/2016\",\"2/11/2016\",\"2/11/2016\",\"2/12/2016\",\"2/12/2016\",\"2/12/2016\",\"2/12/2016\",\"2/12/2016\",\"2/12/2016\",\"2/12/2016\",\"2/12/2016\",\"2/12/2016\",\"2/12/2016\",\"2/12/2016\",\"2/12/2016\",\"2/13/2016\",\"2/13/2016\",\"2/13/2016\",\"2/13/2016\",\"2/13/2016\",\"2/13/2016\",\"2/13/2016\",\"2/13/2016\",\"2/13/2016\",\"2/14/2016\",\"2/14/2016\",\"2/14/2016\",\"2/14/2016\",\"2/14/2016\",\"2/14/2016\",\"2/14/2016\",\"2/14/2016\",\"2/14/2016\",\"2/14/2016\",\"2/14/2016\",\"2/15/2016\",\"2/15/2016\",\"2/15/2016\",\"2/15/2016\",\"2/15/2016\",\"2/16/2016\",\"2/16/2016\",\"2/16/2016\",\"2/16/2016\",\"2/16/2016\",\"2/17/2016\",\"2/17/2016\",\"2/17/2016\",\"2/17/2016\",\"2/17/2016\",\"2/17/2016\",\"2/17/2016\",\"2/17/2016\",\"2/17/2016\",\"2/17/2016\",\"2/18/2016\",\"2/18/2016\",\"2/18/2016\",\"2/19/2016\",\"2/19/2016\",\"2/19/2016\",\"2/19/2016\",\"2/19/2016\",\"2/19/2016\",\"2/20/2016\",\"2/20/2016\",\"2/20/2016\",\"2/20/2016\",\"2/21/2016\",\"2/21/2016\",\"2/21/2016\",\"2/21/2016\",\"2/21/2016\",\"2/21/2016\",\"2/21/2016\",\"2/22/2016\",\"2/22/2016\",\"2/22/2016\",\"2/23/2016\",\"2/23/2016\",\"2/23/2016\",\"2/23/2016\",\"2/23/2016\",\"2/24/2016\",\"2/24/2016\",\"2/24/2016\",\"2/24/2016\",\"2/24/2016\",\"2/24/2016\",\"2/24/2016\",\"2/24/2016\",\"2/25/2016\",\"2/25/2016\",\"2/25/2016\",\"2/26/2016\",\"2/26/2016\",\"2/26/2016\",\"2/26/2016\",\"2/26/2016\",\"2/26/2016\",\"2/26/2016\",\"2/26/2016\",\"2/26/2016\",\"2/26/2016\",\"2/27/2016\",\"2/27/2016\",\"2/27/2016\",\"2/27/2016\",\"2/27/2016\",\"2/27/2016\",\"2/28/2016\",\"2/28/2016\",\"2/28/2016\",\"2/28/2016\",\"2/28/2016\",\"2/29/2016\",\"2/29/2016\",\"2/29/2016\",\"2/29/2016\",\"2/29/2016\",\"2/29/2016\",\"2/29/2016\",\"3/1/2016\",\"3/1/2016\",\"3/1/2016\",\"3/1/2016\",\"3/1/2016\",\"3/1/2016\",\"3/1/2016\",\"3/1/2016\",\"3/2/2016\",\"3/2/2016\",\"3/2/2016\",\"3/2/2016\",\"3/2/2016\",\"3/2/2016\",\"3/2/2016\",\"3/3/2016\",\"3/3/2016\",\"3/3/2016\",\"3/4/2016\",\"3/4/2016\",\"3/4/2016\",\"3/4/2016\",\"3/4/2016\",\"3/4/2016\",\"3/4/2016\",\"3/4/2016\",\"3/5/2016\",\"3/5/2016\",\"3/5/2016\",\"3/5/2016\",\"3/5/2016\",\"3/6/2016\",\"3/6/2016\",\"3/6/2016\",\"3/6/2016\",\"3/6/2016\",\"3/6/2016\",\"3/6/2016\",\"3/6/2016\",\"3/7/2016\",\"3/7/2016\",\"3/7/2016\",\"3/7/2016\",\"3/7/2016\",\"3/7/2016\",\"3/7/2016\",\"3/7/2016\",\"3/7/2016\",\"3/8/2016\",\"3/8/2016\",\"3/8/2016\",\"3/8/2016\",\"3/8/2016\",\"3/8/2016\",\"3/8/2016\",\"3/8/2016\",\"3/8/2016\",\"3/8/2016\",\"3/8/2016\",\"3/8/2016\",\"3/8/2016\",\"3/9/2016\",\"3/9/2016\",\"3/9/2016\",\"3/9/2016\",\"3/9/2016\",\"3/9/2016\",\"3/9/2016\",\"3/9/2016\",\"3/9/2016\",\"3/9/2016\",\"3/9/2016\",\"3/10/2016\",\"3/11/2016\",\"3/11/2016\",\"3/11/2016\",\"3/11/2016\",\"3/11/2016\",\"3/11/2016\",\"3/11/2016\",\"3/12/2016\",\"3/12/2016\",\"3/12/2016\",\"3/12/2016\",\"3/12/2016\",\"3/12/2016\",\"3/12/2016\",\"3/12/2016\",\"3/12/2016\",\"3/12/2016\",\"3/13/2016\",\"3/13/2016\",\"3/13/2016\",\"3/13/2016\",\"3/13/2016\",\"3/13/2016\",\"3/14/2016\",\"3/14/2016\",\"3/14/2016\",\"3/14/2016\",\"3/14/2016\",\"3/14/2016\",\"3/15/2016\",\"3/15/2016\",\"3/15/2016\",\"3/15/2016\",\"3/15/2016\",\"3/15/2016\",\"3/15/2016\",\"3/15/2016\",\"3/16/2016\",\"3/16/2016\",\"3/16/2016\",\"3/16/2016\",\"3/16/2016\",\"3/16/2016\",\"3/16/2016\",\"3/17/2016\",\"3/17/2016\",\"3/17/2016\",\"3/17/2016\",\"3/18/2016\",\"3/18/2016\",\"3/18/2016\",\"3/18/2016\",\"3/18/2016\",\"3/18/2016\",\"3/18/2016\",\"3/18/2016\",\"3/18/2016\",\"3/18/2016\",\"3/18/2016\",\"3/18/2016\",\"3/18/2016\",\"3/18/2016\",\"3/19/2016\",\"3/19/2016\",\"3/19/2016\",\"3/19/2016\",\"3/19/2016\",\"3/19/2016\",\"3/19/2016\",\"3/19/2016\",\"3/19/2016\",\"3/19/2016\",\"3/19/2016\",\"3/19/2016\",\"3/19/2016\",\"3/20/2016\",\"3/20/2016\",\"3/20/2016\",\"3/20/2016\",\"3/20/2016\",\"3/20/2016\",\"3/20/2016\",\"3/20/2016\",\"3/20/2016\",\"3/20/2016\",\"3/21/2016\",\"3/21/2016\",\"3/21/2016\",\"3/21/2016\",\"3/21/2016\",\"3/21/2016\",\"3/21/2016\",\"3/21/2016\",\"3/22/2016\",\"3/22/2016\",\"3/22/2016\",\"3/22/2016\",\"3/22/2016\",\"3/22/2016\",\"3/23/2016\",\"3/23/2016\",\"3/23/2016\",\"3/23/2016\",\"3/23/2016\",\"3/23/2016\",\"3/23/2016\",\"3/23/2016\",\"3/24/2016\",\"3/24/2016\",\"3/24/2016\",\"3/25/2016\",\"3/25/2016\",\"3/25/2016\",\"3/25/2016\",\"3/25/2016\",\"3/25/2016\",\"3/25/2016\",\"3/25/2016\",\"3/26/2016\",\"3/26/2016\",\"3/26/2016\",\"3/26/2016\",\"3/26/2016\",\"3/26/2016\",\"3/26/2016\",\"3/26/2016\",\"3/26/2016\",\"3/27/2016\",\"3/27/2016\",\"3/27/2016\",\"3/27/2016\",\"3/27/2016\",\"3/27/2016\",\"3/27/2016\",\"3/27/2016\",\"3/27/2016\",\"3/27/2016\",\"3/28/2016\",\"3/28/2016\",\"3/28/2016\",\"3/28/2016\",\"3/28/2016\",\"3/29/2016\",\"3/29/2016\",\"3/29/2016\",\"3/30/2016\",\"3/30/2016\",\"3/30/2016\",\"3/30/2016\",\"3/30/2016\",\"3/30/2016\",\"3/30/2016\",\"3/30/2016\",\"3/30/2016\",\"3/30/2016\",\"3/30/2016\",\"3/30/2016\",\"3/31/2016\",\"3/31/2016\",\"3/31/2016\",\"3/31/2016\",\"3/31/2016\",\"3/31/2016\",\"4/1/2016\",\"4/1/2016\",\"4/1/2016\",\"4/1/2016\",\"4/1/2016\",\"4/2/2016\",\"4/2/2016\",\"4/3/2016\",\"4/3/2016\",\"4/3/2016\",\"4/3/2016\",\"4/3/2016\",\"4/3/2016\",\"4/3/2016\",\"4/4/2016\",\"4/4/2016\",\"4/4/2016\",\"4/4/2016\",\"4/4/2016\",\"4/4/2016\",\"4/5/2016\",\"4/5/2016\",\"4/5/2016\",\"4/6/2016\",\"4/6/2016\",\"4/6/2016\",\"4/6/2016\",\"4/7/2016\",\"4/7/2016\",\"4/8/2016\",\"4/8/2016\",\"4/8/2016\",\"4/8/2016\",\"4/8/2016\",\"4/8/2016\",\"4/10/2016\",\"4/10/2016\",\"4/10/2016\",\"4/10/2016\",\"4/10/2016\",\"4/11/2016\",\"4/11/2016\",\"4/11/2016\",\"4/11/2016\",\"4/11/2016\",\"4/12/2016\",\"4/12/2016\",\"4/12/2016\",\"4/12/2016\",\"4/13/2016\",\"4/13/2016\",\"4/13/2016\",\"4/13/2016\",\"4/13/2016\",\"4/14/2016\",\"4/14/2016\",\"4/14/2016\",\"4/15/2016\",\"4/15/2016\",\"4/15/2016\",\"4/15/2016\",\"4/15/2016\",\"4/16/2016\",\"4/17/2016\",\"4/18/2016\",\"4/18/2016\",\"4/18/2016\",\"4/18/2016\",\"4/18/2016\",\"4/18/2016\",\"4/18/2016\",\"4/18/2016\",\"4/19/2016\",\"4/19/2016\",\"4/19/2016\",\"4/20/2016\",\"4/20/2016\",\"4/20/2016\",\"4/21/2016\",\"4/21/2016\",\"4/21/2016\",\"4/22/2016\",\"4/22/2016\",\"4/22/2016\",\"4/23/2016\",\"4/23/2016\",\"4/24/2016\",\"4/24/2016\",\"4/25/2016\",\"4/25/2016\",\"4/25/2016\",\"4/25/2016\",\"4/25/2016\",\"4/25/2016\",\"4/25/2016\",\"4/26/2016\",\"4/26/2016\",\"4/26/2016\",\"4/26/2016\",\"4/26/2016\",\"4/27/2016\",\"4/27/2016\",\"4/27/2016\",\"4/27/2016\",\"4/27/2016\",\"4/27/2016\",\"4/27/2016\",\"4/27/2016\",\"4/27/2016\",\"4/28/2016\",\"4/28/2016\",\"4/28/2016\",\"4/28/2016\",\"4/29/2016\",\"4/29/2016\",\"4/29/2016\",\"4/30/2016\",\"5/1/2016\",\"5/1/2016\",\"5/1/2016\",\"5/2/2016\",\"5/2/2016\",\"5/2/2016\",\"5/2/2016\",\"5/2/2016\",\"5/2/2016\",\"5/3/2016\",\"5/3/2016\",\"5/3/2016\",\"5/3/2016\",\"5/3/2016\",\"5/3/2016\",\"5/3/2016\",\"5/3/2016\",\"5/4/2016\",\"5/4/2016\",\"5/4/2016\",\"5/4/2016\",\"5/4/2016\",\"5/4/2016\",\"5/4/2016\",\"5/4/2016\",\"5/4/2016\",\"5/5/2016\",\"5/5/2016\",\"5/5/2016\",\"5/6/2016\",\"5/6/2016\",\"5/6/2016\",\"5/6/2016\",\"5/7/2016\",\"5/7/2016\",\"5/8/2016\",\"5/8/2016\",\"5/8/2016\",\"5/9/2016\",\"5/9/2016\",\"5/9/2016\",\"5/9/2016\",\"5/9/2016\",\"5/10/2016\",\"5/10/2016\",\"5/10/2016\",\"5/10/2016\",\"5/10/2016\",\"5/11/2016\",\"5/11/2016\",\"5/11/2016\",\"5/11/2016\",\"5/11/2016\",\"5/11/2016\",\"5/11/2016\",\"5/11/2016\",\"5/12/2016\",\"5/12/2016\",\"5/12/2016\",\"5/12/2016\",\"5/13/2016\",\"5/13/2016\",\"5/13/2016\",\"5/13/2016\",\"5/14/2016\",\"5/14/2016\",\"5/14/2016\",\"5/14/2016\",\"5/15/2016\",\"5/15/2016\",\"5/15/2016\",\"5/15/2016\",\"5/16/2016\",\"5/16/2016\",\"5/16/2016\",\"5/16/2016\",\"5/17/2016\",\"5/17/2016\",\"5/17/2016\",\"5/17/2016\",\"5/18/2016\",\"5/18/2016\",\"5/18/2016\",\"5/18/2016\",\"5/18/2016\",\"5/18/2016\",\"5/18/2016\",\"5/19/2016\",\"5/19/2016\",\"5/19/2016\",\"5/19/2016\",\"5/19/2016\",\"5/19/2016\",\"5/19/2016\",\"5/19/2016\",\"5/20/2016\",\"5/20/2016\",\"5/20/2016\",\"5/20/2016\",\"5/20/2016\",\"5/20/2016\",\"5/20/2016\",\"5/20/2016\",\"5/21/2016\",\"5/21/2016\",\"5/21/2016\",\"5/21/2016\",\"5/21/2016\",\"5/21/2016\",\"5/22/2016\",\"5/22/2016\",\"5/22/2016\",\"5/22/2016\",\"5/23/2016\",\"5/23/2016\",\"5/23/2016\",\"5/23/2016\",\"5/24/2016\",\"5/24/2016\",\"5/24/2016\",\"5/24/2016\",\"5/25/2016\",\"5/25/2016\",\"5/25/2016\",\"5/25/2016\",\"5/25/2016\",\"5/26/2016\",\"5/26/2016\",\"5/26/2016\",\"5/26/2016\",\"5/26/2016\",\"5/26/2016\",\"5/27/2016\",\"5/27/2016\",\"5/27/2016\",\"5/27/2016\",\"5/27/2016\",\"5/28/2016\",\"5/28/2016\",\"5/28/2016\",\"5/29/2016\",\"5/29/2016\",\"5/29/2016\",\"5/29/2016\",\"5/29/2016\",\"5/29/2016\",\"5/30/2016\",\"5/30/2016\",\"5/30/2016\",\"5/30/2016\",\"5/31/2016\",\"5/31/2016\",\"5/31/2016\",\"5/31/2016\",\"5/31/2016\",\"5/31/2016\",\"5/31/2016\",\"6/1/2016\",\"6/1/2016\",\"6/1/2016\",\"6/1/2016\",\"6/1/2016\",\"6/1/2016\",\"6/1/2016\",\"6/1/2016\",\"6/1/2016\",\"6/2/2016\",\"6/2/2016\",\"6/2/2016\",\"6/2/2016\",\"6/2/2016\",\"6/2/2016\",\"6/2/2016\",\"6/2/2016\",\"6/3/2016\",\"6/3/2016\",\"6/3/2016\",\"6/3/2016\",\"6/3/2016\",\"6/3/2016\",\"6/3/2016\",\"6/3/2016\",\"6/3/2016\",\"6/3/2016\",\"6/3/2016\",\"6/3/2016\",\"6/3/2016\",\"6/3/2016\",\"6/3/2016\",\"6/3/2016\",\"6/3/2016\",\"6/4/2016\",\"6/4/2016\",\"6/4/2016\",\"6/4/2016\",\"6/4/2016\",\"6/4/2016\",\"6/4/2016\",\"6/4/2016\",\"6/4/2016\",\"6/4/2016\",\"6/4/2016\",\"6/5/2016\",\"6/5/2016\",\"6/5/2016\",\"6/5/2016\",\"6/5/2016\",\"6/5/2016\",\"6/6/2016\",\"6/6/2016\",\"6/6/2016\",\"6/6/2016\",\"6/6/2016\",\"6/6/2016\",\"6/6/2016\",\"6/6/2016\",\"6/6/2016\",\"6/6/2016\",\"6/7/2016\",\"6/7/2016\",\"6/7/2016\",\"6/7/2016\",\"6/7/2016\",\"6/7/2016\",\"6/7/2016\",\"6/7/2016\",\"6/7/2016\",\"6/7/2016\",\"6/7/2016\",\"6/7/2016\",\"6/8/2016\",\"6/8/2016\",\"6/8/2016\",\"6/8/2016\",\"6/8/2016\",\"6/8/2016\",\"6/8/2016\",\"6/8/2016\",\"6/9/2016\",\"6/9/2016\",\"6/9/2016\",\"6/9/2016\",\"6/9/2016\",\"6/9/2016\",\"6/9/2016\",\"6/9/2016\",\"6/9/2016\",\"6/9/2016\",\"6/10/2016\",\"6/10/2016\",\"6/10/2016\",\"6/10/2016\",\"6/10/2016\",\"6/10/2016\",\"6/10/2016\",\"6/10/2016\",\"6/10/2016\",\"6/10/2016\",\"6/10/2016\",\"6/10/2016\",\"6/11/2016\",\"6/11/2016\",\"6/11/2016\",\"6/11/2016\",\"6/11/2016\",\"6/11/2016\",\"6/11/2016\",\"6/11/2016\",\"6/11/2016\",\"6/11/2016\",\"6/11/2016\",\"6/11/2016\",\"6/11/2016\",\"6/12/2016\",\"6/12/2016\",\"6/12/2016\",\"6/12/2016\",\"6/12/2016\",\"6/12/2016\",\"6/12/2016\",\"6/12/2016\",\"6/13/2016\",\"6/13/2016\",\"6/13/2016\",\"6/13/2016\",\"6/13/2016\",\"6/13/2016\",\"6/13/2016\",\"6/13/2016\",\"6/13/2016\",\"6/13/2016\",\"6/13/2016\",\"6/13/2016\",\"6/14/2016\",\"6/14/2016\",\"6/14/2016\",\"6/14/2016\",\"6/14/2016\",\"6/14/2016\",\"6/14/2016\",\"6/14/2016\",\"6/14/2016\",\"6/14/2016\",\"6/14/2016\",\"6/14/2016\",\"6/14/2016\",\"6/15/2016\",\"6/15/2016\",\"6/15/2016\",\"6/15/2016\",\"6/15/2016\",\"6/15/2016\",\"6/15/2016\",\"6/15/2016\",\"6/15/2016\",\"6/16/2016\",\"6/16/2016\",\"6/16/2016\",\"6/16/2016\",\"6/16/2016\",\"6/16/2016\",\"6/17/2016\",\"6/17/2016\",\"6/17/2016\",\"6/17/2016\",\"6/17/2016\",\"6/17/2016\",\"6/17/2016\",\"6/17/2016\",\"6/17/2016\",\"6/17/2016\",\"6/17/2016\",\"6/17/2016\",\"6/17/2016\",\"6/17/2016\",\"6/17/2016\",\"6/17/2016\",\"6/18/2016\",\"6/18/2016\",\"6/18/2016\",\"6/18/2016\",\"6/18/2016\",\"6/18/2016\",\"6/18/2016\",\"6/18/2016\",\"6/18/2016\",\"6/18/2016\",\"6/19/2016\",\"6/19/2016\",\"6/19/2016\",\"6/19/2016\",\"6/19/2016\",\"6/19/2016\",\"6/19/2016\",\"6/19/2016\",\"6/20/2016\",\"6/20/2016\",\"6/20/2016\",\"6/20/2016\",\"6/20/2016\",\"6/20/2016\",\"6/21/2016\",\"6/21/2016\",\"6/21/2016\",\"6/21/2016\",\"6/21/2016\",\"6/21/2016\",\"6/21/2016\",\"6/21/2016\",\"6/22/2016\",\"6/22/2016\",\"6/22/2016\",\"6/22/2016\",\"6/22/2016\",\"6/22/2016\",\"6/22/2016\",\"6/22/2016\",\"6/22/2016\",\"6/22/2016\",\"6/22/2016\",\"6/23/2016\",\"6/23/2016\",\"6/23/2016\",\"6/23/2016\",\"6/23/2016\",\"6/23/2016\",\"6/24/2016\",\"6/24/2016\",\"6/24/2016\",\"6/24/2016\",\"6/24/2016\",\"6/24/2016\",\"6/24/2016\",\"6/24/2016\",\"6/25/2016\",\"6/25/2016\",\"6/25/2016\",\"6/25/2016\",\"6/25/2016\",\"6/25/2016\",\"6/25/2016\",\"6/26/2016\",\"6/26/2016\",\"6/26/2016\",\"6/26/2016\",\"6/26/2016\",\"6/26/2016\",\"6/26/2016\",\"6/27/2016\",\"6/27/2016\",\"6/27/2016\",\"6/27/2016\",\"6/27/2016\",\"6/27/2016\",\"6/27/2016\",\"6/27/2016\",\"6/27/2016\",\"6/27/2016\",\"6/27/2016\",\"6/27/2016\",\"6/27/2016\",\"6/27/2016\",\"6/28/2016\",\"6/28/2016\",\"6/28/2016\",\"6/28/2016\",\"6/28/2016\",\"6/28/2016\",\"6/28/2016\",\"6/28/2016\",\"6/28/2016\",\"6/28/2016\",\"6/28/2016\",\"6/29/2016\",\"6/29/2016\",\"6/29/2016\",\"6/29/2016\",\"6/29/2016\",\"6/29/2016\",\"6/29/2016\",\"6/29/2016\",\"6/29/2016\",\"6/30/2016\",\"6/30/2016\",\"6/30/2016\",\"6/30/2016\",\"6/30/2016\",\"6/30/2016\",\"6/30/2016\",\"7/1/2016\",\"7/1/2016\",\"7/1/2016\",\"7/1/2016\",\"7/1/2016\",\"7/1/2016\",\"7/1/2016\",\"7/1/2016\",\"7/1/2016\",\"7/1/2016\",\"7/1/2016\",\"7/2/2016\",\"7/2/2016\",\"7/2/2016\",\"7/2/2016\",\"7/2/2016\",\"7/2/2016\",\"7/2/2016\",\"7/2/2016\",\"7/2/2016\",\"7/3/2016\",\"7/3/2016\",\"7/3/2016\",\"7/3/2016\",\"7/3/2016\",\"7/4/2016\",\"7/4/2016\",\"7/4/2016\",\"7/4/2016\",\"7/4/2016\",\"7/4/2016\",\"7/4/2016\",\"7/4/2016\",\"7/4/2016\",\"7/4/2016\",\"7/5/2016\",\"7/5/2016\",\"7/5/2016\",\"7/5/2016\",\"7/5/2016\",\"7/5/2016\",\"7/5/2016\",\"7/5/2016\",\"7/5/2016\",\"7/5/2016\",\"7/6/2016\",\"7/6/2016\",\"7/6/2016\",\"7/6/2016\",\"7/6/2016\",\"7/7/2016\",\"7/7/2016\",\"7/7/2016\",\"7/7/2016\",\"7/7/2016\",\"7/7/2016\",\"7/7/2016\",\"7/7/2016\",\"7/7/2016\",\"7/8/2016\",\"7/8/2016\",\"7/8/2016\",\"7/8/2016\",\"7/8/2016\",\"7/8/2016\",\"7/8/2016\",\"7/8/2016\",\"7/8/2016\",\"7/8/2016\",\"7/9/2016\",\"7/9/2016\",\"7/9/2016\",\"7/9/2016\",\"7/9/2016\",\"7/9/2016\",\"7/10/2016\",\"7/10/2016\",\"7/10/2016\",\"7/10/2016\",\"7/10/2016\",\"7/10/2016\",\"7/11/2016\",\"7/11/2016\",\"7/11/2016\",\"7/11/2016\",\"7/11/2016\",\"7/11/2016\",\"7/11/2016\",\"7/11/2016\",\"7/11/2016\",\"7/11/2016\",\"7/11/2016\",\"7/12/2016\",\"7/12/2016\",\"7/12/2016\",\"7/12/2016\",\"7/12/2016\",\"7/12/2016\",\"7/13/2016\",\"7/13/2016\",\"7/13/2016\",\"7/13/2016\",\"7/13/2016\",\"7/13/2016\",\"7/13/2016\",\"7/13/2016\",\"7/13/2016\",\"7/13/2016\",\"7/13/2016\",\"7/13/2016\",\"7/14/2016\",\"7/14/2016\",\"7/14/2016\",\"7/14/2016\",\"7/14/2016\",\"7/14/2016\",\"7/15/2016\",\"7/15/2016\",\"7/15/2016\",\"7/15/2016\",\"7/15/2016\",\"7/15/2016\",\"7/15/2016\",\"7/15/2016\",\"7/15/2016\",\"7/15/2016\",\"7/15/2016\",\"7/16/2016\",\"7/16/2016\",\"7/16/2016\",\"7/16/2016\",\"7/16/2016\",\"7/17/2016\",\"7/17/2016\",\"7/17/2016\",\"7/18/2016\",\"7/18/2016\",\"7/18/2016\",\"7/18/2016\",\"7/18/2016\",\"7/18/2016\",\"7/18/2016\",\"7/18/2016\",\"7/18/2016\",\"7/18/2016\",\"7/19/2016\",\"7/19/2016\",\"7/20/2016\",\"7/20/2016\",\"7/20/2016\",\"7/20/2016\",\"7/20/2016\",\"7/20/2016\",\"7/20/2016\",\"7/20/2016\",\"7/20/2016\",\"7/21/2016\",\"7/21/2016\",\"7/21/2016\",\"7/21/2016\",\"7/22/2016\",\"7/22/2016\",\"7/22/2016\",\"7/22/2016\",\"7/22/2016\",\"7/22/2016\",\"7/22/2016\",\"7/22/2016\",\"7/22/2016\",\"7/22/2016\",\"7/22/2016\",\"7/22/2016\",\"7/23/2016\",\"7/23/2016\",\"7/23/2016\",\"7/23/2016\",\"7/23/2016\",\"7/23/2016\",\"7/24/2016\",\"7/24/2016\",\"7/24/2016\",\"7/24/2016\",\"7/25/2016\",\"7/25/2016\",\"7/25/2016\",\"7/25/2016\",\"7/25/2016\",\"7/25/2016\",\"7/25/2016\",\"7/25/2016\",\"7/25/2016\",\"7/25/2016\",\"7/25/2016\",\"7/25/2016\",\"7/25/2016\",\"7/25/2016\",\"7/26/2016\",\"7/26/2016\",\"7/26/2016\",\"7/26/2016\",\"7/26/2016\",\"7/27/2016\",\"7/27/2016\",\"7/27/2016\",\"7/27/2016\",\"7/27/2016\",\"7/27/2016\",\"7/27/2016\",\"7/27/2016\",\"7/27/2016\",\"7/27/2016\",\"7/27/2016\",\"7/28/2016\",\"7/28/2016\",\"7/28/2016\",\"7/28/2016\",\"7/28/2016\",\"7/29/2016\",\"7/29/2016\",\"7/29/2016\",\"7/29/2016\",\"7/29/2016\",\"7/29/2016\",\"7/29/2016\",\"7/29/2016\",\"7/30/2016\",\"7/30/2016\",\"7/30/2016\",\"7/30/2016\",\"7/30/2016\",\"7/31/2016\",\"7/31/2016\",\"7/31/2016\",\"7/31/2016\",\"7/31/2016\",\"7/31/2016\",\"7/31/2016\",\"7/31/2016\",\"8/1/2016\",\"8/1/2016\",\"8/1/2016\",\"8/1/2016\",\"8/1/2016\",\"8/1/2016\",\"8/1/2016\",\"8/2/2016\",\"8/2/2016\",\"8/2/2016\",\"8/2/2016\",\"8/2/2016\",\"8/2/2016\",\"8/2/2016\",\"8/2/2016\",\"8/2/2016\",\"8/2/2016\",\"8/2/2016\",\"8/2/2016\",\"8/2/2016\",\"8/2/2016\",\"8/3/2016\",\"8/3/2016\",\"8/3/2016\",\"8/3/2016\",\"8/3/2016\",\"8/3/2016\",\"8/3/2016\",\"8/3/2016\",\"8/3/2016\",\"8/3/2016\",\"8/4/2016\",\"8/4/2016\",\"8/4/2016\",\"8/4/2016\",\"8/4/2016\",\"8/4/2016\",\"8/4/2016\",\"8/4/2016\",\"8/4/2016\",\"8/5/2016\",\"8/5/2016\",\"8/5/2016\",\"8/5/2016\",\"8/5/2016\",\"8/5/2016\",\"8/5/2016\",\"8/5/2016\",\"8/5/2016\",\"8/5/2016\",\"8/6/2016\",\"8/6/2016\",\"8/6/2016\",\"8/6/2016\",\"8/6/2016\",\"8/6/2016\",\"8/6/2016\",\"8/6/2016\",\"8/6/2016\",\"8/6/2016\",\"8/6/2016\",\"8/6/2016\",\"8/6/2016\",\"8/6/2016\",\"10/1/2016\",\"10/3/2016\",\"10/3/2016\",\"10/3/2016\",\"10/4/2016\",\"10/4/2016\",\"10/4/2016\",\"10/4/2016\",\"10/5/2016\",\"10/5/2016\",\"10/6/2016\",\"10/7/2016\",\"10/8/2016\",\"10/8/2016\",\"10/10/2016\",\"10/10/2016\",\"10/10/2016\",\"10/10/2016\",\"10/11/2016\",\"10/12/2016\",\"10/12/2016\",\"10/13/2016\",\"10/13/2016\",\"10/15/2016\",\"10/15/2016\",\"10/16/2016\",\"10/16/2016\",\"10/17/2016\",\"10/20/2016\",\"10/20/2016\",\"10/20/2016\",\"10/21/2016\",\"10/22/2016\",\"10/24/2016\",\"10/25/2016\",\"10/25/2016\",\"10/26/2016\",\"10/26/2016\",\"10/26/2016\",\"10/26/2016\",\"10/27/2016\",\"10/27/2016\",\"10/28/2016\",\"10/28/2016\",\"10/29/2016\",\"11/1/2016\",\"11/1/2016\",\"11/2/2016\",\"11/2/2016\",\"11/2/2016\",\"11/3/2016\",\"11/4/2016\",\"11/4/2016\",\"11/5/2016\",\"11/7/2016\",\"11/7/2016\",\"11/8/2016\",\"11/8/2016\",\"11/8/2016\",\"11/9/2016\",\"11/9/2016\",\"11/9/2016\",\"11/10/2016\",\"11/10/2016\",\"11/10/2016\",\"11/11/2016\",\"11/11/2016\",\"11/11/2016\",\"11/12/2016\",\"11/13/2016\",\"11/14/2016\",\"11/15/2016\",\"11/15/2016\",\"11/16/2016\",\"11/16/2016\",\"11/17/2016\",\"11/17/2016\",\"11/17/2016\",\"11/18/2016\",\"11/18/2016\",\"11/19/2016\",\"11/19/2016\",\"11/21/2016\",\"11/22/2016\",\"11/22/2016\",\"11/22/2016\",\"11/23/2016\",\"11/23/2016\",\"11/23/2016\",\"11/24/2016\",\"11/24/2016\",\"11/24/2016\",\"11/26/2016\",\"11/26/2016\",\"11/26/2016\",\"11/26/2016\",\"11/28/2016\",\"11/29/2016\",\"11/30/2016\",\"11/30/2016\",\"11/30/2016\",\"12/1/2016\",\"12/1/2016\",\"12/1/2016\",\"12/2/2016\",\"12/3/2016\",\"12/5/2016\",\"12/5/2016\",\"12/5/2016\",\"12/7/2016\",\"12/7/2016\",\"12/8/2016\",\"12/8/2016\",\"12/10/2016\",\"12/10/2016\",\"12/12/2016\",\"12/12/2016\",\"12/13/2016\",\"12/13/2016\",\"12/14/2016\",\"12/17/2016\",\"12/19/2016\",\"12/19/2016\",\"12/19/2016\",\"12/21/2016\",\"12/22/2016\",\"12/22/2016\",\"12/22/2016\",\"12/23/2016\",\"12/23/2016\",\"12/24/2016\",\"12/26/2016\",\"12/26/2016\",\"12/26/2016\",\"12/27/2016\",\"12/27/2016\",\"12/28/2016\",\"12/28/2016\",\"12/28/2016\",\"12/29/2016\",\"12/29/2016\",\"12/29/2016\",\"12/30/2016\",\"12/30/2016\",\"12/30/2016\",\"12/30/2016\",\"1/2/2017\",\"1/2/2017\",\"1/3/2017\",\"1/3/2017\",\"1/3/2017\",\"1/3/2017\",\"1/4/2017\",\"1/5/2017\",\"1/6/2017\",\"1/6/2017\",\"1/6/2017\",\"1/7/2017\",\"1/8/2017\",\"1/8/2017\",\"1/9/2017\",\"1/10/2017\",\"1/10/2017\",\"1/11/2017\",\"1/12/2017\",\"1/13/2017\",\"1/13/2017\",\"1/14/2017\",\"1/14/2017\",\"1/15/2017\",\"1/16/2017\",\"1/17/2017\",\"1/17/2017\",\"1/17/2017\",\"1/18/2017\",\"1/18/2017\",\"1/19/2017\",\"1/19/2017\",\"1/19/2017\",\"1/20/2017\",\"1/22/2017\",\"1/23/2017\",\"1/23/2017\",\"1/24/2017\",\"1/25/2017\",\"1/25/2017\",\"1/26/2017\",\"1/27/2017\",\"1/27/2017\",\"1/28/2017\",\"1/30/2017\",\"1/31/2017\",\"1/31/2017\",\"2/1/2017\",\"2/2/2017\",\"2/3/2017\",\"2/3/2017\",\"2/4/2017\",\"2/6/2017\",\"2/6/2017\",\"2/6/2017\",\"2/6/2017\",\"2/6/2017\",\"2/7/2017\",\"2/8/2017\",\"2/9/2017\",\"2/10/2017\",\"2/12/2017\",\"2/13/2017\",\"2/14/2017\",\"2/15/2017\",\"2/15/2017\",\"2/16/2017\",\"2/17/2017\",\"2/17/2017\",\"2/18/2017\",\"2/19/2017\",\"2/20/2017\",\"2/21/2017\",\"2/22/2017\",\"2/23/2017\",\"2/24/2017\",\"2/27/2017\",\"2/28/2017\",\"2/28/2017\",\"3/2/2017\",\"3/7/2017\",\"3/7/2017\",\"3/8/2017\",\"3/10/2017\",\"3/10/2017\",\"3/13/2017\",\"3/14/2017\",\"3/15/2017\",\"3/17/2017\",\"3/19/2017\",\"3/20/2017\",\"3/21/2017\",\"3/21/2017\",\"3/25/2017\",\"3/25/2017\",\"3/26/2017\",\"3/26/2017\",\"3/2/2017\",\"3/7/2017\",\"3/7/2017\",\"3/8/2017\",\"3/10/2017\",\"3/10/2017\",\"3/13/2017\",\"3/14/2017\",\"3/15/2017\",\"3/17/2017\",\"3/19/2017\",\"3/20/2017\",\"3/21/2017\",\"3/21/2017\",\"3/25/2017\",\"3/25/2017\",\"3/26/2017\",\"3/26/2017\",\"3/27/2017\",\"3/27/2017\"],\"xaxis\":\"x\",\"y\":[\"business\",\"business\",\"business\",\"business\",\"business\",\"business\",\"business\",\"business\",\"business\",\"business\",\"business\",\"business\",\"business\",\"business\",\"business\",\"business\",\"business\",\"business\",\"business\",\"business\",\"business\",\"business\",\"business\",\"business\",\"business\",\"business\",\"business\",\"business\",\"business\",\"business\",\"business\",\"business\",\"business\",\"business\",\"business\",\"business\",\"business\",\"business\",\"business\",\"business\",\"business\",\"business\",\"business\",\"business\",\"business\",\"business\",\"business\",\"business\",\"business\",\"business\",\"business\",\"business\",\"business\",\"business\",\"business\",\"business\",\"business\",\"business\",\"business\",\"business\",\"business\",\"business\",\"business\",\"business\",\"business\",\"business\",\"business\",\"business\",\"business\",\"business\",\"business\",\"business\",\"business\",\"business\",\"business\",\"business\",\"business\",\"business\",\"business\",\"business\",\"business\",\"business\",\"business\",\"business\",\"business\",\"business\",\"business\",\"business\",\"business\",\"business\",\"business\",\"business\",\"business\",\"business\",\"business\",\"business\",\"business\",\"business\",\"business\",\"business\",\"business\",\"business\",\"business\",\"business\",\"business\",\"business\",\"business\",\"business\",\"business\",\"business\",\"business\",\"business\",\"business\",\"business\",\"business\",\"business\",\"business\",\"business\",\"business\",\"business\",\"business\",\"business\",\"business\",\"business\",\"business\",\"business\",\"business\",\"business\",\"business\",\"business\",\"business\",\"business\",\"business\",\"business\",\"business\",\"business\",\"business\",\"business\",\"business\",\"business\",\"business\",\"business\",\"business\",\"business\",\"business\",\"business\",\"business\",\"business\",\"business\",\"business\",\"business\",\"business\",\"business\",\"business\",\"business\",\"business\",\"business\",\"business\",\"business\",\"business\",\"business\",\"business\",\"business\",\"business\",\"business\",\"business\",\"business\",\"business\",\"business\",\"business\",\"business\",\"business\",\"business\",\"business\",\"business\",\"business\",\"business\",\"business\",\"business\",\"business\",\"business\",\"business\",\"business\",\"business\",\"business\",\"business\",\"business\",\"business\",\"business\",\"business\",\"business\",\"business\",\"business\",\"business\",\"business\",\"business\",\"business\",\"business\",\"business\",\"business\",\"business\",\"business\",\"business\",\"business\",\"business\",\"business\",\"business\",\"business\",\"business\",\"business\",\"business\",\"business\",\"business\",\"business\",\"business\",\"business\",\"business\",\"business\",\"business\",\"business\",\"business\",\"business\",\"business\",\"business\",\"business\",\"business\",\"business\",\"business\",\"business\",\"business\",\"business\",\"business\",\"business\",\"business\",\"business\",\"business\",\"business\",\"business\",\"business\",\"business\",\"business\",\"business\",\"business\",\"business\",\"business\",\"business\",\"business\",\"business\",\"business\",\"business\",\"business\",\"business\",\"business\",\"business\",\"business\",\"business\",\"business\",\"business\",\"business\",\"business\",\"business\",\"business\",\"business\",\"business\",\"business\",\"business\",\"business\",\"business\",\"business\",\"business\",\"business\",\"business\",\"business\",\"business\",\"business\",\"business\",\"business\",\"business\",\"business\",\"business\",\"business\",\"business\",\"business\",\"business\",\"business\",\"business\",\"business\",\"business\",\"business\",\"business\",\"business\",\"business\",\"business\",\"business\",\"business\",\"business\",\"business\",\"business\",\"business\",\"business\",\"business\",\"business\",\"business\",\"business\",\"business\",\"business\",\"business\",\"business\",\"business\",\"business\",\"business\",\"business\",\"business\",\"business\",\"business\",\"business\",\"business\",\"business\",\"business\",\"business\",\"business\",\"business\",\"business\",\"business\",\"business\",\"business\",\"business\",\"business\",\"business\",\"business\",\"business\",\"business\",\"business\",\"business\",\"business\",\"business\",\"business\",\"business\",\"business\",\"business\",\"business\",\"business\",\"business\",\"business\",\"business\",\"business\",\"business\",\"business\",\"business\",\"business\",\"business\",\"business\",\"business\",\"business\",\"business\",\"business\",\"business\",\"business\",\"business\",\"business\",\"business\",\"business\",\"business\",\"business\",\"business\",\"business\",\"business\",\"business\",\"business\",\"business\",\"business\",\"business\",\"business\",\"business\",\"business\",\"business\",\"business\",\"business\",\"business\",\"business\",\"business\",\"business\",\"business\",\"business\",\"business\",\"business\",\"business\",\"business\",\"business\",\"business\",\"business\",\"business\",\"business\",\"business\",\"business\",\"business\",\"business\",\"business\",\"business\",\"business\",\"business\",\"business\",\"business\",\"business\",\"business\",\"business\",\"business\",\"business\",\"business\",\"business\",\"business\",\"business\",\"business\",\"business\",\"business\",\"business\",\"business\",\"business\",\"business\",\"business\",\"business\",\"business\",\"business\",\"business\",\"business\",\"business\",\"business\",\"business\",\"business\",\"business\",\"business\",\"business\",\"business\",\"business\",\"business\",\"business\",\"business\",\"business\",\"business\",\"business\",\"business\",\"business\",\"business\",\"business\",\"business\",\"business\",\"business\",\"business\",\"business\",\"business\",\"business\",\"business\",\"business\",\"business\",\"business\",\"business\",\"business\",\"business\",\"business\",\"business\",\"business\",\"business\",\"business\",\"business\",\"business\",\"business\",\"business\",\"business\",\"business\",\"business\",\"business\",\"business\",\"business\",\"business\",\"business\",\"business\",\"business\",\"business\",\"business\",\"business\",\"business\",\"business\",\"business\",\"business\",\"business\",\"business\",\"business\",\"business\",\"business\",\"business\",\"business\",\"business\",\"business\",\"business\",\"business\",\"business\",\"business\",\"business\",\"business\",\"business\",\"business\",\"business\",\"business\",\"business\",\"business\",\"business\",\"business\",\"business\",\"business\",\"business\",\"business\",\"business\",\"business\",\"business\",\"business\",\"business\",\"business\",\"business\",\"business\",\"business\",\"business\",\"business\",\"business\",\"business\",\"business\",\"business\",\"business\",\"business\",\"business\",\"business\",\"business\",\"business\",\"business\",\"business\",\"business\",\"business\",\"business\",\"business\",\"business\",\"business\",\"business\",\"business\",\"business\",\"business\",\"business\",\"business\",\"business\",\"business\",\"business\",\"business\",\"business\",\"business\",\"business\",\"business\",\"business\",\"business\",\"business\",\"business\",\"business\",\"business\",\"business\",\"business\",\"business\",\"business\",\"business\",\"business\",\"business\",\"business\",\"business\",\"business\",\"business\",\"business\",\"business\",\"business\",\"business\",\"business\",\"business\",\"business\",\"business\",\"business\",\"business\",\"business\",\"business\",\"business\",\"business\",\"business\",\"business\",\"business\",\"business\",\"business\",\"business\",\"business\",\"business\",\"business\",\"business\",\"business\",\"business\",\"business\",\"business\",\"business\",\"business\",\"business\",\"business\",\"business\",\"business\",\"business\",\"business\",\"business\",\"business\",\"business\",\"business\",\"business\",\"business\",\"business\",\"business\",\"business\",\"business\",\"business\",\"business\",\"business\",\"business\",\"business\",\"business\",\"business\",\"business\",\"business\",\"business\",\"business\",\"business\",\"business\",\"business\",\"business\",\"business\",\"business\",\"business\",\"business\",\"business\",\"business\",\"business\",\"business\",\"business\",\"business\",\"business\",\"business\",\"business\",\"business\",\"business\",\"business\",\"business\",\"business\",\"business\",\"business\",\"business\",\"business\",\"business\",\"business\",\"business\",\"business\",\"business\",\"business\",\"business\",\"business\",\"business\",\"business\",\"business\",\"business\",\"business\",\"business\",\"business\",\"business\",\"business\",\"business\",\"business\",\"business\",\"business\",\"business\",\"business\",\"business\",\"business\",\"business\",\"business\",\"business\",\"business\",\"business\",\"business\",\"business\",\"business\",\"business\",\"business\",\"business\",\"business\",\"business\",\"business\",\"business\",\"business\",\"business\",\"business\",\"business\",\"business\",\"business\",\"business\",\"business\",\"business\",\"business\",\"business\",\"business\",\"business\",\"business\",\"business\",\"business\",\"business\",\"business\",\"business\",\"business\",\"business\",\"business\",\"business\",\"business\",\"business\",\"business\",\"business\",\"business\",\"business\",\"business\",\"business\",\"business\",\"business\",\"business\",\"business\",\"business\",\"business\",\"business\",\"business\",\"business\",\"business\",\"business\",\"business\",\"business\",\"business\",\"business\",\"business\",\"business\",\"business\",\"business\",\"business\",\"business\",\"business\",\"business\",\"business\",\"business\",\"business\",\"business\",\"business\",\"business\",\"business\",\"business\",\"business\",\"business\",\"business\",\"business\",\"business\",\"business\",\"business\",\"business\",\"business\",\"business\",\"business\",\"business\",\"business\",\"business\",\"business\",\"business\",\"business\",\"business\",\"business\",\"business\",\"business\",\"business\",\"business\",\"business\",\"business\",\"business\",\"business\",\"business\",\"business\",\"business\",\"business\",\"business\",\"business\",\"business\",\"business\",\"business\",\"business\",\"business\",\"business\",\"business\",\"business\",\"business\",\"business\",\"business\",\"business\",\"business\",\"business\",\"business\",\"business\",\"business\",\"business\",\"business\",\"business\",\"business\",\"business\",\"business\",\"business\",\"business\",\"business\",\"business\",\"business\",\"business\",\"business\",\"business\",\"business\",\"business\",\"business\",\"business\",\"business\",\"business\",\"business\",\"business\",\"business\",\"business\",\"business\",\"business\",\"business\",\"business\",\"business\",\"business\",\"business\",\"business\",\"business\",\"business\",\"business\",\"business\",\"business\",\"business\",\"business\",\"business\",\"business\",\"business\",\"business\",\"business\",\"business\",\"business\",\"business\",\"business\",\"business\",\"business\",\"business\",\"business\",\"business\",\"business\",\"business\",\"business\",\"business\",\"business\",\"business\",\"business\",\"business\",\"business\",\"business\",\"business\",\"business\",\"business\",\"business\",\"business\",\"business\",\"business\",\"business\",\"business\",\"business\",\"business\",\"business\",\"business\",\"business\",\"business\",\"business\",\"business\",\"business\",\"business\",\"business\",\"business\",\"business\",\"business\",\"business\",\"business\",\"business\",\"business\",\"business\",\"business\",\"business\",\"business\",\"business\",\"business\",\"business\",\"business\",\"business\",\"business\",\"business\",\"business\",\"business\",\"business\",\"business\",\"business\",\"business\",\"business\",\"business\",\"business\",\"business\",\"business\",\"business\",\"business\",\"business\",\"business\",\"business\",\"business\",\"business\",\"business\",\"business\",\"business\",\"business\",\"business\",\"business\",\"business\",\"business\",\"business\",\"business\",\"business\",\"business\",\"business\",\"business\",\"business\",\"business\",\"business\",\"business\",\"business\",\"business\",\"business\",\"business\",\"business\",\"business\",\"business\",\"business\",\"business\",\"business\",\"business\",\"business\",\"business\",\"business\",\"business\",\"business\",\"business\",\"business\",\"business\",\"business\",\"business\",\"business\",\"business\",\"business\",\"business\",\"business\",\"business\",\"business\",\"business\",\"business\",\"business\",\"business\",\"business\",\"business\",\"business\",\"business\",\"business\",\"business\",\"business\",\"business\",\"business\",\"business\",\"business\",\"business\",\"business\",\"business\",\"business\",\"business\",\"business\",\"business\",\"business\",\"business\",\"business\",\"business\",\"business\",\"business\",\"business\",\"business\",\"business\",\"business\",\"business\",\"business\",\"business\",\"business\",\"business\",\"business\",\"business\",\"business\",\"business\",\"business\",\"business\",\"business\",\"business\",\"business\",\"business\",\"business\",\"business\",\"business\",\"sports\",\"sports\",\"sports\",\"sports\",\"sports\",\"sports\",\"sports\",\"sports\",\"sports\",\"sports\",\"sports\",\"sports\",\"sports\",\"sports\",\"sports\",\"sports\",\"sports\",\"sports\",\"sports\",\"sports\",\"sports\",\"sports\",\"sports\",\"sports\",\"sports\",\"sports\",\"sports\",\"sports\",\"sports\",\"sports\",\"sports\",\"sports\",\"sports\",\"sports\",\"sports\",\"sports\",\"sports\",\"sports\",\"sports\",\"sports\",\"sports\",\"sports\",\"sports\",\"sports\",\"sports\",\"sports\",\"sports\",\"sports\",\"sports\",\"sports\",\"sports\",\"sports\",\"sports\",\"sports\",\"sports\",\"sports\",\"sports\",\"sports\",\"sports\",\"sports\",\"sports\",\"sports\",\"sports\",\"sports\",\"sports\",\"sports\",\"sports\",\"sports\",\"sports\",\"sports\",\"sports\",\"sports\",\"sports\",\"sports\",\"sports\",\"sports\",\"sports\",\"sports\",\"sports\",\"sports\",\"sports\",\"sports\",\"sports\",\"sports\",\"sports\",\"sports\",\"sports\",\"sports\",\"sports\",\"sports\",\"sports\",\"sports\",\"sports\",\"sports\",\"sports\",\"sports\",\"sports\",\"sports\",\"sports\",\"sports\",\"sports\",\"sports\",\"sports\",\"sports\",\"sports\",\"sports\",\"sports\",\"sports\",\"sports\",\"sports\",\"sports\",\"sports\",\"sports\",\"sports\",\"sports\",\"sports\",\"sports\",\"sports\",\"sports\",\"sports\",\"sports\",\"sports\",\"sports\",\"sports\",\"sports\",\"sports\",\"sports\",\"sports\",\"sports\",\"sports\",\"sports\",\"sports\",\"sports\",\"sports\",\"sports\",\"sports\",\"sports\",\"sports\",\"sports\",\"sports\",\"sports\",\"sports\",\"sports\",\"sports\",\"sports\",\"sports\",\"sports\",\"sports\",\"sports\",\"sports\",\"sports\",\"sports\",\"sports\",\"sports\",\"sports\",\"sports\",\"sports\",\"sports\",\"sports\",\"sports\",\"sports\",\"sports\",\"sports\",\"sports\",\"sports\",\"sports\",\"sports\",\"sports\",\"sports\",\"sports\",\"sports\",\"sports\",\"sports\",\"sports\",\"sports\",\"sports\",\"sports\",\"sports\",\"sports\",\"sports\",\"sports\",\"sports\",\"sports\",\"sports\",\"sports\",\"sports\",\"sports\",\"sports\",\"sports\",\"sports\",\"sports\",\"sports\",\"sports\",\"sports\",\"sports\",\"sports\",\"sports\",\"sports\",\"sports\",\"sports\",\"sports\",\"sports\",\"sports\",\"sports\",\"sports\",\"sports\",\"sports\",\"sports\",\"sports\",\"sports\",\"sports\",\"sports\",\"sports\",\"sports\",\"sports\",\"sports\",\"sports\",\"sports\",\"sports\",\"sports\",\"sports\",\"sports\",\"sports\",\"sports\",\"sports\",\"sports\",\"sports\",\"sports\",\"sports\",\"sports\",\"sports\",\"sports\",\"sports\",\"sports\",\"sports\",\"sports\",\"sports\",\"sports\",\"sports\",\"sports\",\"sports\",\"sports\",\"sports\",\"sports\",\"sports\",\"sports\",\"sports\",\"sports\",\"sports\",\"sports\",\"sports\",\"sports\",\"sports\",\"sports\",\"sports\",\"sports\",\"sports\",\"sports\",\"sports\",\"sports\",\"sports\",\"sports\",\"sports\",\"sports\",\"sports\",\"sports\",\"sports\",\"sports\",\"sports\",\"sports\",\"sports\",\"sports\",\"sports\",\"sports\",\"sports\",\"sports\",\"sports\",\"sports\",\"sports\",\"sports\",\"sports\",\"sports\",\"sports\",\"sports\",\"sports\",\"sports\",\"sports\",\"sports\",\"sports\",\"sports\",\"sports\",\"sports\",\"sports\",\"sports\",\"sports\",\"sports\",\"sports\",\"sports\",\"sports\",\"sports\",\"sports\",\"sports\",\"sports\",\"sports\",\"sports\",\"sports\",\"sports\",\"sports\",\"sports\",\"sports\",\"sports\",\"sports\",\"sports\",\"sports\",\"sports\",\"sports\",\"sports\",\"sports\",\"sports\",\"sports\",\"sports\",\"sports\",\"sports\",\"sports\",\"sports\",\"sports\",\"sports\",\"sports\",\"sports\",\"sports\",\"sports\",\"sports\",\"sports\",\"sports\",\"sports\",\"sports\",\"sports\",\"sports\",\"sports\",\"sports\",\"sports\",\"sports\",\"sports\",\"sports\",\"sports\",\"sports\",\"sports\",\"sports\",\"sports\",\"sports\",\"sports\",\"sports\",\"sports\",\"sports\",\"sports\",\"sports\",\"sports\",\"sports\",\"sports\",\"sports\",\"sports\",\"sports\",\"sports\",\"sports\",\"sports\",\"sports\",\"sports\",\"sports\",\"sports\",\"sports\",\"sports\",\"sports\",\"sports\",\"sports\",\"sports\",\"sports\",\"sports\",\"sports\",\"sports\",\"sports\",\"sports\",\"sports\",\"sports\",\"sports\",\"sports\",\"sports\",\"sports\",\"sports\",\"sports\",\"sports\",\"sports\",\"sports\",\"sports\",\"sports\",\"sports\",\"sports\",\"sports\",\"sports\",\"sports\",\"sports\",\"sports\",\"sports\",\"sports\",\"sports\",\"sports\",\"sports\",\"sports\",\"sports\",\"sports\",\"sports\",\"sports\",\"sports\",\"sports\",\"sports\",\"sports\",\"sports\",\"sports\",\"sports\",\"sports\",\"sports\",\"sports\",\"sports\",\"sports\",\"sports\",\"sports\",\"sports\",\"sports\",\"sports\",\"sports\",\"sports\",\"sports\",\"sports\",\"sports\",\"sports\",\"sports\",\"sports\",\"sports\",\"sports\",\"sports\",\"sports\",\"sports\",\"sports\",\"sports\",\"sports\",\"sports\",\"sports\",\"sports\",\"sports\",\"sports\",\"sports\",\"sports\",\"sports\",\"sports\",\"sports\",\"sports\",\"sports\",\"sports\",\"sports\",\"sports\",\"sports\",\"sports\",\"sports\",\"sports\",\"sports\",\"sports\",\"sports\",\"sports\",\"sports\",\"sports\",\"sports\",\"sports\",\"sports\",\"sports\",\"sports\",\"sports\",\"sports\",\"sports\",\"sports\",\"sports\",\"sports\",\"sports\",\"sports\",\"sports\",\"sports\",\"sports\",\"sports\",\"sports\",\"sports\",\"sports\",\"sports\",\"sports\",\"sports\",\"sports\",\"sports\",\"sports\",\"sports\",\"sports\",\"sports\",\"sports\",\"sports\",\"sports\",\"sports\",\"sports\",\"sports\",\"sports\",\"sports\",\"sports\",\"sports\",\"sports\",\"sports\",\"sports\",\"sports\",\"sports\",\"sports\",\"sports\",\"sports\",\"sports\",\"sports\",\"sports\",\"sports\",\"sports\",\"sports\",\"sports\",\"sports\",\"sports\",\"sports\",\"sports\",\"sports\",\"sports\",\"sports\",\"sports\",\"sports\",\"sports\",\"sports\",\"sports\",\"sports\",\"sports\",\"sports\",\"sports\",\"sports\",\"sports\",\"sports\",\"sports\",\"sports\",\"sports\",\"sports\",\"sports\",\"sports\",\"sports\",\"sports\",\"sports\",\"sports\",\"sports\",\"sports\",\"sports\",\"sports\",\"sports\",\"sports\",\"sports\",\"sports\",\"sports\",\"sports\",\"sports\",\"sports\",\"sports\",\"sports\",\"sports\",\"sports\",\"sports\",\"sports\",\"sports\",\"sports\",\"sports\",\"sports\",\"sports\",\"sports\",\"sports\",\"sports\",\"sports\",\"sports\",\"sports\",\"sports\",\"sports\",\"sports\",\"sports\",\"sports\",\"sports\",\"sports\",\"sports\",\"sports\",\"sports\",\"sports\",\"sports\",\"sports\",\"sports\",\"sports\",\"sports\",\"sports\",\"sports\",\"sports\",\"sports\",\"sports\",\"sports\",\"sports\",\"sports\",\"sports\",\"sports\",\"sports\",\"sports\",\"sports\",\"sports\",\"sports\",\"sports\",\"sports\",\"sports\",\"sports\",\"sports\",\"sports\",\"sports\",\"sports\",\"sports\",\"sports\",\"sports\",\"sports\",\"sports\",\"sports\",\"sports\",\"sports\",\"sports\",\"sports\",\"sports\",\"sports\",\"sports\",\"sports\",\"sports\",\"sports\",\"sports\",\"sports\",\"sports\",\"sports\",\"sports\",\"sports\",\"sports\",\"sports\",\"sports\",\"sports\",\"sports\",\"sports\",\"sports\",\"sports\",\"sports\",\"sports\",\"sports\",\"sports\",\"sports\",\"sports\",\"sports\",\"sports\",\"sports\",\"sports\",\"sports\",\"sports\",\"sports\",\"sports\",\"sports\",\"sports\",\"sports\",\"sports\",\"sports\",\"sports\",\"sports\",\"sports\",\"sports\",\"sports\",\"sports\",\"sports\",\"sports\",\"sports\",\"sports\",\"sports\",\"sports\",\"sports\",\"sports\",\"sports\",\"sports\",\"sports\",\"sports\",\"sports\",\"sports\",\"sports\",\"sports\",\"sports\",\"sports\",\"sports\",\"sports\",\"sports\",\"sports\",\"sports\",\"sports\",\"sports\",\"sports\",\"sports\",\"sports\",\"sports\",\"sports\",\"sports\",\"sports\",\"sports\",\"sports\",\"sports\",\"sports\",\"sports\",\"sports\",\"sports\",\"sports\",\"sports\",\"sports\",\"sports\",\"sports\",\"sports\",\"sports\",\"sports\",\"sports\",\"sports\",\"sports\",\"sports\",\"sports\",\"sports\",\"sports\",\"sports\",\"sports\",\"sports\",\"sports\",\"sports\",\"sports\",\"sports\",\"sports\",\"sports\",\"sports\",\"sports\",\"sports\",\"sports\",\"sports\",\"sports\",\"sports\",\"sports\",\"sports\",\"sports\",\"sports\",\"sports\",\"sports\",\"sports\",\"sports\",\"sports\",\"sports\",\"sports\",\"sports\",\"sports\",\"sports\",\"sports\",\"sports\",\"sports\",\"sports\",\"sports\",\"sports\",\"sports\",\"sports\",\"sports\",\"sports\",\"sports\",\"sports\",\"sports\",\"sports\",\"sports\",\"sports\",\"sports\",\"sports\",\"sports\",\"sports\",\"sports\",\"sports\",\"sports\",\"sports\",\"sports\",\"sports\",\"sports\",\"sports\",\"sports\",\"sports\",\"sports\",\"sports\",\"sports\",\"sports\",\"sports\",\"sports\",\"sports\",\"sports\",\"sports\",\"sports\",\"sports\",\"sports\",\"sports\",\"sports\",\"sports\",\"sports\",\"sports\",\"sports\",\"sports\",\"sports\",\"sports\",\"sports\",\"sports\",\"sports\",\"sports\",\"sports\",\"sports\",\"sports\",\"sports\",\"sports\",\"sports\",\"sports\",\"sports\",\"sports\",\"sports\",\"sports\",\"sports\",\"sports\",\"sports\",\"sports\",\"sports\",\"sports\",\"sports\",\"sports\",\"sports\",\"sports\",\"sports\",\"sports\",\"sports\",\"sports\",\"sports\",\"sports\",\"sports\",\"sports\",\"sports\",\"sports\",\"sports\",\"sports\",\"sports\",\"sports\",\"sports\",\"sports\",\"sports\",\"sports\",\"sports\",\"sports\",\"sports\",\"sports\",\"sports\",\"sports\",\"sports\",\"sports\",\"sports\",\"sports\",\"sports\",\"sports\",\"sports\",\"sports\",\"sports\",\"sports\",\"sports\",\"sports\",\"sports\",\"sports\",\"sports\",\"sports\",\"sports\",\"sports\",\"sports\",\"sports\",\"sports\",\"sports\",\"sports\",\"sports\",\"sports\",\"sports\",\"sports\",\"sports\",\"sports\",\"sports\",\"sports\",\"sports\",\"sports\",\"sports\",\"sports\",\"sports\",\"sports\",\"sports\",\"sports\",\"sports\",\"sports\",\"sports\",\"sports\",\"sports\",\"sports\",\"sports\",\"sports\",\"sports\",\"sports\",\"sports\",\"sports\",\"sports\",\"sports\",\"sports\",\"sports\",\"sports\",\"sports\",\"sports\",\"sports\",\"sports\",\"sports\",\"sports\",\"sports\",\"sports\",\"sports\",\"sports\",\"sports\",\"sports\",\"sports\",\"sports\",\"sports\",\"sports\",\"sports\",\"sports\",\"sports\",\"sports\",\"sports\",\"sports\",\"sports\",\"sports\",\"sports\",\"sports\",\"sports\",\"sports\",\"sports\",\"sports\",\"sports\",\"sports\",\"sports\",\"sports\",\"sports\",\"sports\",\"sports\",\"sports\",\"sports\",\"sports\",\"sports\",\"sports\",\"sports\",\"sports\",\"sports\",\"sports\",\"sports\",\"sports\",\"sports\",\"sports\",\"sports\",\"sports\",\"sports\",\"sports\",\"sports\",\"sports\",\"sports\",\"sports\",\"sports\",\"sports\",\"sports\",\"sports\",\"sports\",\"sports\",\"sports\",\"sports\",\"sports\",\"sports\",\"sports\",\"sports\",\"sports\",\"sports\",\"sports\",\"sports\",\"sports\",\"sports\",\"sports\",\"sports\",\"sports\",\"sports\",\"sports\",\"sports\",\"sports\",\"sports\",\"sports\",\"sports\",\"sports\",\"sports\",\"sports\",\"sports\",\"sports\",\"sports\",\"sports\",\"sports\",\"sports\",\"sports\",\"sports\",\"sports\",\"sports\",\"sports\",\"sports\",\"sports\",\"sports\",\"sports\",\"sports\",\"sports\",\"sports\",\"sports\",\"sports\",\"sports\",\"sports\",\"sports\",\"sports\",\"sports\",\"sports\",\"sports\",\"sports\",\"sports\",\"sports\",\"sports\",\"sports\",\"sports\",\"sports\",\"sports\",\"sports\",\"sports\",\"sports\",\"sports\",\"sports\",\"sports\",\"sports\",\"sports\",\"sports\",\"sports\",\"sports\",\"sports\",\"sports\",\"sports\",\"sports\",\"sports\",\"sports\",\"sports\",\"sports\",\"sports\",\"sports\",\"sports\",\"sports\",\"sports\",\"sports\",\"sports\",\"sports\",\"sports\",\"sports\",\"sports\",\"sports\",\"sports\",\"sports\",\"sports\",\"sports\",\"sports\",\"sports\",\"sports\",\"sports\",\"sports\",\"sports\",\"sports\",\"sports\",\"sports\",\"sports\",\"sports\",\"sports\",\"sports\",\"sports\",\"sports\",\"sports\",\"sports\",\"sports\",\"sports\",\"sports\",\"sports\",\"sports\",\"sports\",\"sports\",\"sports\",\"sports\",\"sports\",\"sports\",\"sports\",\"sports\",\"sports\",\"sports\",\"sports\",\"sports\",\"sports\",\"sports\",\"sports\",\"sports\",\"sports\",\"sports\",\"sports\",\"sports\",\"sports\",\"sports\",\"sports\",\"sports\",\"sports\",\"sports\",\"sports\",\"sports\",\"sports\",\"sports\",\"sports\",\"sports\",\"sports\",\"sports\",\"sports\",\"sports\",\"sports\",\"sports\",\"sports\",\"sports\",\"sports\",\"sports\",\"sports\",\"sports\",\"sports\",\"sports\",\"sports\",\"sports\",\"sports\",\"sports\",\"sports\",\"sports\",\"sports\",\"sports\",\"sports\",\"sports\",\"sports\",\"sports\",\"sports\",\"sports\",\"sports\",\"sports\",\"sports\",\"sports\",\"sports\",\"sports\",\"sports\",\"sports\",\"sports\",\"sports\",\"sports\",\"sports\",\"sports\",\"sports\",\"sports\",\"sports\",\"sports\",\"sports\",\"sports\",\"sports\",\"sports\",\"sports\",\"sports\",\"sports\",\"sports\",\"sports\",\"sports\",\"sports\",\"sports\",\"sports\",\"sports\",\"sports\",\"sports\",\"sports\",\"sports\",\"sports\",\"sports\",\"sports\",\"sports\",\"sports\",\"sports\",\"sports\",\"sports\",\"sports\",\"sports\",\"sports\",\"sports\",\"sports\",\"sports\",\"sports\",\"sports\",\"sports\",\"sports\",\"sports\",\"sports\",\"sports\",\"sports\",\"sports\",\"sports\",\"sports\",\"sports\",\"sports\",\"sports\",\"sports\",\"sports\",\"sports\",\"sports\",\"sports\",\"sports\",\"sports\",\"sports\",\"sports\",\"sports\",\"sports\",\"sports\",\"sports\",\"sports\",\"sports\",\"sports\",\"sports\",\"sports\",\"sports\",\"sports\",\"sports\",\"sports\",\"sports\",\"sports\",\"sports\",\"sports\",\"sports\",\"sports\",\"sports\",\"sports\",\"sports\",\"sports\",\"sports\",\"sports\",\"sports\",\"sports\",\"sports\",\"sports\",\"sports\",\"sports\",\"sports\",\"sports\",\"sports\",\"sports\",\"sports\",\"sports\",\"sports\",\"sports\",\"sports\",\"sports\",\"sports\",\"sports\",\"sports\",\"sports\",\"sports\",\"sports\",\"sports\",\"sports\",\"sports\",\"sports\",\"sports\",\"sports\",\"sports\",\"sports\",\"sports\",\"sports\",\"sports\",\"sports\",\"sports\",\"sports\",\"sports\",\"sports\",\"sports\",\"sports\",\"sports\",\"sports\",\"sports\",\"sports\",\"sports\",\"sports\",\"sports\",\"sports\",\"sports\",\"sports\",\"sports\",\"sports\",\"sports\",\"sports\",\"sports\",\"sports\",\"sports\",\"sports\",\"sports\",\"sports\",\"sports\",\"sports\",\"sports\",\"sports\",\"sports\",\"sports\",\"sports\",\"sports\",\"sports\",\"sports\",\"sports\",\"sports\",\"sports\",\"sports\",\"sports\",\"sports\",\"sports\",\"sports\",\"sports\",\"sports\",\"sports\",\"sports\",\"sports\",\"sports\",\"sports\",\"sports\",\"sports\",\"sports\",\"sports\",\"sports\",\"sports\",\"sports\",\"sports\",\"sports\",\"sports\",\"sports\",\"sports\",\"sports\",\"sports\",\"sports\",\"sports\",\"sports\",\"sports\",\"sports\",\"sports\",\"sports\",\"sports\",\"sports\",\"sports\",\"sports\",\"sports\",\"sports\",\"sports\",\"sports\",\"sports\",\"sports\",\"sports\",\"sports\",\"sports\",\"sports\",\"sports\",\"sports\",\"sports\",\"sports\",\"sports\",\"sports\",\"sports\",\"sports\",\"sports\",\"sports\",\"sports\",\"sports\",\"sports\",\"sports\",\"sports\",\"sports\",\"sports\",\"sports\",\"sports\",\"sports\",\"sports\",\"sports\",\"sports\",\"sports\",\"sports\",\"sports\",\"sports\",\"sports\",\"sports\",\"sports\",\"sports\",\"sports\",\"sports\",\"sports\",\"sports\",\"business\",\"business\",\"business\",\"business\",\"business\",\"business\",\"business\",\"business\",\"business\",\"business\",\"business\",\"business\",\"business\",\"business\",\"business\",\"business\",\"business\",\"business\",\"business\",\"business\",\"business\",\"business\",\"business\",\"business\",\"business\",\"business\",\"business\",\"business\",\"business\",\"business\",\"business\",\"business\",\"business\",\"business\",\"business\",\"business\",\"business\",\"business\",\"business\",\"business\",\"business\",\"business\",\"business\",\"business\",\"business\",\"business\",\"business\",\"business\",\"business\",\"business\",\"business\",\"business\",\"business\",\"business\",\"business\",\"business\",\"business\",\"business\",\"business\",\"business\",\"business\",\"business\",\"business\",\"business\",\"business\",\"business\",\"business\",\"business\",\"business\",\"business\",\"business\",\"business\",\"business\",\"business\",\"business\",\"business\",\"business\",\"business\",\"business\",\"business\",\"business\",\"business\",\"business\",\"business\",\"business\",\"business\",\"business\",\"business\",\"business\",\"business\",\"business\",\"business\",\"business\",\"business\",\"business\",\"business\",\"business\",\"business\",\"business\",\"business\",\"business\",\"business\",\"business\",\"business\",\"business\",\"business\",\"business\",\"business\",\"business\",\"business\",\"business\",\"business\",\"business\",\"business\",\"business\",\"business\",\"business\",\"business\",\"business\",\"business\",\"business\",\"business\",\"business\",\"business\",\"business\",\"business\",\"business\",\"business\",\"business\",\"business\",\"business\",\"business\",\"business\",\"business\",\"business\",\"business\",\"business\",\"business\",\"business\",\"business\",\"business\",\"business\",\"business\",\"business\",\"business\",\"business\",\"business\",\"business\",\"business\",\"business\",\"business\",\"business\",\"business\",\"business\",\"business\",\"business\",\"business\",\"business\",\"business\",\"business\",\"business\",\"business\",\"business\",\"business\",\"business\",\"business\",\"business\",\"business\",\"business\",\"business\",\"business\",\"business\",\"business\",\"business\",\"business\",\"business\",\"business\",\"business\",\"business\",\"business\",\"business\",\"business\",\"business\",\"business\",\"business\",\"business\",\"business\",\"business\",\"business\",\"business\",\"business\",\"business\",\"business\",\"business\",\"business\",\"business\",\"business\",\"business\",\"business\",\"business\",\"business\",\"business\",\"business\",\"business\",\"business\",\"business\",\"business\",\"business\",\"business\",\"business\",\"business\",\"business\",\"business\",\"business\",\"business\",\"business\",\"business\",\"business\",\"business\",\"business\",\"business\",\"business\",\"business\",\"business\",\"business\",\"business\",\"business\",\"business\",\"business\",\"business\",\"business\",\"business\",\"business\",\"business\",\"business\",\"business\",\"business\",\"business\",\"business\",\"business\",\"business\",\"business\",\"business\",\"business\",\"business\",\"business\",\"business\",\"business\",\"business\",\"business\",\"business\",\"business\",\"business\",\"business\",\"business\",\"business\",\"business\",\"business\",\"business\",\"business\",\"business\",\"business\",\"business\"],\"yaxis\":\"y\",\"type\":\"scatter\"}],                        {\"template\":{\"data\":{\"bar\":[{\"error_x\":{\"color\":\"#2a3f5f\"},\"error_y\":{\"color\":\"#2a3f5f\"},\"marker\":{\"line\":{\"color\":\"#E5ECF6\",\"width\":0.5},\"pattern\":{\"fillmode\":\"overlay\",\"size\":10,\"solidity\":0.2}},\"type\":\"bar\"}],\"barpolar\":[{\"marker\":{\"line\":{\"color\":\"#E5ECF6\",\"width\":0.5},\"pattern\":{\"fillmode\":\"overlay\",\"size\":10,\"solidity\":0.2}},\"type\":\"barpolar\"}],\"carpet\":[{\"aaxis\":{\"endlinecolor\":\"#2a3f5f\",\"gridcolor\":\"white\",\"linecolor\":\"white\",\"minorgridcolor\":\"white\",\"startlinecolor\":\"#2a3f5f\"},\"baxis\":{\"endlinecolor\":\"#2a3f5f\",\"gridcolor\":\"white\",\"linecolor\":\"white\",\"minorgridcolor\":\"white\",\"startlinecolor\":\"#2a3f5f\"},\"type\":\"carpet\"}],\"choropleth\":[{\"colorbar\":{\"outlinewidth\":0,\"ticks\":\"\"},\"type\":\"choropleth\"}],\"contour\":[{\"colorbar\":{\"outlinewidth\":0,\"ticks\":\"\"},\"colorscale\":[[0.0,\"#0d0887\"],[0.1111111111111111,\"#46039f\"],[0.2222222222222222,\"#7201a8\"],[0.3333333333333333,\"#9c179e\"],[0.4444444444444444,\"#bd3786\"],[0.5555555555555556,\"#d8576b\"],[0.6666666666666666,\"#ed7953\"],[0.7777777777777778,\"#fb9f3a\"],[0.8888888888888888,\"#fdca26\"],[1.0,\"#f0f921\"]],\"type\":\"contour\"}],\"contourcarpet\":[{\"colorbar\":{\"outlinewidth\":0,\"ticks\":\"\"},\"type\":\"contourcarpet\"}],\"heatmap\":[{\"colorbar\":{\"outlinewidth\":0,\"ticks\":\"\"},\"colorscale\":[[0.0,\"#0d0887\"],[0.1111111111111111,\"#46039f\"],[0.2222222222222222,\"#7201a8\"],[0.3333333333333333,\"#9c179e\"],[0.4444444444444444,\"#bd3786\"],[0.5555555555555556,\"#d8576b\"],[0.6666666666666666,\"#ed7953\"],[0.7777777777777778,\"#fb9f3a\"],[0.8888888888888888,\"#fdca26\"],[1.0,\"#f0f921\"]],\"type\":\"heatmap\"}],\"heatmapgl\":[{\"colorbar\":{\"outlinewidth\":0,\"ticks\":\"\"},\"colorscale\":[[0.0,\"#0d0887\"],[0.1111111111111111,\"#46039f\"],[0.2222222222222222,\"#7201a8\"],[0.3333333333333333,\"#9c179e\"],[0.4444444444444444,\"#bd3786\"],[0.5555555555555556,\"#d8576b\"],[0.6666666666666666,\"#ed7953\"],[0.7777777777777778,\"#fb9f3a\"],[0.8888888888888888,\"#fdca26\"],[1.0,\"#f0f921\"]],\"type\":\"heatmapgl\"}],\"histogram\":[{\"marker\":{\"pattern\":{\"fillmode\":\"overlay\",\"size\":10,\"solidity\":0.2}},\"type\":\"histogram\"}],\"histogram2d\":[{\"colorbar\":{\"outlinewidth\":0,\"ticks\":\"\"},\"colorscale\":[[0.0,\"#0d0887\"],[0.1111111111111111,\"#46039f\"],[0.2222222222222222,\"#7201a8\"],[0.3333333333333333,\"#9c179e\"],[0.4444444444444444,\"#bd3786\"],[0.5555555555555556,\"#d8576b\"],[0.6666666666666666,\"#ed7953\"],[0.7777777777777778,\"#fb9f3a\"],[0.8888888888888888,\"#fdca26\"],[1.0,\"#f0f921\"]],\"type\":\"histogram2d\"}],\"histogram2dcontour\":[{\"colorbar\":{\"outlinewidth\":0,\"ticks\":\"\"},\"colorscale\":[[0.0,\"#0d0887\"],[0.1111111111111111,\"#46039f\"],[0.2222222222222222,\"#7201a8\"],[0.3333333333333333,\"#9c179e\"],[0.4444444444444444,\"#bd3786\"],[0.5555555555555556,\"#d8576b\"],[0.6666666666666666,\"#ed7953\"],[0.7777777777777778,\"#fb9f3a\"],[0.8888888888888888,\"#fdca26\"],[1.0,\"#f0f921\"]],\"type\":\"histogram2dcontour\"}],\"mesh3d\":[{\"colorbar\":{\"outlinewidth\":0,\"ticks\":\"\"},\"type\":\"mesh3d\"}],\"parcoords\":[{\"line\":{\"colorbar\":{\"outlinewidth\":0,\"ticks\":\"\"}},\"type\":\"parcoords\"}],\"pie\":[{\"automargin\":true,\"type\":\"pie\"}],\"scatter\":[{\"marker\":{\"colorbar\":{\"outlinewidth\":0,\"ticks\":\"\"}},\"type\":\"scatter\"}],\"scatter3d\":[{\"line\":{\"colorbar\":{\"outlinewidth\":0,\"ticks\":\"\"}},\"marker\":{\"colorbar\":{\"outlinewidth\":0,\"ticks\":\"\"}},\"type\":\"scatter3d\"}],\"scattercarpet\":[{\"marker\":{\"colorbar\":{\"outlinewidth\":0,\"ticks\":\"\"}},\"type\":\"scattercarpet\"}],\"scattergeo\":[{\"marker\":{\"colorbar\":{\"outlinewidth\":0,\"ticks\":\"\"}},\"type\":\"scattergeo\"}],\"scattergl\":[{\"marker\":{\"colorbar\":{\"outlinewidth\":0,\"ticks\":\"\"}},\"type\":\"scattergl\"}],\"scattermapbox\":[{\"marker\":{\"colorbar\":{\"outlinewidth\":0,\"ticks\":\"\"}},\"type\":\"scattermapbox\"}],\"scatterpolar\":[{\"marker\":{\"colorbar\":{\"outlinewidth\":0,\"ticks\":\"\"}},\"type\":\"scatterpolar\"}],\"scatterpolargl\":[{\"marker\":{\"colorbar\":{\"outlinewidth\":0,\"ticks\":\"\"}},\"type\":\"scatterpolargl\"}],\"scatterternary\":[{\"marker\":{\"colorbar\":{\"outlinewidth\":0,\"ticks\":\"\"}},\"type\":\"scatterternary\"}],\"surface\":[{\"colorbar\":{\"outlinewidth\":0,\"ticks\":\"\"},\"colorscale\":[[0.0,\"#0d0887\"],[0.1111111111111111,\"#46039f\"],[0.2222222222222222,\"#7201a8\"],[0.3333333333333333,\"#9c179e\"],[0.4444444444444444,\"#bd3786\"],[0.5555555555555556,\"#d8576b\"],[0.6666666666666666,\"#ed7953\"],[0.7777777777777778,\"#fb9f3a\"],[0.8888888888888888,\"#fdca26\"],[1.0,\"#f0f921\"]],\"type\":\"surface\"}],\"table\":[{\"cells\":{\"fill\":{\"color\":\"#EBF0F8\"},\"line\":{\"color\":\"white\"}},\"header\":{\"fill\":{\"color\":\"#C8D4E3\"},\"line\":{\"color\":\"white\"}},\"type\":\"table\"}]},\"layout\":{\"annotationdefaults\":{\"arrowcolor\":\"#2a3f5f\",\"arrowhead\":0,\"arrowwidth\":1},\"autotypenumbers\":\"strict\",\"coloraxis\":{\"colorbar\":{\"outlinewidth\":0,\"ticks\":\"\"}},\"colorscale\":{\"diverging\":[[0,\"#8e0152\"],[0.1,\"#c51b7d\"],[0.2,\"#de77ae\"],[0.3,\"#f1b6da\"],[0.4,\"#fde0ef\"],[0.5,\"#f7f7f7\"],[0.6,\"#e6f5d0\"],[0.7,\"#b8e186\"],[0.8,\"#7fbc41\"],[0.9,\"#4d9221\"],[1,\"#276419\"]],\"sequential\":[[0.0,\"#0d0887\"],[0.1111111111111111,\"#46039f\"],[0.2222222222222222,\"#7201a8\"],[0.3333333333333333,\"#9c179e\"],[0.4444444444444444,\"#bd3786\"],[0.5555555555555556,\"#d8576b\"],[0.6666666666666666,\"#ed7953\"],[0.7777777777777778,\"#fb9f3a\"],[0.8888888888888888,\"#fdca26\"],[1.0,\"#f0f921\"]],\"sequentialminus\":[[0.0,\"#0d0887\"],[0.1111111111111111,\"#46039f\"],[0.2222222222222222,\"#7201a8\"],[0.3333333333333333,\"#9c179e\"],[0.4444444444444444,\"#bd3786\"],[0.5555555555555556,\"#d8576b\"],[0.6666666666666666,\"#ed7953\"],[0.7777777777777778,\"#fb9f3a\"],[0.8888888888888888,\"#fdca26\"],[1.0,\"#f0f921\"]]},\"colorway\":[\"#636efa\",\"#EF553B\",\"#00cc96\",\"#ab63fa\",\"#FFA15A\",\"#19d3f3\",\"#FF6692\",\"#B6E880\",\"#FF97FF\",\"#FECB52\"],\"font\":{\"color\":\"#2a3f5f\"},\"geo\":{\"bgcolor\":\"white\",\"lakecolor\":\"white\",\"landcolor\":\"#E5ECF6\",\"showlakes\":true,\"showland\":true,\"subunitcolor\":\"white\"},\"hoverlabel\":{\"align\":\"left\"},\"hovermode\":\"closest\",\"mapbox\":{\"style\":\"light\"},\"paper_bgcolor\":\"white\",\"plot_bgcolor\":\"#E5ECF6\",\"polar\":{\"angularaxis\":{\"gridcolor\":\"white\",\"linecolor\":\"white\",\"ticks\":\"\"},\"bgcolor\":\"#E5ECF6\",\"radialaxis\":{\"gridcolor\":\"white\",\"linecolor\":\"white\",\"ticks\":\"\"}},\"scene\":{\"xaxis\":{\"backgroundcolor\":\"#E5ECF6\",\"gridcolor\":\"white\",\"gridwidth\":2,\"linecolor\":\"white\",\"showbackground\":true,\"ticks\":\"\",\"zerolinecolor\":\"white\"},\"yaxis\":{\"backgroundcolor\":\"#E5ECF6\",\"gridcolor\":\"white\",\"gridwidth\":2,\"linecolor\":\"white\",\"showbackground\":true,\"ticks\":\"\",\"zerolinecolor\":\"white\"},\"zaxis\":{\"backgroundcolor\":\"#E5ECF6\",\"gridcolor\":\"white\",\"gridwidth\":2,\"linecolor\":\"white\",\"showbackground\":true,\"ticks\":\"\",\"zerolinecolor\":\"white\"}},\"shapedefaults\":{\"line\":{\"color\":\"#2a3f5f\"}},\"ternary\":{\"aaxis\":{\"gridcolor\":\"white\",\"linecolor\":\"white\",\"ticks\":\"\"},\"baxis\":{\"gridcolor\":\"white\",\"linecolor\":\"white\",\"ticks\":\"\"},\"bgcolor\":\"#E5ECF6\",\"caxis\":{\"gridcolor\":\"white\",\"linecolor\":\"white\",\"ticks\":\"\"}},\"title\":{\"x\":0.05},\"xaxis\":{\"automargin\":true,\"gridcolor\":\"white\",\"linecolor\":\"white\",\"ticks\":\"\",\"title\":{\"standoff\":15},\"zerolinecolor\":\"white\",\"zerolinewidth\":2},\"yaxis\":{\"automargin\":true,\"gridcolor\":\"white\",\"linecolor\":\"white\",\"ticks\":\"\",\"title\":{\"standoff\":15},\"zerolinecolor\":\"white\",\"zerolinewidth\":2}}},\"xaxis\":{\"anchor\":\"y\",\"domain\":[0.0,1.0],\"title\":{\"text\":\"Date\"}},\"yaxis\":{\"anchor\":\"x\",\"domain\":[0.0,1.0],\"title\":{\"text\":\"NewsType\"}},\"legend\":{\"tracegroupgap\":0},\"title\":{\"text\":\"NewsType vs Dates\"}},                        {\"responsive\": true}                    ).then(function(){\n",
              "                            \n",
              "var gd = document.getElementById('05a8282a-eaa8-43e4-8d8e-aca8bce1f97f');\n",
              "var x = new MutationObserver(function (mutations, observer) {{\n",
              "        var display = window.getComputedStyle(gd).display;\n",
              "        if (!display || display === 'none') {{\n",
              "            console.log([gd, 'removed!']);\n",
              "            Plotly.purge(gd);\n",
              "            observer.disconnect();\n",
              "        }}\n",
              "}});\n",
              "\n",
              "// Listen for the removal of the full notebook cells\n",
              "var notebookContainer = gd.closest('#notebook-container');\n",
              "if (notebookContainer) {{\n",
              "    x.observe(notebookContainer, {childList: true});\n",
              "}}\n",
              "\n",
              "// Listen for the clearing of the current output cell\n",
              "var outputEl = gd.closest('.output');\n",
              "if (outputEl) {{\n",
              "    x.observe(outputEl, {childList: true});\n",
              "}}\n",
              "\n",
              "                        })                };                            </script>        </div>\n",
              "</body>\n",
              "</html>"
            ]
          },
          "metadata": {}
        }
      ]
    },
    {
      "cell_type": "code",
      "source": [
        "import pandas as pd\n",
        "import matplotlib.pyplot as plt\n",
        "%matplotlib inline  \n",
        "import nltk\n",
        "from nltk import word_tokenize, sent_tokenize\n",
        "from nltk.corpus import stopwords\n",
        "from nltk.stem import LancasterStemmer, WordNetLemmatizer, PorterStemmer\n",
        "from wordcloud import WordCloud, STOPWORDS\n",
        "from textblob import TextBlob\n",
        "\n",
        "st = PorterStemmer()\n",
        "df['Article'] = df['Article'].apply(lambda x: \" \".join([st.stem(word) for word in x.split()]))\n",
        "df['Article'][2]"
      ],
      "metadata": {
        "colab": {
          "base_uri": "https://localhost:8080/",
          "height": 53
        },
        "id": "hxzM5FJnOhkK",
        "outputId": "7e28f89f-401e-49a1-8e05-acbd22ee0517"
      },
      "execution_count": 54,
      "outputs": [
        {
          "output_type": "execute_result",
          "data": {
            "text/plain": [
              "'hong kong: hong kong share open 0.66 percent lower monday follow a tepid lead from wall street, as the first full week of the new year kick off.th benchmark hang seng index dip 158.63 point to 23,699.19.'"
            ],
            "application/vnd.google.colaboratory.intrinsic+json": {
              "type": "string"
            }
          },
          "metadata": {},
          "execution_count": 54
        }
      ]
    },
    {
      "cell_type": "code",
      "source": [
        "## Define a function which can be applied to calculate the score for the whole dataset\n",
        "\n",
        "def senti(x):\n",
        "    return TextBlob(x).sentiment  \n",
        "\n",
        "df['senti_score'] = df['Article'].apply(senti)\n",
        "\n",
        "df.senti_score.head()"
      ],
      "metadata": {
        "colab": {
          "base_uri": "https://localhost:8080/"
        },
        "id": "2uCUeEd1QJfd",
        "outputId": "584fac27-9c42-47b5-d42d-54218a80b3a7"
      },
      "execution_count": 56,
      "outputs": [
        {
          "output_type": "execute_result",
          "data": {
            "text/plain": [
              "0      (-0.0883364898989899, 0.3361584595959596)\n",
              "1     (0.03957305614282359, 0.42252172891707773)\n",
              "2       (0.18409090909090908, 0.459469696969697)\n",
              "3     (0.062347837347837345, 0.4072325822325823)\n",
              "4    (-0.013633838383838384, 0.4610353535353534)\n",
              "Name: senti_score, dtype: object"
            ]
          },
          "metadata": {},
          "execution_count": 56
        }
      ]
    },
    {
      "cell_type": "code",
      "source": [
        "#Extracting sentiment polarity and subjectivity\n",
        "\n",
        "def senti_polarity(x):\n",
        "    return TextBlob(x).sentiment.polarity  \n",
        "\n",
        "def senti_subjectivity(x):\n",
        "    return TextBlob(x).sentiment.subjectivity  \n",
        "\n",
        "df['senti_polarity'] = df['Article'].apply(senti_polarity)\n",
        "df['senti_subjectivity'] = df['Article'].apply(senti_subjectivity)\n",
        "\n",
        "df.senti_score.head()"
      ],
      "metadata": {
        "colab": {
          "base_uri": "https://localhost:8080/"
        },
        "id": "cCIyZmCYRJ51",
        "outputId": "6d1567f1-cf92-4cd2-e34a-9bcc39a9b000"
      },
      "execution_count": 59,
      "outputs": [
        {
          "output_type": "execute_result",
          "data": {
            "text/plain": [
              "0      (-0.0883364898989899, 0.3361584595959596)\n",
              "1     (0.03957305614282359, 0.42252172891707773)\n",
              "2       (0.18409090909090908, 0.459469696969697)\n",
              "3     (0.062347837347837345, 0.4072325822325823)\n",
              "4    (-0.013633838383838384, 0.4610353535353534)\n",
              "Name: senti_score, dtype: object"
            ]
          },
          "metadata": {},
          "execution_count": 59
        }
      ]
    },
    {
      "cell_type": "code",
      "source": [
        "# Using plotly.express\n",
        "import plotly.express as px\n",
        "import plotly.graph_objects as go\n",
        "\n",
        "fig = px.area(\n",
        "    data_frame = df, \n",
        "    x='Date', \n",
        "    y='senti_polarity', \n",
        "    title='Negative/Positive News vs Dates'\n",
        ")\n",
        "\n",
        "fig.show()"
      ],
      "metadata": {
        "colab": {
          "base_uri": "https://localhost:8080/",
          "height": 542
        },
        "id": "otLoO9SyQOqe",
        "outputId": "312427f2-61f3-4580-94b2-5e6f7d20a878"
      },
      "execution_count": 60,
      "outputs": [
        {
          "output_type": "display_data",
          "data": {
            "text/html": [
              "<html>\n",
              "<head><meta charset=\"utf-8\" /></head>\n",
              "<body>\n",
              "    <div>            <script src=\"https://cdnjs.cloudflare.com/ajax/libs/mathjax/2.7.5/MathJax.js?config=TeX-AMS-MML_SVG\"></script><script type=\"text/javascript\">if (window.MathJax) {MathJax.Hub.Config({SVG: {font: \"STIX-Web\"}});}</script>                <script type=\"text/javascript\">window.PlotlyConfig = {MathJaxConfig: 'local'};</script>\n",
              "        <script src=\"https://cdn.plot.ly/plotly-2.8.3.min.js\"></script>                <div id=\"511fa631-24ad-42dd-9a77-35ab289d61ca\" class=\"plotly-graph-div\" style=\"height:525px; width:100%;\"></div>            <script type=\"text/javascript\">                                    window.PLOTLYENV=window.PLOTLYENV || {};                                    if (document.getElementById(\"511fa631-24ad-42dd-9a77-35ab289d61ca\")) {                    Plotly.newPlot(                        \"511fa631-24ad-42dd-9a77-35ab289d61ca\",                        [{\"hovertemplate\":\"Date=%{x}<br>senti_polarity=%{y}<extra></extra>\",\"legendgroup\":\"\",\"line\":{\"color\":\"#636efa\"},\"marker\":{\"symbol\":\"circle\"},\"mode\":\"lines\",\"name\":\"\",\"orientation\":\"v\",\"showlegend\":false,\"stackgroup\":\"1\",\"x\":[\"1/1/2015\",\"1/2/2015\",\"1/5/2015\",\"1/6/2015\",\"1/6/2015\",\"1/7/2015\",\"1/9/2015\",\"1/12/2015\",\"1/13/2015\",\"1/14/2015\",\"1/14/2015\",\"1/15/2015\",\"1/16/2015\",\"1/16/2015\",\"1/19/2015\",\"1/20/2015\",\"1/21/2015\",\"1/22/2015\",\"1/23/2015\",\"1/23/2015\",\"1/23/2015\",\"1/25/2015\",\"1/26/2015\",\"1/27/2015\",\"1/27/2015\",\"1/28/2015\",\"1/29/2015\",\"1/29/2015\",\"1/31/2015\",\"2/2/2015\",\"2/4/2015\",\"2/4/2015\",\"2/5/2015\",\"2/5/2015\",\"2/6/2015\",\"2/6/2015\",\"2/6/2015\",\"2/6/2015\",\"2/7/2015\",\"2/9/2015\",\"2/9/2015\",\"2/10/2015\",\"2/11/2015\",\"2/11/2015\",\"2/11/2015\",\"2/12/2015\",\"2/12/2015\",\"2/12/2015\",\"2/12/2015\",\"2/13/2015\",\"2/16/2015\",\"2/17/2015\",\"2/18/2015\",\"2/18/2015\",\"2/19/2015\",\"2/19/2015\",\"2/20/2015\",\"2/21/2015\",\"2/23/2015\",\"2/23/2015\",\"2/23/2015\",\"2/24/2015\",\"2/24/2015\",\"2/26/2015\",\"2/27/2015\",\"2/27/2015\",\"3/2/2015\",\"3/2/2015\",\"3/3/2015\",\"3/4/2015\",\"3/6/2015\",\"3/7/2015\",\"3/9/2015\",\"3/9/2015\",\"3/10/2015\",\"3/11/2015\",\"3/12/2015\",\"3/12/2015\",\"3/13/2015\",\"3/14/2015\",\"3/16/2015\",\"3/16/2015\",\"3/17/2015\",\"3/17/2015\",\"3/18/2015\",\"3/18/2015\",\"3/19/2015\",\"3/21/2015\",\"3/24/2015\",\"3/25/2015\",\"3/25/2015\",\"3/26/2015\",\"3/26/2015\",\"3/27/2015\",\"3/30/2015\",\"3/30/2015\",\"3/31/2015\",\"3/31/2015\",\"3/31/2015\",\"4/1/2015\",\"4/1/2015\",\"4/2/2015\",\"4/3/2015\",\"4/3/2015\",\"4/6/2015\",\"4/7/2015\",\"4/8/2015\",\"4/9/2015\",\"4/10/2015\",\"4/11/2015\",\"4/12/2015\",\"4/13/2015\",\"4/13/2015\",\"4/15/2015\",\"4/16/2015\",\"4/17/2015\",\"4/21/2015\",\"4/21/2015\",\"4/22/2015\",\"4/22/2015\",\"4/22/2015\",\"4/23/2015\",\"4/24/2015\",\"4/24/2015\",\"4/25/2015\",\"4/27/2015\",\"4/28/2015\",\"4/28/2015\",\"4/29/2015\",\"4/29/2015\",\"4/30/2015\",\"4/30/2015\",\"5/1/2015\",\"5/5/2015\",\"5/5/2015\",\"5/6/2015\",\"5/7/2015\",\"5/7/2015\",\"5/7/2015\",\"5/8/2015\",\"5/10/2015\",\"5/11/2015\",\"5/11/2015\",\"5/11/2015\",\"5/12/2015\",\"5/12/2015\",\"5/14/2015\",\"5/14/2015\",\"5/15/2015\",\"5/17/2015\",\"5/18/2015\",\"5/19/2015\",\"5/20/2015\",\"5/20/2015\",\"5/20/2015\",\"5/21/2015\",\"5/22/2015\",\"5/23/2015\",\"5/25/2015\",\"5/26/2015\",\"5/27/2015\",\"5/29/2015\",\"5/29/2015\",\"5/29/2015\",\"6/1/2015\",\"6/2/2015\",\"6/2/2015\",\"6/3/2015\",\"6/4/2015\",\"6/4/2015\",\"6/5/2015\",\"6/6/2015\",\"6/8/2015\",\"6/9/2015\",\"6/11/2015\",\"6/12/2015\",\"6/12/2015\",\"6/13/2015\",\"6/14/2015\",\"6/15/2015\",\"6/16/2015\",\"6/16/2015\",\"6/16/2015\",\"6/17/2015\",\"6/17/2015\",\"6/18/2015\",\"6/20/2015\",\"6/22/2015\",\"6/23/2015\",\"6/25/2015\",\"6/28/2015\",\"6/30/2015\",\"6/30/2015\",\"6/30/2015\",\"7/1/2015\",\"7/1/2015\",\"7/3/2015\",\"7/4/2015\",\"7/8/2015\",\"7/9/2015\",\"7/9/2015\",\"7/9/2015\",\"7/9/2015\",\"7/9/2015\",\"7/10/2015\",\"7/11/2015\",\"7/11/2015\",\"7/11/2015\",\"7/14/2015\",\"7/14/2015\",\"7/15/2015\",\"7/16/2015\",\"7/16/2015\",\"7/18/2015\",\"7/21/2015\",\"7/21/2015\",\"7/21/2015\",\"7/22/2015\",\"7/22/2015\",\"7/23/2015\",\"7/24/2015\",\"7/25/2015\",\"7/27/2015\",\"7/28/2015\",\"7/28/2015\",\"7/29/2015\",\"7/29/2015\",\"7/31/2015\",\"8/1/2015\",\"8/2/2015\",\"8/3/2015\",\"8/4/2015\",\"8/5/2015\",\"8/6/2015\",\"8/7/2015\",\"8/8/2015\",\"8/10/2015\",\"8/11/2015\",\"8/11/2015\",\"8/11/2015\",\"8/12/2015\",\"8/12/2015\",\"8/13/2015\",\"8/17/2015\",\"8/17/2015\",\"8/18/2015\",\"8/19/2015\",\"8/20/2015\",\"8/21/2015\",\"8/22/2015\",\"8/23/2015\",\"8/24/2015\",\"8/24/2015\",\"8/24/2015\",\"8/24/2015\",\"8/25/2015\",\"8/25/2015\",\"8/25/2015\",\"8/25/2015\",\"8/26/2015\",\"8/27/2015\",\"8/27/2015\",\"8/28/2015\",\"8/28/2015\",\"8/28/2015\",\"8/29/2015\",\"8/29/2015\",\"9/1/2015\",\"9/1/2015\",\"9/2/2015\",\"9/3/2015\",\"9/4/2015\",\"9/5/2015\",\"9/5/2015\",\"9/7/2015\",\"9/7/2015\",\"9/8/2015\",\"9/8/2015\",\"9/9/2015\",\"9/9/2015\",\"9/9/2015\",\"9/9/2015\",\"9/9/2015\",\"9/10/2015\",\"9/10/2015\",\"9/11/2015\",\"9/11/2015\",\"9/12/2015\",\"9/12/2015\",\"9/14/2015\",\"9/14/2015\",\"9/15/2015\",\"9/15/2015\",\"9/16/2015\",\"9/17/2015\",\"9/18/2015\",\"9/21/2015\",\"9/22/2015\",\"9/23/2015\",\"9/23/2015\",\"9/24/2015\",\"9/28/2015\",\"9/28/2015\",\"9/29/2015\",\"9/29/2015\",\"9/30/2015\",\"9/30/2015\",\"9/30/2015\",\"10/1/2015\",\"10/1/2015\",\"10/2/2015\",\"10/4/2015\",\"10/5/2015\",\"10/5/2015\",\"10/5/2015\",\"10/6/2015\",\"10/6/2015\",\"10/7/2015\",\"10/7/2015\",\"10/8/2015\",\"10/8/2015\",\"10/11/2015\",\"10/13/2015\",\"10/14/2015\",\"10/15/2015\",\"10/16/2015\",\"10/17/2015\",\"10/19/2015\",\"10/19/2015\",\"10/21/2015\",\"10/22/2015\",\"10/22/2015\",\"10/22/2015\",\"10/26/2015\",\"10/27/2015\",\"10/27/2015\",\"10/28/2015\",\"10/28/2015\",\"10/28/2015\",\"10/29/2015\",\"11/1/2015\",\"11/2/2015\",\"11/2/2015\",\"11/3/2015\",\"11/4/2015\",\"11/5/2015\",\"11/5/2015\",\"11/6/2015\",\"11/10/2015\",\"11/11/2015\",\"11/11/2015\",\"11/12/2015\",\"11/13/2015\",\"11/15/2015\",\"11/16/2015\",\"11/17/2015\",\"11/17/2015\",\"11/18/2015\",\"11/20/2015\",\"11/21/2015\",\"11/23/2015\",\"11/24/2015\",\"11/24/2015\",\"11/25/2015\",\"11/26/2015\",\"11/26/2015\",\"11/26/2015\",\"11/26/2015\",\"11/26/2015\",\"11/27/2015\",\"11/30/2015\",\"11/30/2015\",\"12/1/2015\",\"12/2/2015\",\"12/4/2015\",\"12/4/2015\",\"12/5/2015\",\"12/7/2015\",\"12/7/2015\",\"12/8/2015\",\"12/8/2015\",\"12/9/2015\",\"12/9/2015\",\"12/10/2015\",\"12/11/2015\",\"12/12/2015\",\"12/13/2015\",\"12/14/2015\",\"12/15/2015\",\"12/16/2015\",\"12/17/2015\",\"12/18/2015\",\"12/19/2015\",\"12/21/2015\",\"12/21/2015\",\"12/22/2015\",\"12/23/2015\",\"12/24/2015\",\"12/26/2015\",\"12/28/2015\",\"12/28/2015\",\"12/28/2015\",\"12/28/2015\",\"12/29/2015\",\"12/29/2015\",\"12/29/2015\",\"12/29/2015\",\"12/30/2015\",\"12/30/2015\",\"12/30/2015\",\"12/30/2015\",\"1/1/2016\",\"1/2/2016\",\"1/4/2016\",\"1/4/2016\",\"1/4/2016\",\"1/5/2016\",\"1/6/2016\",\"1/6/2016\",\"1/6/2016\",\"1/6/2016\",\"1/7/2016\",\"1/7/2016\",\"1/8/2016\",\"1/8/2016\",\"1/9/2016\",\"1/10/2016\",\"1/11/2016\",\"1/11/2016\",\"1/11/2016\",\"1/12/2016\",\"1/12/2016\",\"1/13/2016\",\"1/14/2016\",\"1/15/2016\",\"1/16/2016\",\"1/16/2016\",\"1/16/2016\",\"1/17/2016\",\"1/18/2016\",\"1/18/2016\",\"1/19/2016\",\"1/20/2016\",\"1/21/2016\",\"1/22/2016\",\"1/25/2016\",\"1/25/2016\",\"1/26/2016\",\"1/28/2016\",\"1/29/2016\",\"1/30/2016\",\"1/30/2016\",\"1/31/2016\",\"2/1/2016\",\"2/1/2016\",\"2/2/2016\",\"2/4/2016\",\"2/5/2016\",\"2/8/2016\",\"2/9/2016\",\"2/9/2016\",\"2/9/2016\",\"2/9/2016\",\"2/9/2016\",\"2/10/2016\",\"2/10/2016\",\"2/10/2016\",\"2/10/2016\",\"2/11/2016\",\"2/11/2016\",\"2/12/2016\",\"2/13/2016\",\"2/14/2016\",\"2/15/2016\",\"2/16/2016\",\"2/16/2016\",\"2/16/2016\",\"2/16/2016\",\"2/17/2016\",\"2/17/2016\",\"2/18/2016\",\"2/19/2016\",\"2/20/2016\",\"2/22/2016\",\"2/22/2016\",\"2/23/2016\",\"2/23/2016\",\"2/24/2016\",\"2/25/2016\",\"2/26/2016\",\"2/27/2016\",\"2/28/2016\",\"2/28/2016\",\"2/29/2016\",\"2/29/2016\",\"3/1/2016\",\"3/1/2016\",\"3/2/2016\",\"3/3/2016\",\"3/3/2016\",\"3/4/2016\",\"3/5/2016\",\"3/5/2016\",\"3/6/2016\",\"3/7/2016\",\"3/1/2016\",\"3/1/2016\",\"3/2/2016\",\"3/3/2016\",\"3/3/2016\",\"3/4/2016\",\"3/5/2016\",\"3/5/2016\",\"3/6/2016\",\"3/7/2016\",\"3/8/2016\",\"3/9/2016\",\"3/11/2016\",\"3/12/2016\",\"3/13/2016\",\"3/14/2016\",\"3/15/2016\",\"3/15/2016\",\"3/15/2016\",\"3/15/2016\",\"3/15/2016\",\"3/16/2016\",\"3/17/2016\",\"3/18/2016\",\"3/18/2016\",\"3/20/2016\",\"3/21/2016\",\"3/21/2016\",\"3/21/2016\",\"3/22/2016\",\"3/22/2016\",\"3/24/2016\",\"3/24/2016\",\"3/25/2016\",\"3/28/2016\",\"3/29/2016\",\"3/29/2016\",\"3/30/2016\",\"3/30/2016\",\"3/31/2016\",\"3/31/2016\",\"3/31/2016\",\"4/1/2016\",\"4/2/2016\",\"4/2/2016\",\"4/4/2016\",\"4/5/2016\",\"4/6/2016\",\"4/6/2016\",\"4/7/2016\",\"4/8/2016\",\"4/9/2016\",\"4/9/2016\",\"4/11/2016\",\"4/12/2016\",\"4/12/2016\",\"4/12/2016\",\"4/12/2016\",\"4/13/2016\",\"4/14/2016\",\"4/14/2016\",\"4/14/2016\",\"4/15/2016\",\"4/16/2016\",\"4/17/2016\",\"4/18/2016\",\"4/19/2016\",\"4/19/2016\",\"4/20/2016\",\"4/21/2016\",\"4/22/2016\",\"4/22/2016\",\"4/23/2016\",\"4/24/2016\",\"4/24/2016\",\"4/25/2016\",\"4/25/2016\",\"4/26/2016\",\"4/26/2016\",\"4/26/2016\",\"4/27/2016\",\"4/28/2016\",\"4/28/2016\",\"4/28/2016\",\"4/28/2016\",\"4/29/2016\",\"4/29/2016\",\"4/29/2016\",\"4/30/2016\",\"5/1/2016\",\"5/1/2016\",\"5/2/2016\",\"5/2/2016\",\"5/3/2016\",\"5/3/2016\",\"5/3/2016\",\"5/3/2016\",\"5/4/2016\",\"5/5/2016\",\"5/5/2016\",\"5/6/2016\",\"5/6/2016\",\"5/6/2016\",\"5/6/2016\",\"5/6/2016\",\"5/7/2016\",\"5/7/2016\",\"5/8/2016\",\"5/9/2016\",\"5/9/2016\",\"5/10/2016\",\"5/10/2016\",\"5/10/2016\",\"5/10/2016\",\"5/10/2016\",\"5/11/2016\",\"5/11/2016\",\"5/11/2016\",\"5/11/2016\",\"5/11/2016\",\"5/12/2016\",\"5/12/2016\",\"5/13/2016\",\"5/13/2016\",\"5/13/2016\",\"5/13/2016\",\"5/13/2016\",\"5/13/2016\",\"5/14/2016\",\"5/14/2016\",\"5/15/2016\",\"5/16/2016\",\"5/16/2016\",\"5/16/2016\",\"5/16/2016\",\"5/17/2016\",\"5/17/2016\",\"5/17/2016\",\"5/17/2016\",\"5/18/2016\",\"5/18/2016\",\"5/19/2016\",\"5/19/2016\",\"5/19/2016\",\"5/19/2016\",\"5/20/2016\",\"5/20/2016\",\"5/20/2016\",\"5/20/2016\",\"5/20/2016\",\"5/21/2016\",\"5/21/2016\",\"5/21/2016\",\"5/21/2016\",\"5/22/2016\",\"5/22/2016\",\"5/23/2016\",\"5/23/2016\",\"5/23/2016\",\"5/23/2016\",\"5/23/2016\",\"5/24/2016\",\"5/24/2016\",\"5/24/2016\",\"5/24/2016\",\"5/25/2016\",\"5/25/2016\",\"5/25/2016\",\"5/25/2016\",\"5/25/2016\",\"5/26/2016\",\"5/26/2016\",\"5/26/2016\",\"5/27/2016\",\"5/27/2016\",\"5/28/2016\",\"5/28/2016\",\"5/29/2016\",\"5/30/2016\",\"5/30/2016\",\"5/30/2016\",\"5/30/2016\",\"5/31/2016\",\"5/31/2016\",\"5/31/2016\",\"6/1/2016\",\"6/1/2016\",\"6/1/2016\",\"6/2/2016\",\"6/2/2016\",\"6/3/2016\",\"6/3/2016\",\"6/3/2016\",\"6/3/2016\",\"6/4/2016\",\"6/4/2016\",\"6/5/2016\",\"6/5/2016\",\"6/6/2016\",\"6/6/2016\",\"6/6/2016\",\"6/7/2016\",\"6/7/2016\",\"6/7/2016\",\"6/8/2016\",\"6/8/2016\",\"6/8/2016\",\"6/9/2016\",\"6/9/2016\",\"6/10/2016\",\"6/10/2016\",\"6/10/2016\",\"6/12/2016\",\"6/13/2016\",\"6/13/2016\",\"6/13/2016\",\"6/14/2016\",\"6/15/2016\",\"6/15/2016\",\"6/16/2016\",\"6/16/2016\",\"6/17/2016\",\"6/17/2016\",\"6/17/2016\",\"6/20/2016\",\"6/20/2016\",\"6/20/2016\",\"6/20/2016\",\"6/21/2016\",\"6/21/2016\",\"6/21/2016\",\"6/22/2016\",\"6/22/2016\",\"6/23/2016\",\"6/23/2016\",\"6/23/2016\",\"6/23/2016\",\"6/24/2016\",\"6/24/2016\",\"6/24/2016\",\"6/24/2016\",\"6/24/2016\",\"6/25/2016\",\"6/25/2016\",\"6/25/2016\",\"6/27/2016\",\"6/27/2016\",\"6/27/2016\",\"6/28/2016\",\"6/28/2016\",\"6/28/2016\",\"6/29/2016\",\"6/29/2016\",\"6/29/2016\",\"6/29/2016\",\"6/29/2016\",\"6/29/2016\",\"6/29/2016\",\"6/29/2016\",\"6/29/2016\",\"6/30/2016\",\"6/30/2016\",\"6/30/2016\",\"7/1/2016\",\"7/1/2016\",\"7/1/2016\",\"7/1/2016\",\"7/2/2016\",\"7/4/2016\",\"7/4/2016\",\"7/5/2016\",\"7/5/2016\",\"7/6/2016\",\"7/7/2016\",\"7/7/2016\",\"7/7/2016\",\"7/7/2016\",\"7/8/2016\",\"7/8/2016\",\"7/8/2016\",\"7/9/2016\",\"7/10/2016\",\"7/11/2016\",\"7/12/2016\",\"7/12/2016\",\"7/13/2016\",\"7/13/2016\",\"7/14/2016\",\"7/15/2016\",\"7/15/2016\",\"7/15/2016\",\"7/15/2016\",\"7/18/2016\",\"7/18/2016\",\"7/18/2016\",\"7/19/2016\",\"7/19/2016\",\"7/20/2016\",\"7/20/2016\",\"7/20/2016\",\"7/21/2016\",\"7/21/2016\",\"7/22/2016\",\"7/22/2016\",\"7/22/2016\",\"7/23/2016\",\"7/23/2016\",\"7/24/2016\",\"7/25/2016\",\"7/25/2016\",\"7/26/2016\",\"7/26/2016\",\"7/26/2016\",\"7/27/2016\",\"7/27/2016\",\"7/28/2016\",\"7/28/2016\",\"7/29/2016\",\"7/29/2016\",\"7/30/2016\",\"7/30/2016\",\"8/1/2016\",\"8/1/2016\",\"8/1/2016\",\"8/1/2016\",\"8/2/2016\",\"8/2/2016\",\"8/3/2016\",\"8/4/2016\",\"8/4/2016\",\"8/5/2016\",\"8/5/2016\",\"8/1/2016\",\"8/1/2016\",\"8/1/2016\",\"8/1/2016\",\"8/2/2016\",\"8/2/2016\",\"8/3/2016\",\"8/4/2016\",\"8/4/2016\",\"8/5/2016\",\"8/5/2016\",\"8/6/2016\",\"8/8/2016\",\"8/8/2016\",\"8/8/2016\",\"8/8/2016\",\"8/9/2016\",\"8/10/2016\",\"8/10/2016\",\"8/11/2016\",\"8/11/2016\",\"8/11/2016\",\"8/12/2016\",\"8/12/2016\",\"8/13/2016\",\"8/15/2016\",\"8/15/2016\",\"8/15/2016\",\"8/16/2016\",\"8/16/2016\",\"8/17/2016\",\"8/17/2016\",\"8/18/2016\",\"8/18/2016\",\"8/1/2016\",\"8/1/2016\",\"8/1/2016\",\"8/1/2016\",\"8/2/2016\",\"8/2/2016\",\"8/3/2016\",\"8/4/2016\",\"8/4/2016\",\"8/5/2016\",\"8/5/2016\",\"8/6/2016\",\"8/8/2016\",\"8/8/2016\",\"8/8/2016\",\"8/8/2016\",\"8/9/2016\",\"8/10/2016\",\"8/10/2016\",\"8/11/2016\",\"8/11/2016\",\"8/11/2016\",\"8/1/2016\",\"8/1/2016\",\"8/1/2016\",\"8/1/2016\",\"8/2/2016\",\"8/2/2016\",\"8/3/2016\",\"8/4/2016\",\"8/4/2016\",\"8/5/2016\",\"8/5/2016\",\"8/6/2016\",\"8/1/2016\",\"8/1/2016\",\"8/1/2016\",\"8/1/2016\",\"8/2/2016\",\"8/2/2016\",\"8/3/2016\",\"8/4/2016\",\"8/4/2016\",\"8/5/2016\",\"8/5/2016\",\"8/6/2016\",\"8/8/2016\",\"8/8/2016\",\"8/8/2016\",\"8/8/2016\",\"8/9/2016\",\"8/10/2016\",\"8/10/2016\",\"8/11/2016\",\"8/11/2016\",\"8/11/2016\",\"8/12/2016\",\"8/12/2016\",\"8/13/2016\",\"8/15/2016\",\"8/15/2016\",\"8/15/2016\",\"8/16/2016\",\"8/16/2016\",\"8/17/2016\",\"8/17/2016\",\"8/18/2016\",\"8/18/2016\",\"8/19/2016\",\"8/19/2016\",\"8/19/2016\",\"8/19/2016\",\"8/20/2016\",\"8/22/2016\",\"8/22/2016\",\"8/23/2016\",\"8/23/2016\",\"8/23/2016\",\"8/24/2016\",\"8/24/2016\",\"8/25/2016\",\"8/25/2016\",\"8/26/2016\",\"8/26/2016\",\"8/27/2016\",\"8/27/2016\",\"8/28/2016\",\"8/29/2016\",\"8/29/2016\",\"8/29/2016\",\"8/30/2016\",\"9/1/2016\",\"9/2/2016\",\"9/2/2016\",\"9/2/2016\",\"9/2/2016\",\"9/2/2016\",\"9/3/2016\",\"9/3/2016\",\"9/3/2016\",\"9/5/2016\",\"9/5/2016\",\"9/5/2016\",\"9/5/2016\",\"9/5/2016\",\"9/5/2016\",\"9/6/2016\",\"9/6/2016\",\"9/7/2016\",\"9/7/2016\",\"9/7/2016\",\"9/8/2016\",\"9/9/2016\",\"9/9/2016\",\"9/10/2016\",\"9/10/2016\",\"9/12/2016\",\"9/12/2016\",\"9/12/2016\",\"9/14/2016\",\"9/16/2016\",\"9/17/2016\",\"9/19/2016\",\"9/20/2016\",\"9/21/2016\",\"9/22/2016\",\"9/22/2016\",\"9/22/2016\",\"9/22/2016\",\"9/23/2016\",\"9/24/2016\",\"9/25/2016\",\"9/26/2016\",\"9/26/2016\",\"9/27/2016\",\"9/27/2016\",\"9/27/2016\",\"9/27/2016\",\"9/27/2016\",\"9/28/2016\",\"9/28/2016\",\"9/29/2016\",\"9/29/2016\",\"9/29/2016\",\"9/29/2016\",\"9/29/2016\",\"9/29/2016\",\"9/29/2016\",\"9/29/2016\",\"9/30/2016\",\"1/1/2016\",\"1/1/2016\",\"1/2/2016\",\"1/3/2016\",\"1/3/2016\",\"1/3/2016\",\"1/3/2016\",\"1/4/2016\",\"1/4/2016\",\"1/4/2016\",\"1/4/2016\",\"1/5/2016\",\"1/5/2016\",\"1/5/2016\",\"1/5/2016\",\"1/5/2016\",\"1/5/2016\",\"1/5/2016\",\"1/6/2016\",\"1/6/2016\",\"1/6/2016\",\"1/6/2016\",\"1/6/2016\",\"1/6/2016\",\"1/6/2016\",\"1/6/2016\",\"1/7/2016\",\"1/7/2016\",\"1/7/2016\",\"1/8/2016\",\"1/8/2016\",\"1/9/2016\",\"1/9/2016\",\"1/9/2016\",\"1/9/2016\",\"1/10/2016\",\"1/10/2016\",\"1/10/2016\",\"1/10/2016\",\"1/10/2016\",\"1/11/2016\",\"1/11/2016\",\"1/11/2016\",\"1/12/2016\",\"1/12/2016\",\"1/12/2016\",\"1/12/2016\",\"1/13/2016\",\"1/13/2016\",\"1/13/2016\",\"1/14/2016\",\"1/15/2016\",\"1/15/2016\",\"1/15/2016\",\"1/15/2016\",\"1/16/2016\",\"1/16/2016\",\"1/16/2016\",\"1/16/2016\",\"1/17/2016\",\"1/17/2016\",\"1/17/2016\",\"1/18/2016\",\"1/18/2016\",\"1/19/2016\",\"1/19/2016\",\"1/19/2016\",\"1/19/2016\",\"1/19/2016\",\"1/20/2016\",\"1/20/2016\",\"1/20/2016\",\"1/20/2016\",\"1/20/2016\",\"1/20/2016\",\"1/20/2016\",\"1/21/2016\",\"1/21/2016\",\"1/22/2016\",\"1/22/2016\",\"1/22/2016\",\"1/22/2016\",\"1/22/2016\",\"1/22/2016\",\"1/22/2016\",\"1/23/2016\",\"1/23/2016\",\"1/23/2016\",\"1/23/2016\",\"1/23/2016\",\"1/23/2016\",\"1/24/2016\",\"1/24/2016\",\"1/24/2016\",\"1/24/2016\",\"1/25/2016\",\"1/25/2016\",\"1/25/2016\",\"1/25/2016\",\"1/25/2016\",\"1/25/2016\",\"1/25/2016\",\"1/25/2016\",\"1/26/2016\",\"1/26/2016\",\"1/26/2016\",\"1/26/2016\",\"1/27/2016\",\"1/27/2016\",\"1/28/2016\",\"1/28/2016\",\"1/28/2016\",\"1/29/2016\",\"1/29/2016\",\"1/29/2016\",\"1/29/2016\",\"1/29/2016\",\"1/30/2016\",\"1/30/2016\",\"1/30/2016\",\"1/30/2016\",\"1/30/2016\",\"1/31/2016\",\"1/31/2016\",\"2/1/2016\",\"2/1/2016\",\"2/1/2016\",\"2/1/2016\",\"2/2/2016\",\"2/2/2016\",\"2/2/2016\",\"2/3/2016\",\"2/3/2016\",\"2/3/2016\",\"2/4/2016\",\"2/4/2016\",\"2/4/2016\",\"2/4/2016\",\"2/4/2016\",\"2/5/2016\",\"2/5/2016\",\"2/5/2016\",\"2/5/2016\",\"2/5/2016\",\"2/6/2016\",\"2/6/2016\",\"2/6/2016\",\"2/6/2016\",\"2/6/2016\",\"2/6/2016\",\"2/7/2016\",\"2/7/2016\",\"2/7/2016\",\"2/7/2016\",\"2/7/2016\",\"2/7/2016\",\"2/7/2016\",\"2/7/2016\",\"2/8/2016\",\"2/8/2016\",\"2/8/2016\",\"2/8/2016\",\"2/8/2016\",\"2/9/2016\",\"2/9/2016\",\"2/9/2016\",\"2/9/2016\",\"2/9/2016\",\"2/9/2016\",\"2/9/2016\",\"2/10/2016\",\"2/10/2016\",\"2/10/2016\",\"2/10/2016\",\"2/10/2016\",\"2/10/2016\",\"2/10/2016\",\"2/11/2016\",\"2/11/2016\",\"2/11/2016\",\"2/11/2016\",\"2/11/2016\",\"2/11/2016\",\"2/11/2016\",\"2/11/2016\",\"2/12/2016\",\"2/12/2016\",\"2/12/2016\",\"2/12/2016\",\"2/12/2016\",\"2/12/2016\",\"2/12/2016\",\"2/12/2016\",\"2/12/2016\",\"2/12/2016\",\"2/12/2016\",\"2/12/2016\",\"2/13/2016\",\"2/13/2016\",\"2/13/2016\",\"2/13/2016\",\"2/13/2016\",\"2/13/2016\",\"2/13/2016\",\"2/13/2016\",\"2/13/2016\",\"2/14/2016\",\"2/14/2016\",\"2/14/2016\",\"2/14/2016\",\"2/14/2016\",\"2/14/2016\",\"2/14/2016\",\"2/14/2016\",\"2/14/2016\",\"2/14/2016\",\"2/14/2016\",\"2/15/2016\",\"2/15/2016\",\"2/15/2016\",\"2/15/2016\",\"2/15/2016\",\"2/16/2016\",\"2/16/2016\",\"2/16/2016\",\"2/16/2016\",\"2/16/2016\",\"2/17/2016\",\"2/17/2016\",\"2/17/2016\",\"2/17/2016\",\"2/17/2016\",\"2/17/2016\",\"2/17/2016\",\"2/17/2016\",\"2/17/2016\",\"2/17/2016\",\"2/18/2016\",\"2/18/2016\",\"2/18/2016\",\"2/19/2016\",\"2/19/2016\",\"2/19/2016\",\"2/19/2016\",\"2/19/2016\",\"2/19/2016\",\"2/20/2016\",\"2/20/2016\",\"2/20/2016\",\"2/20/2016\",\"2/21/2016\",\"2/21/2016\",\"2/21/2016\",\"2/21/2016\",\"2/21/2016\",\"2/21/2016\",\"2/21/2016\",\"2/22/2016\",\"2/22/2016\",\"2/22/2016\",\"2/23/2016\",\"2/23/2016\",\"2/23/2016\",\"2/23/2016\",\"2/23/2016\",\"2/24/2016\",\"2/24/2016\",\"2/24/2016\",\"2/24/2016\",\"2/24/2016\",\"2/24/2016\",\"2/24/2016\",\"2/24/2016\",\"2/25/2016\",\"2/25/2016\",\"2/25/2016\",\"2/26/2016\",\"2/26/2016\",\"2/26/2016\",\"2/26/2016\",\"2/26/2016\",\"2/26/2016\",\"2/26/2016\",\"2/26/2016\",\"2/26/2016\",\"2/26/2016\",\"2/27/2016\",\"2/27/2016\",\"2/27/2016\",\"2/27/2016\",\"2/27/2016\",\"2/27/2016\",\"2/28/2016\",\"2/28/2016\",\"2/28/2016\",\"2/28/2016\",\"2/28/2016\",\"2/29/2016\",\"2/29/2016\",\"2/29/2016\",\"2/29/2016\",\"2/29/2016\",\"2/29/2016\",\"2/29/2016\",\"3/1/2016\",\"3/1/2016\",\"3/1/2016\",\"3/1/2016\",\"3/1/2016\",\"3/1/2016\",\"3/1/2016\",\"3/1/2016\",\"3/2/2016\",\"3/2/2016\",\"3/2/2016\",\"3/2/2016\",\"3/2/2016\",\"3/2/2016\",\"3/2/2016\",\"3/3/2016\",\"3/3/2016\",\"3/3/2016\",\"3/4/2016\",\"3/4/2016\",\"3/4/2016\",\"3/4/2016\",\"3/4/2016\",\"3/4/2016\",\"3/4/2016\",\"3/4/2016\",\"3/5/2016\",\"3/5/2016\",\"3/5/2016\",\"3/5/2016\",\"3/5/2016\",\"3/6/2016\",\"3/6/2016\",\"3/6/2016\",\"3/6/2016\",\"3/6/2016\",\"3/6/2016\",\"3/6/2016\",\"3/6/2016\",\"3/7/2016\",\"3/7/2016\",\"3/7/2016\",\"3/7/2016\",\"3/7/2016\",\"3/7/2016\",\"3/7/2016\",\"3/7/2016\",\"3/7/2016\",\"3/8/2016\",\"3/8/2016\",\"3/8/2016\",\"3/8/2016\",\"3/8/2016\",\"3/8/2016\",\"3/8/2016\",\"3/8/2016\",\"3/8/2016\",\"3/8/2016\",\"3/8/2016\",\"3/8/2016\",\"3/8/2016\",\"3/9/2016\",\"3/9/2016\",\"3/9/2016\",\"3/9/2016\",\"3/9/2016\",\"3/9/2016\",\"3/9/2016\",\"3/9/2016\",\"3/9/2016\",\"3/9/2016\",\"3/9/2016\",\"3/10/2016\",\"3/11/2016\",\"3/11/2016\",\"3/11/2016\",\"3/11/2016\",\"3/11/2016\",\"3/11/2016\",\"3/11/2016\",\"3/12/2016\",\"3/12/2016\",\"3/12/2016\",\"3/12/2016\",\"3/12/2016\",\"3/12/2016\",\"3/12/2016\",\"3/12/2016\",\"3/12/2016\",\"3/12/2016\",\"3/13/2016\",\"3/13/2016\",\"3/13/2016\",\"3/13/2016\",\"3/13/2016\",\"3/13/2016\",\"3/14/2016\",\"3/14/2016\",\"3/14/2016\",\"3/14/2016\",\"3/14/2016\",\"3/14/2016\",\"3/15/2016\",\"3/15/2016\",\"3/15/2016\",\"3/15/2016\",\"3/15/2016\",\"3/15/2016\",\"3/15/2016\",\"3/15/2016\",\"3/16/2016\",\"3/16/2016\",\"3/16/2016\",\"3/16/2016\",\"3/16/2016\",\"3/16/2016\",\"3/16/2016\",\"3/17/2016\",\"3/17/2016\",\"3/17/2016\",\"3/17/2016\",\"3/18/2016\",\"3/18/2016\",\"3/18/2016\",\"3/18/2016\",\"3/18/2016\",\"3/18/2016\",\"3/18/2016\",\"3/18/2016\",\"3/18/2016\",\"3/18/2016\",\"3/18/2016\",\"3/18/2016\",\"3/18/2016\",\"3/18/2016\",\"3/19/2016\",\"3/19/2016\",\"3/19/2016\",\"3/19/2016\",\"3/19/2016\",\"3/19/2016\",\"3/19/2016\",\"3/19/2016\",\"3/19/2016\",\"3/19/2016\",\"3/19/2016\",\"3/19/2016\",\"3/19/2016\",\"3/20/2016\",\"3/20/2016\",\"3/20/2016\",\"3/20/2016\",\"3/20/2016\",\"3/20/2016\",\"3/20/2016\",\"3/20/2016\",\"3/20/2016\",\"3/20/2016\",\"3/21/2016\",\"3/21/2016\",\"3/21/2016\",\"3/21/2016\",\"3/21/2016\",\"3/21/2016\",\"3/21/2016\",\"3/21/2016\",\"3/22/2016\",\"3/22/2016\",\"3/22/2016\",\"3/22/2016\",\"3/22/2016\",\"3/22/2016\",\"3/23/2016\",\"3/23/2016\",\"3/23/2016\",\"3/23/2016\",\"3/23/2016\",\"3/23/2016\",\"3/23/2016\",\"3/23/2016\",\"3/24/2016\",\"3/24/2016\",\"3/24/2016\",\"3/25/2016\",\"3/25/2016\",\"3/25/2016\",\"3/25/2016\",\"3/25/2016\",\"3/25/2016\",\"3/25/2016\",\"3/25/2016\",\"3/26/2016\",\"3/26/2016\",\"3/26/2016\",\"3/26/2016\",\"3/26/2016\",\"3/26/2016\",\"3/26/2016\",\"3/26/2016\",\"3/26/2016\",\"3/27/2016\",\"3/27/2016\",\"3/27/2016\",\"3/27/2016\",\"3/27/2016\",\"3/27/2016\",\"3/27/2016\",\"3/27/2016\",\"3/27/2016\",\"3/27/2016\",\"3/28/2016\",\"3/28/2016\",\"3/28/2016\",\"3/28/2016\",\"3/28/2016\",\"3/29/2016\",\"3/29/2016\",\"3/29/2016\",\"3/30/2016\",\"3/30/2016\",\"3/30/2016\",\"3/30/2016\",\"3/30/2016\",\"3/30/2016\",\"3/30/2016\",\"3/30/2016\",\"3/30/2016\",\"3/30/2016\",\"3/30/2016\",\"3/30/2016\",\"3/31/2016\",\"3/31/2016\",\"3/31/2016\",\"3/31/2016\",\"3/31/2016\",\"3/31/2016\",\"4/1/2016\",\"4/1/2016\",\"4/1/2016\",\"4/1/2016\",\"4/1/2016\",\"4/2/2016\",\"4/2/2016\",\"4/3/2016\",\"4/3/2016\",\"4/3/2016\",\"4/3/2016\",\"4/3/2016\",\"4/3/2016\",\"4/3/2016\",\"4/4/2016\",\"4/4/2016\",\"4/4/2016\",\"4/4/2016\",\"4/4/2016\",\"4/4/2016\",\"4/5/2016\",\"4/5/2016\",\"4/5/2016\",\"4/6/2016\",\"4/6/2016\",\"4/6/2016\",\"4/6/2016\",\"4/7/2016\",\"4/7/2016\",\"4/8/2016\",\"4/8/2016\",\"4/8/2016\",\"4/8/2016\",\"4/8/2016\",\"4/8/2016\",\"4/10/2016\",\"4/10/2016\",\"4/10/2016\",\"4/10/2016\",\"4/10/2016\",\"4/11/2016\",\"4/11/2016\",\"4/11/2016\",\"4/11/2016\",\"4/11/2016\",\"4/12/2016\",\"4/12/2016\",\"4/12/2016\",\"4/12/2016\",\"4/13/2016\",\"4/13/2016\",\"4/13/2016\",\"4/13/2016\",\"4/13/2016\",\"4/14/2016\",\"4/14/2016\",\"4/14/2016\",\"4/15/2016\",\"4/15/2016\",\"4/15/2016\",\"4/15/2016\",\"4/15/2016\",\"4/16/2016\",\"4/17/2016\",\"4/18/2016\",\"4/18/2016\",\"4/18/2016\",\"4/18/2016\",\"4/18/2016\",\"4/18/2016\",\"4/18/2016\",\"4/18/2016\",\"4/19/2016\",\"4/19/2016\",\"4/19/2016\",\"4/20/2016\",\"4/20/2016\",\"4/20/2016\",\"4/21/2016\",\"4/21/2016\",\"4/21/2016\",\"4/22/2016\",\"4/22/2016\",\"4/22/2016\",\"4/23/2016\",\"4/23/2016\",\"4/24/2016\",\"4/24/2016\",\"4/25/2016\",\"4/25/2016\",\"4/25/2016\",\"4/25/2016\",\"4/25/2016\",\"4/25/2016\",\"4/25/2016\",\"4/26/2016\",\"4/26/2016\",\"4/26/2016\",\"4/26/2016\",\"4/26/2016\",\"4/27/2016\",\"4/27/2016\",\"4/27/2016\",\"4/27/2016\",\"4/27/2016\",\"4/27/2016\",\"4/27/2016\",\"4/27/2016\",\"4/27/2016\",\"4/28/2016\",\"4/28/2016\",\"4/28/2016\",\"4/28/2016\",\"4/29/2016\",\"4/29/2016\",\"4/29/2016\",\"4/30/2016\",\"5/1/2016\",\"5/1/2016\",\"5/1/2016\",\"5/2/2016\",\"5/2/2016\",\"5/2/2016\",\"5/2/2016\",\"5/2/2016\",\"5/2/2016\",\"5/3/2016\",\"5/3/2016\",\"5/3/2016\",\"5/3/2016\",\"5/3/2016\",\"5/3/2016\",\"5/3/2016\",\"5/3/2016\",\"5/4/2016\",\"5/4/2016\",\"5/4/2016\",\"5/4/2016\",\"5/4/2016\",\"5/4/2016\",\"5/4/2016\",\"5/4/2016\",\"5/4/2016\",\"5/5/2016\",\"5/5/2016\",\"5/5/2016\",\"5/6/2016\",\"5/6/2016\",\"5/6/2016\",\"5/6/2016\",\"5/7/2016\",\"5/7/2016\",\"5/8/2016\",\"5/8/2016\",\"5/8/2016\",\"5/9/2016\",\"5/9/2016\",\"5/9/2016\",\"5/9/2016\",\"5/9/2016\",\"5/10/2016\",\"5/10/2016\",\"5/10/2016\",\"5/10/2016\",\"5/10/2016\",\"5/11/2016\",\"5/11/2016\",\"5/11/2016\",\"5/11/2016\",\"5/11/2016\",\"5/11/2016\",\"5/11/2016\",\"5/11/2016\",\"5/12/2016\",\"5/12/2016\",\"5/12/2016\",\"5/12/2016\",\"5/13/2016\",\"5/13/2016\",\"5/13/2016\",\"5/13/2016\",\"5/14/2016\",\"5/14/2016\",\"5/14/2016\",\"5/14/2016\",\"5/15/2016\",\"5/15/2016\",\"5/15/2016\",\"5/15/2016\",\"5/16/2016\",\"5/16/2016\",\"5/16/2016\",\"5/16/2016\",\"5/17/2016\",\"5/17/2016\",\"5/17/2016\",\"5/17/2016\",\"5/18/2016\",\"5/18/2016\",\"5/18/2016\",\"5/18/2016\",\"5/18/2016\",\"5/18/2016\",\"5/18/2016\",\"5/19/2016\",\"5/19/2016\",\"5/19/2016\",\"5/19/2016\",\"5/19/2016\",\"5/19/2016\",\"5/19/2016\",\"5/19/2016\",\"5/20/2016\",\"5/20/2016\",\"5/20/2016\",\"5/20/2016\",\"5/20/2016\",\"5/20/2016\",\"5/20/2016\",\"5/20/2016\",\"5/21/2016\",\"5/21/2016\",\"5/21/2016\",\"5/21/2016\",\"5/21/2016\",\"5/21/2016\",\"5/22/2016\",\"5/22/2016\",\"5/22/2016\",\"5/22/2016\",\"5/23/2016\",\"5/23/2016\",\"5/23/2016\",\"5/23/2016\",\"5/24/2016\",\"5/24/2016\",\"5/24/2016\",\"5/24/2016\",\"5/25/2016\",\"5/25/2016\",\"5/25/2016\",\"5/25/2016\",\"5/25/2016\",\"5/26/2016\",\"5/26/2016\",\"5/26/2016\",\"5/26/2016\",\"5/26/2016\",\"5/26/2016\",\"5/27/2016\",\"5/27/2016\",\"5/27/2016\",\"5/27/2016\",\"5/27/2016\",\"5/28/2016\",\"5/28/2016\",\"5/28/2016\",\"5/29/2016\",\"5/29/2016\",\"5/29/2016\",\"5/29/2016\",\"5/29/2016\",\"5/29/2016\",\"5/30/2016\",\"5/30/2016\",\"5/30/2016\",\"5/30/2016\",\"5/31/2016\",\"5/31/2016\",\"5/31/2016\",\"5/31/2016\",\"5/31/2016\",\"5/31/2016\",\"5/31/2016\",\"6/1/2016\",\"6/1/2016\",\"6/1/2016\",\"6/1/2016\",\"6/1/2016\",\"6/1/2016\",\"6/1/2016\",\"6/1/2016\",\"6/1/2016\",\"6/2/2016\",\"6/2/2016\",\"6/2/2016\",\"6/2/2016\",\"6/2/2016\",\"6/2/2016\",\"6/2/2016\",\"6/2/2016\",\"6/3/2016\",\"6/3/2016\",\"6/3/2016\",\"6/3/2016\",\"6/3/2016\",\"6/3/2016\",\"6/3/2016\",\"6/3/2016\",\"6/3/2016\",\"6/3/2016\",\"6/3/2016\",\"6/3/2016\",\"6/3/2016\",\"6/3/2016\",\"6/3/2016\",\"6/3/2016\",\"6/3/2016\",\"6/4/2016\",\"6/4/2016\",\"6/4/2016\",\"6/4/2016\",\"6/4/2016\",\"6/4/2016\",\"6/4/2016\",\"6/4/2016\",\"6/4/2016\",\"6/4/2016\",\"6/4/2016\",\"6/5/2016\",\"6/5/2016\",\"6/5/2016\",\"6/5/2016\",\"6/5/2016\",\"6/5/2016\",\"6/6/2016\",\"6/6/2016\",\"6/6/2016\",\"6/6/2016\",\"6/6/2016\",\"6/6/2016\",\"6/6/2016\",\"6/6/2016\",\"6/6/2016\",\"6/6/2016\",\"6/7/2016\",\"6/7/2016\",\"6/7/2016\",\"6/7/2016\",\"6/7/2016\",\"6/7/2016\",\"6/7/2016\",\"6/7/2016\",\"6/7/2016\",\"6/7/2016\",\"6/7/2016\",\"6/7/2016\",\"6/8/2016\",\"6/8/2016\",\"6/8/2016\",\"6/8/2016\",\"6/8/2016\",\"6/8/2016\",\"6/8/2016\",\"6/8/2016\",\"6/9/2016\",\"6/9/2016\",\"6/9/2016\",\"6/9/2016\",\"6/9/2016\",\"6/9/2016\",\"6/9/2016\",\"6/9/2016\",\"6/9/2016\",\"6/9/2016\",\"6/10/2016\",\"6/10/2016\",\"6/10/2016\",\"6/10/2016\",\"6/10/2016\",\"6/10/2016\",\"6/10/2016\",\"6/10/2016\",\"6/10/2016\",\"6/10/2016\",\"6/10/2016\",\"6/10/2016\",\"6/11/2016\",\"6/11/2016\",\"6/11/2016\",\"6/11/2016\",\"6/11/2016\",\"6/11/2016\",\"6/11/2016\",\"6/11/2016\",\"6/11/2016\",\"6/11/2016\",\"6/11/2016\",\"6/11/2016\",\"6/11/2016\",\"6/12/2016\",\"6/12/2016\",\"6/12/2016\",\"6/12/2016\",\"6/12/2016\",\"6/12/2016\",\"6/12/2016\",\"6/12/2016\",\"6/13/2016\",\"6/13/2016\",\"6/13/2016\",\"6/13/2016\",\"6/13/2016\",\"6/13/2016\",\"6/13/2016\",\"6/13/2016\",\"6/13/2016\",\"6/13/2016\",\"6/13/2016\",\"6/13/2016\",\"6/14/2016\",\"6/14/2016\",\"6/14/2016\",\"6/14/2016\",\"6/14/2016\",\"6/14/2016\",\"6/14/2016\",\"6/14/2016\",\"6/14/2016\",\"6/14/2016\",\"6/14/2016\",\"6/14/2016\",\"6/14/2016\",\"6/15/2016\",\"6/15/2016\",\"6/15/2016\",\"6/15/2016\",\"6/15/2016\",\"6/15/2016\",\"6/15/2016\",\"6/15/2016\",\"6/15/2016\",\"6/16/2016\",\"6/16/2016\",\"6/16/2016\",\"6/16/2016\",\"6/16/2016\",\"6/16/2016\",\"6/17/2016\",\"6/17/2016\",\"6/17/2016\",\"6/17/2016\",\"6/17/2016\",\"6/17/2016\",\"6/17/2016\",\"6/17/2016\",\"6/17/2016\",\"6/17/2016\",\"6/17/2016\",\"6/17/2016\",\"6/17/2016\",\"6/17/2016\",\"6/17/2016\",\"6/17/2016\",\"6/18/2016\",\"6/18/2016\",\"6/18/2016\",\"6/18/2016\",\"6/18/2016\",\"6/18/2016\",\"6/18/2016\",\"6/18/2016\",\"6/18/2016\",\"6/18/2016\",\"6/19/2016\",\"6/19/2016\",\"6/19/2016\",\"6/19/2016\",\"6/19/2016\",\"6/19/2016\",\"6/19/2016\",\"6/19/2016\",\"6/20/2016\",\"6/20/2016\",\"6/20/2016\",\"6/20/2016\",\"6/20/2016\",\"6/20/2016\",\"6/21/2016\",\"6/21/2016\",\"6/21/2016\",\"6/21/2016\",\"6/21/2016\",\"6/21/2016\",\"6/21/2016\",\"6/21/2016\",\"6/22/2016\",\"6/22/2016\",\"6/22/2016\",\"6/22/2016\",\"6/22/2016\",\"6/22/2016\",\"6/22/2016\",\"6/22/2016\",\"6/22/2016\",\"6/22/2016\",\"6/22/2016\",\"6/23/2016\",\"6/23/2016\",\"6/23/2016\",\"6/23/2016\",\"6/23/2016\",\"6/23/2016\",\"6/24/2016\",\"6/24/2016\",\"6/24/2016\",\"6/24/2016\",\"6/24/2016\",\"6/24/2016\",\"6/24/2016\",\"6/24/2016\",\"6/25/2016\",\"6/25/2016\",\"6/25/2016\",\"6/25/2016\",\"6/25/2016\",\"6/25/2016\",\"6/25/2016\",\"6/26/2016\",\"6/26/2016\",\"6/26/2016\",\"6/26/2016\",\"6/26/2016\",\"6/26/2016\",\"6/26/2016\",\"6/27/2016\",\"6/27/2016\",\"6/27/2016\",\"6/27/2016\",\"6/27/2016\",\"6/27/2016\",\"6/27/2016\",\"6/27/2016\",\"6/27/2016\",\"6/27/2016\",\"6/27/2016\",\"6/27/2016\",\"6/27/2016\",\"6/27/2016\",\"6/28/2016\",\"6/28/2016\",\"6/28/2016\",\"6/28/2016\",\"6/28/2016\",\"6/28/2016\",\"6/28/2016\",\"6/28/2016\",\"6/28/2016\",\"6/28/2016\",\"6/28/2016\",\"6/29/2016\",\"6/29/2016\",\"6/29/2016\",\"6/29/2016\",\"6/29/2016\",\"6/29/2016\",\"6/29/2016\",\"6/29/2016\",\"6/29/2016\",\"6/30/2016\",\"6/30/2016\",\"6/30/2016\",\"6/30/2016\",\"6/30/2016\",\"6/30/2016\",\"6/30/2016\",\"7/1/2016\",\"7/1/2016\",\"7/1/2016\",\"7/1/2016\",\"7/1/2016\",\"7/1/2016\",\"7/1/2016\",\"7/1/2016\",\"7/1/2016\",\"7/1/2016\",\"7/1/2016\",\"7/2/2016\",\"7/2/2016\",\"7/2/2016\",\"7/2/2016\",\"7/2/2016\",\"7/2/2016\",\"7/2/2016\",\"7/2/2016\",\"7/2/2016\",\"7/3/2016\",\"7/3/2016\",\"7/3/2016\",\"7/3/2016\",\"7/3/2016\",\"7/4/2016\",\"7/4/2016\",\"7/4/2016\",\"7/4/2016\",\"7/4/2016\",\"7/4/2016\",\"7/4/2016\",\"7/4/2016\",\"7/4/2016\",\"7/4/2016\",\"7/5/2016\",\"7/5/2016\",\"7/5/2016\",\"7/5/2016\",\"7/5/2016\",\"7/5/2016\",\"7/5/2016\",\"7/5/2016\",\"7/5/2016\",\"7/5/2016\",\"7/6/2016\",\"7/6/2016\",\"7/6/2016\",\"7/6/2016\",\"7/6/2016\",\"7/7/2016\",\"7/7/2016\",\"7/7/2016\",\"7/7/2016\",\"7/7/2016\",\"7/7/2016\",\"7/7/2016\",\"7/7/2016\",\"7/7/2016\",\"7/8/2016\",\"7/8/2016\",\"7/8/2016\",\"7/8/2016\",\"7/8/2016\",\"7/8/2016\",\"7/8/2016\",\"7/8/2016\",\"7/8/2016\",\"7/8/2016\",\"7/9/2016\",\"7/9/2016\",\"7/9/2016\",\"7/9/2016\",\"7/9/2016\",\"7/9/2016\",\"7/10/2016\",\"7/10/2016\",\"7/10/2016\",\"7/10/2016\",\"7/10/2016\",\"7/10/2016\",\"7/11/2016\",\"7/11/2016\",\"7/11/2016\",\"7/11/2016\",\"7/11/2016\",\"7/11/2016\",\"7/11/2016\",\"7/11/2016\",\"7/11/2016\",\"7/11/2016\",\"7/11/2016\",\"7/12/2016\",\"7/12/2016\",\"7/12/2016\",\"7/12/2016\",\"7/12/2016\",\"7/12/2016\",\"7/13/2016\",\"7/13/2016\",\"7/13/2016\",\"7/13/2016\",\"7/13/2016\",\"7/13/2016\",\"7/13/2016\",\"7/13/2016\",\"7/13/2016\",\"7/13/2016\",\"7/13/2016\",\"7/13/2016\",\"7/14/2016\",\"7/14/2016\",\"7/14/2016\",\"7/14/2016\",\"7/14/2016\",\"7/14/2016\",\"7/15/2016\",\"7/15/2016\",\"7/15/2016\",\"7/15/2016\",\"7/15/2016\",\"7/15/2016\",\"7/15/2016\",\"7/15/2016\",\"7/15/2016\",\"7/15/2016\",\"7/15/2016\",\"7/16/2016\",\"7/16/2016\",\"7/16/2016\",\"7/16/2016\",\"7/16/2016\",\"7/17/2016\",\"7/17/2016\",\"7/17/2016\",\"7/18/2016\",\"7/18/2016\",\"7/18/2016\",\"7/18/2016\",\"7/18/2016\",\"7/18/2016\",\"7/18/2016\",\"7/18/2016\",\"7/18/2016\",\"7/18/2016\",\"7/19/2016\",\"7/19/2016\",\"7/20/2016\",\"7/20/2016\",\"7/20/2016\",\"7/20/2016\",\"7/20/2016\",\"7/20/2016\",\"7/20/2016\",\"7/20/2016\",\"7/20/2016\",\"7/21/2016\",\"7/21/2016\",\"7/21/2016\",\"7/21/2016\",\"7/22/2016\",\"7/22/2016\",\"7/22/2016\",\"7/22/2016\",\"7/22/2016\",\"7/22/2016\",\"7/22/2016\",\"7/22/2016\",\"7/22/2016\",\"7/22/2016\",\"7/22/2016\",\"7/22/2016\",\"7/23/2016\",\"7/23/2016\",\"7/23/2016\",\"7/23/2016\",\"7/23/2016\",\"7/23/2016\",\"7/24/2016\",\"7/24/2016\",\"7/24/2016\",\"7/24/2016\",\"7/25/2016\",\"7/25/2016\",\"7/25/2016\",\"7/25/2016\",\"7/25/2016\",\"7/25/2016\",\"7/25/2016\",\"7/25/2016\",\"7/25/2016\",\"7/25/2016\",\"7/25/2016\",\"7/25/2016\",\"7/25/2016\",\"7/25/2016\",\"7/26/2016\",\"7/26/2016\",\"7/26/2016\",\"7/26/2016\",\"7/26/2016\",\"7/27/2016\",\"7/27/2016\",\"7/27/2016\",\"7/27/2016\",\"7/27/2016\",\"7/27/2016\",\"7/27/2016\",\"7/27/2016\",\"7/27/2016\",\"7/27/2016\",\"7/27/2016\",\"7/28/2016\",\"7/28/2016\",\"7/28/2016\",\"7/28/2016\",\"7/28/2016\",\"7/29/2016\",\"7/29/2016\",\"7/29/2016\",\"7/29/2016\",\"7/29/2016\",\"7/29/2016\",\"7/29/2016\",\"7/29/2016\",\"7/30/2016\",\"7/30/2016\",\"7/30/2016\",\"7/30/2016\",\"7/30/2016\",\"7/31/2016\",\"7/31/2016\",\"7/31/2016\",\"7/31/2016\",\"7/31/2016\",\"7/31/2016\",\"7/31/2016\",\"7/31/2016\",\"8/1/2016\",\"8/1/2016\",\"8/1/2016\",\"8/1/2016\",\"8/1/2016\",\"8/1/2016\",\"8/1/2016\",\"8/2/2016\",\"8/2/2016\",\"8/2/2016\",\"8/2/2016\",\"8/2/2016\",\"8/2/2016\",\"8/2/2016\",\"8/2/2016\",\"8/2/2016\",\"8/2/2016\",\"8/2/2016\",\"8/2/2016\",\"8/2/2016\",\"8/2/2016\",\"8/3/2016\",\"8/3/2016\",\"8/3/2016\",\"8/3/2016\",\"8/3/2016\",\"8/3/2016\",\"8/3/2016\",\"8/3/2016\",\"8/3/2016\",\"8/3/2016\",\"8/4/2016\",\"8/4/2016\",\"8/4/2016\",\"8/4/2016\",\"8/4/2016\",\"8/4/2016\",\"8/4/2016\",\"8/4/2016\",\"8/4/2016\",\"8/5/2016\",\"8/5/2016\",\"8/5/2016\",\"8/5/2016\",\"8/5/2016\",\"8/5/2016\",\"8/5/2016\",\"8/5/2016\",\"8/5/2016\",\"8/5/2016\",\"8/6/2016\",\"8/6/2016\",\"8/6/2016\",\"8/6/2016\",\"8/6/2016\",\"8/6/2016\",\"8/6/2016\",\"8/6/2016\",\"8/6/2016\",\"8/6/2016\",\"8/6/2016\",\"8/6/2016\",\"8/6/2016\",\"8/6/2016\",\"10/1/2016\",\"10/3/2016\",\"10/3/2016\",\"10/3/2016\",\"10/4/2016\",\"10/4/2016\",\"10/4/2016\",\"10/4/2016\",\"10/5/2016\",\"10/5/2016\",\"10/6/2016\",\"10/7/2016\",\"10/8/2016\",\"10/8/2016\",\"10/10/2016\",\"10/10/2016\",\"10/10/2016\",\"10/10/2016\",\"10/11/2016\",\"10/12/2016\",\"10/12/2016\",\"10/13/2016\",\"10/13/2016\",\"10/15/2016\",\"10/15/2016\",\"10/16/2016\",\"10/16/2016\",\"10/17/2016\",\"10/20/2016\",\"10/20/2016\",\"10/20/2016\",\"10/21/2016\",\"10/22/2016\",\"10/24/2016\",\"10/25/2016\",\"10/25/2016\",\"10/26/2016\",\"10/26/2016\",\"10/26/2016\",\"10/26/2016\",\"10/27/2016\",\"10/27/2016\",\"10/28/2016\",\"10/28/2016\",\"10/29/2016\",\"11/1/2016\",\"11/1/2016\",\"11/2/2016\",\"11/2/2016\",\"11/2/2016\",\"11/3/2016\",\"11/4/2016\",\"11/4/2016\",\"11/5/2016\",\"11/7/2016\",\"11/7/2016\",\"11/8/2016\",\"11/8/2016\",\"11/8/2016\",\"11/9/2016\",\"11/9/2016\",\"11/9/2016\",\"11/10/2016\",\"11/10/2016\",\"11/10/2016\",\"11/11/2016\",\"11/11/2016\",\"11/11/2016\",\"11/12/2016\",\"11/13/2016\",\"11/14/2016\",\"11/15/2016\",\"11/15/2016\",\"11/16/2016\",\"11/16/2016\",\"11/17/2016\",\"11/17/2016\",\"11/17/2016\",\"11/18/2016\",\"11/18/2016\",\"11/19/2016\",\"11/19/2016\",\"11/21/2016\",\"11/22/2016\",\"11/22/2016\",\"11/22/2016\",\"11/23/2016\",\"11/23/2016\",\"11/23/2016\",\"11/24/2016\",\"11/24/2016\",\"11/24/2016\",\"11/26/2016\",\"11/26/2016\",\"11/26/2016\",\"11/26/2016\",\"11/28/2016\",\"11/29/2016\",\"11/30/2016\",\"11/30/2016\",\"11/30/2016\",\"12/1/2016\",\"12/1/2016\",\"12/1/2016\",\"12/2/2016\",\"12/3/2016\",\"12/5/2016\",\"12/5/2016\",\"12/5/2016\",\"12/7/2016\",\"12/7/2016\",\"12/8/2016\",\"12/8/2016\",\"12/10/2016\",\"12/10/2016\",\"12/12/2016\",\"12/12/2016\",\"12/13/2016\",\"12/13/2016\",\"12/14/2016\",\"12/17/2016\",\"12/19/2016\",\"12/19/2016\",\"12/19/2016\",\"12/21/2016\",\"12/22/2016\",\"12/22/2016\",\"12/22/2016\",\"12/23/2016\",\"12/23/2016\",\"12/24/2016\",\"12/26/2016\",\"12/26/2016\",\"12/26/2016\",\"12/27/2016\",\"12/27/2016\",\"12/28/2016\",\"12/28/2016\",\"12/28/2016\",\"12/29/2016\",\"12/29/2016\",\"12/29/2016\",\"12/30/2016\",\"12/30/2016\",\"12/30/2016\",\"12/30/2016\",\"1/2/2017\",\"1/2/2017\",\"1/3/2017\",\"1/3/2017\",\"1/3/2017\",\"1/3/2017\",\"1/4/2017\",\"1/5/2017\",\"1/6/2017\",\"1/6/2017\",\"1/6/2017\",\"1/7/2017\",\"1/8/2017\",\"1/8/2017\",\"1/9/2017\",\"1/10/2017\",\"1/10/2017\",\"1/11/2017\",\"1/12/2017\",\"1/13/2017\",\"1/13/2017\",\"1/14/2017\",\"1/14/2017\",\"1/15/2017\",\"1/16/2017\",\"1/17/2017\",\"1/17/2017\",\"1/17/2017\",\"1/18/2017\",\"1/18/2017\",\"1/19/2017\",\"1/19/2017\",\"1/19/2017\",\"1/20/2017\",\"1/22/2017\",\"1/23/2017\",\"1/23/2017\",\"1/24/2017\",\"1/25/2017\",\"1/25/2017\",\"1/26/2017\",\"1/27/2017\",\"1/27/2017\",\"1/28/2017\",\"1/30/2017\",\"1/31/2017\",\"1/31/2017\",\"2/1/2017\",\"2/2/2017\",\"2/3/2017\",\"2/3/2017\",\"2/4/2017\",\"2/6/2017\",\"2/6/2017\",\"2/6/2017\",\"2/6/2017\",\"2/6/2017\",\"2/7/2017\",\"2/8/2017\",\"2/9/2017\",\"2/10/2017\",\"2/12/2017\",\"2/13/2017\",\"2/14/2017\",\"2/15/2017\",\"2/15/2017\",\"2/16/2017\",\"2/17/2017\",\"2/17/2017\",\"2/18/2017\",\"2/19/2017\",\"2/20/2017\",\"2/21/2017\",\"2/22/2017\",\"2/23/2017\",\"2/24/2017\",\"2/27/2017\",\"2/28/2017\",\"2/28/2017\",\"3/2/2017\",\"3/7/2017\",\"3/7/2017\",\"3/8/2017\",\"3/10/2017\",\"3/10/2017\",\"3/13/2017\",\"3/14/2017\",\"3/15/2017\",\"3/17/2017\",\"3/19/2017\",\"3/20/2017\",\"3/21/2017\",\"3/21/2017\",\"3/25/2017\",\"3/25/2017\",\"3/26/2017\",\"3/26/2017\",\"3/2/2017\",\"3/7/2017\",\"3/7/2017\",\"3/8/2017\",\"3/10/2017\",\"3/10/2017\",\"3/13/2017\",\"3/14/2017\",\"3/15/2017\",\"3/17/2017\",\"3/19/2017\",\"3/20/2017\",\"3/21/2017\",\"3/21/2017\",\"3/25/2017\",\"3/25/2017\",\"3/26/2017\",\"3/26/2017\",\"3/27/2017\",\"3/27/2017\"],\"xaxis\":\"x\",\"y\":[-0.0883364898989899,0.03957305614282359,0.18409090909090908,0.062347837347837345,-0.013633838383838384,-0.0768716577540107,0.18623556998556995,-0.0742063492063492,0.016666666666666677,-0.13005050505050503,-0.03829966329966329,0.15,-0.11805555555555555,0.04356060606060606,-0.07174603174603175,0.002083333333333334,0.25,0.24300561167227827,-0.05714285714285715,0.12133496959389815,0.06666666666666667,-0.010714285714285718,-0.07812500000000001,0.015444444444444455,0.19110671936758894,0.04510732323232323,0.010023809523809523,-0.09123737373737373,0.4,0.07857481060606061,-0.15692959001782533,-0.05416666666666667,-0.1046296296296296,0.09791666666666667,0.15454545454545454,-0.13775974025974025,0.16875,-0.002972027972027972,-0.21388888888888888,0.008987603305785135,-0.07680061484409312,-0.10398841354723708,0.042045454545454546,0.0,0.35,0.2738437001594896,-0.0625,0.16727272727272727,0.0038194444444444517,-0.08356209150326797,-0.175,0.0,0.04047619047619048,-0.014809764309764313,0.031249999999999993,-0.15884399551066214,0.0,-0.12133312289562288,-0.08333333333333333,-0.10493134469696969,-0.125,-0.08981564412598893,0.006487603305785123,0.1787878787878788,-0.2182676767676768,-0.15681818181818183,-0.1887847222222222,0.12999999999999998,-0.09479797979797981,0.36818181818181817,-0.0371111111111111,-0.5333333333333333,0.025,0.08977272727272727,0.05794318181818181,-0.041666666666666664,-0.13090952380952378,-0.23125,-0.0583044733044733,0.0,-0.02697995580808081,-0.04675925925925926,-0.15728826728826725,0.41818181818181815,-0.01388888888888889,-0.17565235690235692,0.058470117845117846,-0.020598845598845606,-0.18491898148148145,0.06888888888888887,-0.046875,0.0,0.08114325068870525,-0.05770833333333332,-0.07013888888888889,-0.06198830409356724,0.1044805194805195,0.09444444444444444,0.1044805194805195,0.0,0.0037878787878787845,-0.12207839262187088,0.09971590909090909,-0.05845088819226751,0.015453149001536106,-0.12812499999999996,0.06647186147186146,0.0,-0.16673076923076918,0.25833333333333336,0.08750000000000001,0.1142857142857143,0.16661541889483064,0.10305522760068214,-0.09220328282828283,0.0732707509881423,-0.0009803921568627449,-0.058424242424242406,0.12285714285714286,0.10969155844155844,-0.09986685032139576,0.08,-0.025,0.057997100635989514,0.7,0.04924242424242423,0.30700000000000005,0.07325757575757576,0.0,0.03574938574938575,0.23393939393939395,0.0,0.08670334295334295,-0.06076388888888888,0.05672799422799423,0.06136363636363637,-0.06746031746031746,-0.021487851487851487,-0.034919191919191926,0.03822751322751322,-0.05,0.02045454545454545,0.05,0.020833333333333332,-0.017857142857142856,-0.048999999999999995,0.019230769230769242,0.2278409090909091,0.13114035087719297,0.18181818181818182,0.022089066847131366,-0.09020833333333331,0.05174825174825175,-0.08828947368421053,0.07430782180782179,-0.7,0.0,0.3181818181818182,0.0848353349159801,0.1,0.00545634920634921,-0.07534722222222222,0.0,0.2125,0.0,0.10227272727272727,0.0,0.12,0.1703703703703704,0.06818181818181818,0.07252133132567913,-0.17704545454545456,-0.0008148148148148089,0.06796176046176046,-0.1413333333333333,0.024358974358974363,0.052525252525252523,0.04738636363636363,0.024393939393939395,0.07782369146005509,0.12295204795204794,-0.0513888888888889,0.25,0.0684090909090909,0.0,0.07358511586452762,0.15697278911564627,-0.041666666666666664,0.0005050505050504991,0.025000000000000005,0.084375,-0.0625,0.5,0.08159930347430347,0.07,-0.09642857142857143,-0.11484126984126984,0.19520202020202018,0.09898751667619592,0.01197916666666667,-0.011111111111111117,0.1675757575757576,0.14015151515151514,0.10981240981240982,-0.038852413019079685,0.3357142857142857,-0.051851851851851864,0.09484848484848486,-0.15555555555555559,-0.1251570325099737,-0.1571010101010101,0.05593093093093093,0.0,0.12459186459186458,0.06313131313131312,-0.038758417508417506,-0.02441778900112234,0.021627384960718293,0.10689792663476873,-0.01583333333333332,0.09839015151515151,0.06818181818181818,-0.13689273689273687,-0.000833333333333334,0.05572638146167559,0.10546840586314273,0.1029040404040404,0.13636363636363635,0.0,0.12542147667147668,0.07738095238095238,0.3411462450592886,0.08264860139860139,0.12931588613406797,0.0,-0.06792929292929294,-0.024525012025012023,-0.03136363636363637,-0.039180672268907556,0.05359477124183007,0.006643356643356652,-0.01844919786096256,0.01845959595959596,0.0,-0.06520853698273053,0.14917654808959158,0.015817384370015952,0.017568542568542574,-0.0880270963604297,-0.008928571428571428,0.17290213054918938,0.3,-0.03178661616161616,-0.038888888888888896,-0.09533216783216783,0.061130952380952376,0.07724116161616161,-0.01653278819945487,0.040973609723609736,-0.013325563325563327,0.1965007215007215,-0.07575757575757577,0.0384297520661157,0.005681818181818177,0.08720164609053499,0.17168571428571425,-0.11851851851851854,0.16558080808080808,0.0,-0.005225330225330227,0.06465572390572391,-0.0649380341880342,0.16666666666666666,0.035389610389610394,-0.02337962962962964,0.0017676767676767715,-0.012301587301587308,-0.026422397047397052,0.55,0.12380952380952381,0.17682462927143777,-0.11815886134067952,-0.041657313879536105,-0.16666666666666666,0.1568627450980392,-0.24375000000000002,0.11920598845598844,0.027104377104377103,-0.03125,-0.14722222222222223,0.021078431372549025,0.25,-0.13610013175230562,0.18749999999999997,0.002777777777777775,-0.185,-0.10489510489510488,0.044460227272727276,-0.07777777777777779,0.03255170755170754,0.1412629698343984,0.0002840909090909106,0.09166666666666667,0.0,-0.05948773448773449,0.0028409090909090884,0.0,0.12432595182595182,-0.078125,0.11000000000000001,-0.125,0.1875,0.02823232323232323,0.13077823691460055,-0.11611111111111108,0.01801948051948052,0.1481818181818182,-0.022916666666666665,0.007407407407407395,-0.08333333333333333,0.1472346618898343,0.0,-0.10944444444444443,-0.20714285714285716,-0.2580578512396694,0.125,-0.13703703703703707,0.0,-0.013345410628019323,-0.29999999999999993,-0.08888888888888889,0.0,0.010520833333333344,0.0782519563769564,0.06923701298701297,-0.036419753086419746,0.05,0.15212121212121213,0.006446039340776176,0.08314814814814815,0.0,0.21212121212121213,-0.0018895855102751518,-0.007417929292929287,-0.13375097125097124,0.0,0.05559343434343435,0.07961133069828721,0.05,0.09059523809523809,-0.014930555555555558,0.14665223665223664,0.051457431457431466,0.10026041666666667,0.0018097643097643044,-0.125,-0.066875,0.25930134680134675,0.058121212121212115,-0.03156130268199235,-0.07081871345029239,-0.10138888888888889,-0.025329048056320788,-0.055651709401709396,-0.08928571428571429,0.12214285714285715,0.015729665071770333,0.030230880230880226,0.014467592592592594,0.0030658436213991873,0.06818181818181818,-0.05984126984126983,0.003452380952380958,0.08011063011063009,0.16171875,-0.03307127882599581,0.04307359307359306,0.16696428571428573,0.07040935672514621,0.0,-0.1236760461760462,0.2833396995161701,-0.05229437229437231,-0.04208333333333333,-0.031979443558390934,0.43333333333333335,0.1875,0.039660493827160505,0.06698564593301436,0.11669324827219564,0.02709235209235209,-0.14967320261437905,0.030893308080808073,-0.12146464646464646,-0.006249999999999999,0.09711538461538462,0.12261430090377458,0.020588235294117654,0.12177248677248678,0.006666666666666665,0.00902777777777778,-0.020938552188552197,-0.2215996168582376,0.0,0.0,0.0,-0.02967854217854219,0.1142857142857143,0.06757575757575757,-0.14875,-0.13071180555555553,-0.0997843434343434,-0.09090909090909091,0.15888888888888889,-0.0625,-0.0008055555555555538,0.020075757575757584,0.225,-0.09796897546897548,-0.08133169934640522,0.068502331002331,-0.01274154589371981,-0.0016876077851687528,0.145,-0.015328282828282823,0.06083333333333334,0.0863095238095238,0.18928571428571428,0.11699999999999999,0.14503673094582187,0.19999999999999998,-0.05573232323232322,0.04257246376811594,0.0034722222222222238,0.010428240740740747,0.15994318181818182,0.09999999999999999,0.0801948051948052,0.0625,-0.03125,-0.09000819000819,-0.029861111111111106,-0.0434469696969697,-0.04176967038809145,-0.13284313725490196,-0.09660984848484848,0.04489583333333335,0.003713991769547326,-0.0021420083184789016,-0.08928571428571429,-0.125,0.07888888888888887,0.14016161616161618,0.215,0.038480210265924554,0.03008680555555556,0.23843537414965987,-0.10326318742985412,-0.0306718124642653,0.18327454438565544,0.028571428571428574,0.08928571428571429,0.035234006734006736,0.12835642135642134,0.075,0.13636363636363635,0.5,-0.056027777777777774,0.045,-0.1378550658096112,0.22410256410256413,0.08333333333333333,0.06341354723707665,-0.13387096774193546,0.005080213903743312,0.16666666666666666,-0.07369658119658119,0.07999999999999999,-0.05840277777777778,-0.058595750128008176,-0.07337962962962963,0.02469751866490997,-0.19999999999999998,0.0821969696969697,0.06727855477855477,0.06666666666666665,0.10604166666666666,0.04562925170068028,-0.05992560742560744,-0.14320987654320985,-0.014285714285714287,0.002272727272727271,0.07946428571428572,0.018220802494996042,0.052995521250238244,-0.10740740740740741,-0.09666666666666665,0.1736529356060606,0.056146705146705146,0.049999999999999996,-0.021489243080152168,0.16666666666666666,0.008888888888888873,-0.041666666666666664,0.0378066378066378,-0.10740740740740741,-0.09666666666666665,0.1736529356060606,0.056146705146705146,0.049999999999999996,-0.021489243080152168,0.16666666666666666,0.008888888888888873,-0.041666666666666664,0.0378066378066378,0.03336805555555555,-0.12110317460317457,0.1288157894736842,0.15959595959595957,0.04617647058823529,-0.10018518518518518,0.02811004784688995,0.18,0.007575757575757569,-0.1386352657004831,0.030219017094017094,-0.03737373737373737,0.10763513513513513,0.06146212121212122,0.04537878787878788,0.012626262626262623,0.03699945887445887,-0.058562801932367174,0.08582818930041151,0.1307986111111111,0.040787715868361024,-0.08928571428571429,-0.11653434343434343,-0.05948896863370544,0.009807044807044795,0.14545454545454548,-0.03549851190476191,0.18666666666666668,-0.02353801169590644,0.14462121212121212,0.2125,-0.014377309682187726,-0.00902439024390243,0.12632034632034633,0.056565656565656534,0.008617424242424242,0.40509259259259256,0.037500000000000006,0.029957482993197285,-0.1681299603174603,-0.009398148148148149,0.11071428571428572,-0.024485596707818934,0.11650000000000002,0.0625,0.0,0.12220643939393942,-0.08675213675213675,0.026483961640211637,0.003392621870882738,0.1392156862745098,0.1346153846153846,0.1265865384615385,0.13333333333333336,0.028333333333333342,-0.16365656565656564,-0.015567765567765566,-0.0748625140291807,-0.008269230769230763,0.0,-0.023434343434343433,0.11936050061050063,0.007500000000000004,0.20357142857142857,-0.16249999999999998,-0.05555555555555555,-0.06585592769803296,0.057121212121212114,0.017936507936507935,0.08019480519480518,0.029314888010540177,0.39,-0.022685185185185187,0.05333333333333334,0.06258585858585858,-0.03710858585858586,0.13749999999999998,0.2833333333333333,0.08989898989898991,0.038888888888888896,0.05696428571428571,0.3,-0.05812757201646091,0.15,0.11010000000000002,-0.05006944444444444,-0.03272727272727273,-0.04273504273504272,0.3125,-0.0864423076923077,0.125,0.11712473572938689,0.04622269203664554,0.2,0.1255138888888889,0.11739495798319328,0.05714285714285715,-0.04403409090909091,-0.015472027972027978,0.04537433155080214,0.055966469428007884,0.12555555555555553,0.03749398749398749,-0.12172105672105671,0.08442760942760943,-0.020000000000000007,0.04758080808080808,0.0603772095959596,0.0516577540106952,0.015024191494779727,0.0,-0.25779671717171715,0.05253652597402597,-0.20666666666666664,0.21864117364117364,0.07160062160062163,0.16583333333333336,0.10835978835978834,0.1093452380952381,0.019267676767676763,-0.05381944444444444,0.3428571428571429,0.09688401875901875,-0.1958333333333333,0.04015151515151514,0.14444444444444443,0.18083333333333332,0.057169421487603296,-0.06955026455026456,-0.027192577953447514,-0.07094285714285713,0.10865125913513009,0.046664562289562284,0.1274356467904855,0.025818713450292394,0.12808080808080807,0.10095844811753904,0.06138888888888889,0.05083333333333334,-0.1313055555555555,0.0782070707070707,-0.00738636363636364,-0.09166666666666666,0.015324295587453476,0.0058641975308641936,0.057118055555555554,0.24573002754820938,0.4045145330859616,0.02142857142857143,0.020833333333333332,-0.025111111111111112,0.1020408163265306,0.057275641025641026,-0.11398809523809524,0.30952380952380953,0.0625,0.08412460645415189,0.0810290404040404,0.17,-0.13545454545454547,0.11190476190476188,0.13055555555555554,0.04699418426691153,0.08676470588235295,0.10497474747474746,0.025,-0.06818775995246584,0.042016317016317,0.15333333333333332,0.15375,0.1747619047619048,0.03411831076724694,0.20571428571428574,0.15185185185185185,-0.011400966183574876,-0.08125,0.18997371675943106,0.04005847953216374,0.0073232323232323175,-0.12473599632690538,0.04875,0.0278236914600551,0.038882936507936505,0.027386105957534525,-0.08445858585858587,0.15059808612440193,0.08890467171717173,0.13790584415584417,0.059722222222222225,0.08249890206411944,0.06695959595959596,0.13133889919604205,-0.07239583333333334,0.011088435374149653,0.25,0.03546143250688704,-0.01882102272727272,-0.16248677248677246,0.10242424242424243,0.225,0.014721074380165289,0.09038888888888888,0.08216783216783216,-0.009722222222222224,0.010034965034965041,0.08320707070707069,0.03571428571428572,-0.006999999999999998,0.2102873977873978,0.12392857142857142,0.07499240525556317,0.26728070175438595,0.19986471861471863,0.006249999999999992,0.12164502164502165,0.010227272727272724,0.0007006337888690813,0.13813131313131313,0.041666666666666664,0.13486652236652236,-0.0034188034188034236,0.15751748251748252,0.21,-0.041666666666666664,0.13818181818181818,0.09934424894102313,0.11727272727272726,0.05132395382395382,0.1426948051948052,0.014333333333333333,0.06992063492063491,0.09,0.04371212121212121,-0.1354256854256854,0.11347222222222224,0.1013377825877826,0.3075,0.275,-0.08333333333333333,-0.006259968102073369,0.18092691622103385,0.13333333333333333,0.07533422459893047,0.022544893378226707,0.10309139784946236,-0.044528619528619535,-0.020454545454545465,0.24259316770186334,0.16999999999999998,0.026925505050505047,0.11900000000000002,0.198937908496732,-0.004460611405055852,0.1494805194805195,-0.041666666666666664,0.10570175438596496,0.06836855396065922,0.043181818181818175,0.1339393939393939,0.16571153846153847,0.019940476190476192,0.07284090909090908,0.09604978354978355,0.1201923076923077,0.10104166666666667,0.10515480895915678,0.16724517906336092,-0.03333333333333333,0.09906629318394025,0.1,0.10128726287262872,0.03178904428904428,0.25833333333333336,0.1274364613880743,0.0,-0.1095029239766082,-0.11157024793388431,0.03684038184038183,0.020000000000000004,0.2875,0.10053475935828877,0.04020359848484849,0.2008894230769231,-0.14444444444444446,0.09113636363636363,0.018952781452781443,0.057995129870129856,0.05555555555555555,0.08304662268947983,0.15666666666666668,0.054761904761904755,0.04679988662131518,0.036473429951690825,-0.023611111111111117,0.08333333333333333,0.056042128603104216,-0.037361111111111116,0.06495454545454546,-0.008527777777777776,0.11875,0.029401709401709393,0.3681818181818182,0.2833333333333333,-0.006944444444444444,0.28727272727272724,0.11037037037037035,0.03888888888888891,0.20138888888888887,0.1301948051948052,0.1761904761904762,-0.004999999999999999,0.19499999999999998,0.03333333333333333,-0.051851851851851864,0.0,0.015625,0.021056547619047628,-0.06,0.04083333333333332,0.0673986185383244,0.0318452380952381,0.1086237373737374,0.19499999999999998,0.03333333333333333,-0.051851851851851864,0.0,0.015625,0.021056547619047628,-0.06,0.04083333333333332,0.0673986185383244,0.0318452380952381,0.1086237373737374,0.1797828282828283,0.09695767195767198,0.065625,0.20714285714285716,0.17083333333333334,0.004444444444444437,-0.2,0.0,0.0517171717171717,-0.01651785714285714,0.1772133095662507,0.11249999999999999,0.12464646464646466,0.03727272727272727,0.06580086580086579,0.07114898989898988,-0.008333333333333333,0.422,-0.04644054178145087,0.1033113447399162,0.06466790925124258,0.04475940725940727,-0.02685990338164252,0.19499999999999998,0.03333333333333333,-0.051851851851851864,0.0,0.015625,0.021056547619047628,-0.06,0.04083333333333332,0.0673986185383244,0.0318452380952381,0.1086237373737374,0.1797828282828283,0.09695767195767198,0.065625,0.20714285714285716,0.17083333333333334,0.004444444444444437,-0.2,0.0,0.0517171717171717,-0.01651785714285714,0.1772133095662507,0.19499999999999998,0.03333333333333333,-0.051851851851851864,0.0,0.015625,0.021056547619047628,-0.06,0.04083333333333332,0.0673986185383244,0.0318452380952381,0.1086237373737374,0.1797828282828283,0.19499999999999998,0.03333333333333333,-0.051851851851851864,0.0,0.015625,0.021056547619047628,-0.06,0.04083333333333332,0.0673986185383244,0.0318452380952381,0.1086237373737374,0.1797828282828283,0.09695767195767198,0.065625,0.20714285714285716,0.17083333333333334,0.004444444444444437,-0.2,0.0,0.0517171717171717,-0.01651785714285714,0.1772133095662507,0.11249999999999999,0.12464646464646466,0.03727272727272727,0.06580086580086579,0.07114898989898988,-0.008333333333333333,0.422,-0.04644054178145087,0.1033113447399162,0.06466790925124258,0.04475940725940727,-0.02685990338164252,0.09916666666666667,0.2203125,0.2813852813852814,0.02291666666666667,0.12378787878787878,0.032407407407407406,0.0828030303030303,0.028766835016835014,0.09171401515151516,-0.009767025089605735,0.040553079817785706,0.04197639661925378,-0.09913419913419914,0.017243008314436887,0.1013634241575418,0.04407051282051282,0.12313664596273292,0.06694444444444443,0.08807319223985892,0.10634057971014495,0.11390382620851369,0.15833333333333333,0.10803571428571429,-0.0435672514619883,0.09265873015873016,0.12280219780219781,0.11544569067296341,0.1546401515151515,-0.02162698412698413,0.10050505050505051,0.05454545454545454,0.15454545454545454,0.037500000000000006,0.1111111111111111,0.0012878787878787873,-0.08333333333333333,0.030570409982174678,0.01601055194805195,0.09260461760461759,-0.03928571428571428,-0.1318181818181818,0.13741258741258738,0.021925647451963237,0.07382478632478634,0.1375,0.0,-0.0015151515151515165,0.04,0.10330075306637806,-0.07473169191919189,0.09133379247015606,-0.23901515151515154,-0.04321152703505645,-0.001349807599807604,-0.037950937950937944,0.03840129233511586,0.0138030303030303,0.10060763888888889,-0.3125,0.134375,0.04863897596656217,0.030000000000000006,0.19285714285714287,0.3375,0.21875,0.30000000000000004,0.3440998329156224,0.25,0.31666666666666665,0.05,-0.021347402597402605,0.19318181818181818,0.34444444444444444,0.08828502415458937,0.3402777777777778,0.0,0.014814814814814808,0.02015316859066859,0.32857142857142857,0.44000000000000006,-0.0761574074074074,0.0,0.10151515151515152,0.11545454545454545,0.18182857991681523,0.08545454545454545,0.15557575757575756,0.15616883116883118,0.014682539682539684,0.07916666666666668,0.1681481481481481,0.36769972451790633,0.171031746031746,0.038636363636363635,0.06818181818181818,0.014886363636363632,-0.010606060606060628,-0.095625,0.027828282828282824,-0.017901234567901245,0.05636200716845879,0.11028806584362139,0.0,0.05977633477633477,0.03271604938271604,0.09675013683634372,0.4000000000000001,0.0,0.4166666666666667,0.14285714285714285,0.12471590909090909,-0.011111111111111113,0.11093750000000002,0.05,0.26499236058059583,-0.30000000000000004,0.20306513409961685,0.04545454545454545,0.08791291291291292,0.17188418577307465,0.010712898212898217,0.13068181818181818,0.13125,0.14928229665071774,0.14928229665071774,0.14265046296296297,-0.10000000000000002,0.07404970760233917,0.188265306122449,0.06111111111111111,0.08366666666666667,0.14099025974025975,0.015012704686617737,0.07349033816425121,0.07260802469135802,0.21337448559670782,0.044367588932806325,0.13067640692640695,0.15195454545454545,0.07341666666666666,0.21854636591478693,0.15050125313283208,0.03993055555555555,0.12762237762237763,0.1,0.11253881987577641,0.10388888888888888,0.13777777777777775,0.026622222222222224,0.06651891252955085,-0.016988636363636362,0.039542864542864535,-0.007894736842105265,-0.01037414965986394,0.215,0.225,0.14330808080808083,0.13128019323671494,0.11730769230769234,-0.15795454545454546,0.037500000000000006,0.09747474747474748,0.0940843621399177,0.12101449275362318,0.11485042735042737,0.2556818181818182,0.1959090909090909,0.037500000000000006,0.09275510204081633,0.0909090909090909,0.09749999999999999,0.11994318181818182,0.06257575757575756,0.12525703463203464,0.11666666666666667,-0.1150132275132275,0.08375,0.07291666666666666,-0.05837301587301589,0.1481818181818182,0.007942708333333333,0.00847222222222222,0.09242424242424242,0.1028409090909091,0.23585081585081588,0.02509018759018758,0.053125000000000006,-0.01742424242424243,0.022420634920634917,0.17272727272727273,0.056111111111111125,0.08181818181818182,0.08300865800865799,-0.02283057851239669,0.0702651515151515,0.07088744588744587,0.24984126984126986,0.3340909090909091,0.09062316284538509,0.25,0.16926406926406928,0.03819444444444444,0.14021164021164023,-0.047126436781609195,0.1349747474747475,0.15675505050505048,0.12089728453364817,0.16527777777777777,0.07727272727272727,0.1781024531024531,0.004761904761904761,0.13541666666666666,-0.03666666666666667,0.3639610389610388,0.03611111111111111,0.14367201426024956,0.2726190476190476,0.144505772005772,0.17475024975024972,0.05333333333333333,-0.017803030303030307,0.24507575757575753,0.14210526315789473,0.13749999999999998,0.0169631093544137,0.13809523809523808,0.48888888888888893,0.06411616161616161,0.020552297165200392,0.09987032487032488,0.11607744107744107,0.04758454106280192,0.6166666666666667,-0.08,-0.08750000000000001,-0.09166666666666667,-0.015104166666666682,-0.03154761904761905,-0.07083333333333335,0.04722222222222222,0.01770833333333334,0.039194577352472094,0.12227272727272727,0.08627144460477792,0.36416666666666664,0.10877525252525252,0.21025641025641026,0.2011111111111111,0.09999999999999999,0.09999999999999999,0.0,0.6733333333333333,0.12222222222222219,0.04583333333333334,0.10416666666666666,0.0,0.3444444444444444,-0.02057291666666667,0.1910714285714286,0.26916666666666667,0.26666666666666666,0.029166666666666657,0.0,0.3333333333333333,0.08166666666666664,0.12778724747474748,-0.08888888888888889,0.13565416065416067,0.15,0.16666666666666666,0.24727272727272726,-0.06805555555555555,0.26904761904761904,0.10451388888888889,0.07523310023310024,0.02645743145743145,0.18611111111111112,0.22164502164502162,0.26916666666666667,0.2125,0.1076388888888889,0.2072916666666667,0.3783333333333333,0.3138888888888889,0.07257171717171716,0.29166666666666663,0.08849206349206347,0.4407407407407408,0.3761904761904762,0.17361111111111113,0.37777777777777777,0.3125,0.06555555555555556,0.09868421052631579,0.04694444444444444,0.20555555555555557,0.18333333333333335,0.016942148760330577,0.10650411679823445,0.006666666666666665,0.08879037629037628,0.13849431818181815,-0.09642857142857143,0.3041666666666667,0.18544973544973542,0.4611111111111111,0.16164772727272728,0.1204181363903586,0.17575757575757575,0.08333333333333333,0.1537037037037037,0.2535714285714286,0.19000000000000003,0.21666666666666667,0.3416666666666666,0.0475,0.4866666666666667,0.01567460317460317,0.21397515527950312,0.18371212121212122,-0.03854723707664884,0.15833333333333333,0.10246212121212123,0.16555555555555557,0.17264957264957265,0.2722222222222222,0.21166666666666667,0.13113636363636363,0.12314814814814813,0.06909722222222221,0.21002258610954264,0.2476957070707071,0.08712121212121211,0.18257575757575759,0.08006535947712419,0.11410256410256411,0.10869565217391307,0.01621651295564338,0.20833333333333337,-0.08214285714285714,0.05949307893752337,0.18333333333333332,0.11666666666666665,0.17976190476190476,0.05806277056277055,0.09920014880952382,0.1111111111111111,0.14722222222222223,0.11944444444444444,0.16,0.14607843137254903,0.13333333333333333,0.22000000000000006,0.1579944178628389,0.23750000000000002,0.15,0.07738095238095238,0.1429306290417402,0.271875,0.025000000000000005,0.08409090909090909,-0.05,0.35000000000000003,0.06284271284271284,0.13282828282828285,0.16999999999999998,0.11863636363636362,0.2531507936507937,0.08222222222222222,0.095,0.075,0.31,0.12954978354978355,0.05550283050283051,0.2549019607843137,0.195,0.17500000000000002,0.08645833333333333,0.023684210526315787,0.12051282051282051,0.30000000000000004,0.37166666666666665,0.09777777777777778,0.23750000000000002,0.2473665223665224,0.05166666666666667,0.0,0.08125,0.5166666666666667,0.0806060606060606,-0.2708333333333333,0.2739393939393939,0.16850079744816585,0.106687675070028,-0.007291666666666662,0.1625,0.006249999999999999,0.8,0.0,0.17777777777777778,0.2111111111111111,0.16783459595959596,0.25,0.11007575757575758,0.14444444444444446,0.22333333333333333,0.07666666666666666,-0.035,-1.0,-0.05083333333333333,0.08125,0.1682730158730159,0.2222222222222222,0.0,-0.09062500000000001,0.19721320346320348,0.2,0.05,-0.05500000000000001,0.08541666666666665,0.027777777777777776,-0.025,0.007142857142857139,0.0,-0.18333333333333335,0.03055555555555556,0.06598484848484847,0.0,0.12329545454545456,0.18333333333333335,-0.029761904761904774,0.032,0.02536231884057971,-0.3428571428571429,0.08481162981162985,0.14928229665071774,0.26726190476190476,0.19126984126984126,0.04642857142857142,0.035555555555555556,-0.0625,-0.04506172839506174,0.07916666666666666,0.09356708106708107,0.03484126984126983,0.07991071428571428,-0.009630647130647131,0.07749999999999999,0.2258333333333333,0.1716666666666667,0.21111111111111114,0.17291666666666666,0.11136363636363637,0.028749999999999998,0.08863636363636364,0.04374999999999999,0.095,0.11666666666666665,0.1430575396825397,-0.05555555555555555,0.03166666666666667,-0.021388888888888884,0.15386363636363634,0.14424242424242426,0.08666666666666667,0.09999999999999999,0.10210084033613447,0.09843565525383707,0.12307692307692308,0.15833333333333335,0.20833333333333331,0.3611111111111111,0.2484848484848485,0.05751748251748252,0.12266899766899766,0.021666666666666664,-0.041481481481481466,0.18012820512820513,-0.023333333333333338,0.06614858906525573,-0.0050000000000000044,0.1836734693877551,0.27187500000000003,0.103125,0.1142857142857143,0.25,0.33571428571428574,0.1886904761904762,0.01328671328671329,0.14743265993265994,0.20924242424242423,0.2611111111111111,0.21275252525252528,0.13714285714285715,0.007000000000000001,0.18027690700104496,0.022222222222222216,-0.030092592592592598,0.4611111111111111,0.0767361111111111,0.029761904761904767,0.237037037037037,-0.06833333333333333,0.20666666666666664,0.1333333333333333,0.09791666666666664,0.049721170033670055,0.1464775304061018,0.0054012345679012325,0.29523809523809524,0.2354166666666667,0.2318837018837019,0.10311004784688994,0.27666666666666667,0.11220387548958977,0.06754385964912281,0.08661616161616159,0.5083333333333333,0.3354367201426025,0.14,0.09858934169278996,0.19807692307692307,0.07073002754820937,0.16093073593073592,0.08571428571428572,0.3384615384615385,0.02166666666666666,0.2003030303030303,0.24,0.2393939393939394,0.4766233766233766,0.025000000000000005,0.1946380178087495,-0.02291666666666667,0.29047619047619044,0.0758116883116883,0.27777777777777773,0.0736111111111111,0.058643671143671146,0.425,0.08333333333333333,0.1168433099467582,0.2811111111111111,0.13522727272727272,0.10266955266955267,-0.0013731060606060573,0.035521885521885524,0.20643939393939395,0.06233766233766236,0.2857142857142857,0.03047438672438672,0.12272727272727271,0.1071212121212121,0.17282828282828286,0.2628288378288378,0.09363636363636363,0.06727272727272726,-0.06801948051948052,-0.03333333333333333,0.10407925407925409,-0.05000000000000001,0.16587301587301587,0.1305059523809524,-0.4,0.25179063360881543,0.014743589743589738,0.17314814814814816,0.13855820105820105,0.25083333333333335,0.2599358974358974,0.021933621933621923,0.22142857142857145,0.2,0.10643939393939394,0.055882352941176466,0.35714285714285715,0.17777777777777776,0.0051557239057239,0.1925925925925926,0.047619047619047616,0.053333333333333344,0.32814992025518336,0.2,0.0,0.25311004784688995,0.22706007442849546,0.14950964673186895,0.14305555555555555,0.13896103896103898,0.14047619047619048,0.11873278236914597,-0.07550925925925928,0.21296296296296297,-0.08333333333333333,0.275,0.27777777777777773,0.2153846153846154,0.17142857142857143,0.11449829931972791,-0.05357142857142857,0.38241758241758245,-0.05388257575757577,-0.17936507936507937,0.19557178932178929,0.1668470418470418,-0.09299242424242424,0.08181818181818182,0.1539772727272727,-0.06666666666666667,0.005714285714285705,0.0625,0.09256065115440108,0.06079059829059828,0.13636363636363635,0.04821428571428571,0.022448979591836733,0.07685185185185185,0.027272727272727282,-0.0001623376623376733,0.11212121212121212,0.2340909090909091,0.22645454545454544,-0.1,-0.026888888888888893,-0.028368096549914745,-0.05120490620490622,0.051296897546897535,0.03224348750664539,0.15949389364023508,0.29901960784313725,-0.034999999999999996,0.32592592592592595,0.36666666666666664,0.401010101010101,0.11805555555555557,0.15949389364023508,0.16844636844636843,0.06742424242424241,-0.08461081402257874,0.11981481481481483,0.046753246753246734,0.13796791443850265,-0.022222222222222216,0.09480808080808081,0.13138528138528138,0.5,0.2366666666666667,0.09969179371353284,0.1651515151515152,0.17857142857142858,-0.01215686274509804,0.05899122807017545,0.25,0.16666666666666666,0.11136363636363637,0.2261844636844637,-0.016012396694214878,0.09015151515151515,0.07142857142857141,0.0976010101010101,0.23236111111111113,0.10833333333333334,0.02425189393939394,0.19284783317041385,-0.021969696969696983,0.030357142857142853,0.2616666666666666,0.06037720959595961,0.1215151515151515,0.0012310606060606036,-0.05693121693121694,0.13585858585858587,0.17039627039627042,0.2,0.22835381464413718,0.061089743589743575,0.05714285714285715,0.11750000000000001,-0.0029720279720279732,0.23645833333333335,-0.1,0.15938888888888889,0.1787878787878788,0.04545454545454545,-0.075,-0.01392045454545455,0.11190476190476191,0.1661450332821301,-0.11287878787878788,0.21363636363636365,0.029089506172839508,0.18938492063492057,0.4402597402597402,0.022430555555555558,-0.014393939393939391,0.19762205387205392,0.09196428571428572,-0.03058608058608058,0.04971590909090909,0.06325757575757575,0.08605263157894738,-0.10833333333333334,0.08905723905723903,0.24819047619047616,0.009523809523809518,0.0923076923076923,0.0010416666666666675,0.0,0.03333333333333333,0.050431034482758624,0.1125911625911626,-0.010000000000000004,0.04210526315789473,-0.15555555555555556,0.10574866310160429,0.15363756613756616,0.25668498168498166,0.1658116883116883,0.12610891523935,0.12592667748917746,0.12592667748917746,0.06948051948051949,-0.09999999999999999,0.08,0.05500000000000001,0.022727272727272707,-0.012499999999999997,0.10000000000000002,0.08013468013468013,0.10396825396825396,0.04973544973544975,0.23879870129870132,0.006654555761698609,0.06666666666666667,0.1378787878787879,0.1484375,0.07959183673469387,0.14155844155844152,0.20357142857142857,0.16875,-0.036217948717948714,0.2169421487603306,-0.15833333333333335,0.1818181818181818,0.2545454545454545,0.05920815295815296,0.18442982456140353,0.002678571428571426,0.0037878787878787845,0.009090909090909073,0.0,-0.025,0.254029304029304,0.3,0.06525974025974025,0.14285714285714285,0.004464285714285709,-0.0234848484848485,0.2165708812260536,-0.08499999999999999,0.20788530465949823,0.06284722222222221,0.1088235294117647,0.27166666666666667,0.04791666666666666,0.08912337662337662,-0.008333333333333338,0.187037037037037,0.0,0.03740530303030303,0.055096418732782364,0.1389572811447812,0.12692307692307694,0.29545454545454547,0.050668449197860954,0.21500000000000002,0.14845679012345678,0.15425238782381642,-0.027972027972027972,0.07674242424242424,-0.15,0.15631313131313132,0.06589474288337924,0.06888888888888892,0.06818181818181818,-0.09444444444444448,-0.0912878787878788,0.08,0.08522727272727272,0.19999999999999998,0.0859375,0.29375,0.035357142857142865,0.08199630230880231,0.06777597402597402,0.23869949494949494,-0.11333333333333336,0.33800505050505053,-0.0019480519480519448,0.04,0.052636946386946395,0.11974789915966386,0.00588235294117647,0.18125,0.18434065934065932,-0.07567640692640694,0.08057851239669421,0.07481060606060605,0.03164908008658008,0.07333333333333332,0.12284798534798534,-0.125,0.075,0.05625,0.17236842105263156,0.10943877551020409,-0.4,0.028526785714285713,0.05,0.1619598765432099,0.21000000000000002,0.021338383838383834,0.09766899766899766,-0.055,0.08349673202614379,-0.023636363636363622,0.15178571428571427,0.13472222222222222,0.17678787878787877,0.30625,0.29365079365079366,0.1339876033057851,0.14279715762273898,0.032336182336182344,0.07929292929292929,0.059396935456257516,0.04518930523028884,0.12317073170731709,-0.03035714285714286,-0.26,0.10416666666666667,0.12015550239234449,-0.3,0.016666666666666666,-0.13541666666666666,-0.14837962962962964,-0.08214285714285711,0.255,0.1534172077922078,0.13321383477633475,0.35974025974025975,0.3716450216450216,0.09999999999999999,0.0375,0.125,0.01716073781291173,0.05612244897959184,0.12695769382133015,0.1578125,0.02500000000000001,0.15,0.08888888888888889,0.15138888888888888,0.1794821530670587,0.07571022727272725,0.00833333333333336,0.1675133689839572,-0.05735294117647059,-0.010555555555555554,0.04703222703222702,0.16140395552160258,0.14,0.10999999999999999,0.09452214452214452,0.07809634809634809,0.031107954545454543,0.07733886483886482,0.030973266499582295,0.1354700854700855,0.014062500000000002,0.032291666666666684,0.12936507936507938,0.3116898148148148,0.09523809523809522,0.01342592592592594,0.16161816578483243,0.11296296296296299,0.30683497536945803,0.09615800865800865,0.0625,0.21688311688311687,-0.1262373737373737,0.0644230769230769,0.12,-0.04036596119929454,0.14858341063698205,0.0647058823529412,0.056714876033057846,0.003888888888888886,0.18363636363636363,0.20764790764790764,0.0062500000000000056,0.026711560044893376,0.03983766233766234,-0.019246031746031747,0.1250431331953071,0.09090909090909091,-0.05193452380952381,0.14063852813852812,0.09104030501089325,0.11634615384615382,0.13249031670084302,0.11875000000000001,0.1766304347826087,-0.06250000000000001,0.1448809523809524,0.18636363636363634,0.30315656565656557,0.1925,0.07058823529411765,0.11083052749719416,-0.05416666666666668,0.054007936507936505,0.16715686274509806,0.2774621212121212,0.175,0.16818181818181818,0.14606080647747313,0.07061688311688313,0.11904761904761904,0.03883647798742142,0.16976346093993153,0.18461954711954712,0.26597681071365287,0.2223863636363636,0.19560606060606064,-0.010897435897435906,0.20779834822388013,0.14999999999999997,0.12190476190476189,0.04179292929292928,0.14512085137085137,-0.06666666666666665,0.09976851851851853,0.12949016563146998,0.04120879120879121,0.14708592132505177,0.26491262802238413,0.11878306878306871,0.16666666666666666,0.025462962962962955,0.0888235294117647,0.1288783482142857,0.12222222222222226,0.08466209716209715,0.07164224664224667,0.36941964285714285,0.12943067033976122,0.14824675324675327,0.16232142857142856,0.21437656641604003,0.07845238095238094,0.12157894736842104,0.1012820512820513,0.07702020202020204,0.27954545454545454,0.0260233918128655,0.05277777777777778,0.06271960678210678,0.17785475394171044,0.011538461538461544,0.11094004561746501,0.13983333333333334,0.13738038277511963,0.0336038961038961,0.08937500000000001,0.10293475293475293,0.08882020757020759,0.12479423868312757,0.20517676767676765,0.07302188552188552,0.19799887612387612,-0.006249999999999999,0.18247186147186148,0.0415719696969697,0.0666614906832298,0.017006802721088433,0.13890692640692642,0.20384615384615384,0.28870129870129874,0.07610192837465565,-0.022576530612244898,0.07257936507936506,0.10185185185185187,0.09785353535353535,0.2753787878787879,0.0659035409035409,0.11197808833678399,0.29270833333333335,-0.03863636363636364,0.0,0.09513314967860423,0.16079545454545455,0.05461309523809523,0.18541666666666667,0.0886904761904762,0.23229166666666667,0.06744417862838917,0.010092592592592592,0.16064814814814815,0.0,0.13771497441951985,0.009786694786694783,0.0,0.09047619047619047,0.1285714285714286,-0.10592592592592594,0.057426112981668526,0.13043478260869568,0.16666666666666666,0.23916666666666667,0.14379220779220778,0.3583333333333334,0.08666666666666666,0.031203007518797,0.1890625,0.20000000000000004,-0.02207602339181287,0.16875,0.07244174265450862,0.02261503928170593,-0.01648516414141414,0.03215277777777777,0.16915584415584414,-0.03636363636363637,0.15378787878787878,0.20964285714285716,0.07464646464646464,0.11916208791208792,0.10823863636363636,0.13875868055555557,0.052628968253968254,0.1706989247311828,0.321978021978022,0.19166666666666668,-0.011006289308176103,0.008333333333333331,-0.041666666666666664,0.05928030303030304,0.0915322580645161,0.10094696969696969,0.007666666666666658,-0.14390589569161,0.017045454545454544,0.21568965517241379,0.22395833333333334,0.08892045454545452,0.17777777777777778,0.11270408163265304,-0.07708333333333332,0.0,0.23500000000000001,0.19789238539238538,0.07007246376811593,0.07381818181818182,0.011136363636363633,0.18795454545454546,0.08426543209876544,0.1560666666666667,0.02953216374269005,0.06797385620915032,0.05873015873015873,-0.022692307692307703,-0.02480158730158731,0.08342109279609278,0.35000000000000003,0.11730769230769231,0.030416666666666665,0.19583333333333333,0.2625,0.17456538170823888,0.18116883116883117,0.090625,0.2538989898989899,-0.08828124999999999,0.11241153026867308,-0.05714285714285714,0.027149170274170263,0.16296296296296298,0.16706152433425162,-0.03969298245614036,-0.0031597222222222235,0.12488095238095238,0.34838709677419355,0.18333333333333335,0.07102272727272727,0.08237599206349207,0.11730769230769231,0.10026041666666667,0.045238095238095244,0.28,0.12356060606060605,0.125,0.22144603934077617,-0.017708333333333347,0.0801796157059315,0.163895202020202,-0.12916666666666665,0.12083333333333333,0.043939393939393945,-0.11,0.1,0.13246031746031747,0.16018518518518518,0.07978946208112875,0.18333333333333335,0.23398437500000002,0.09107709750566893,0.17142857142857143,0.12582972582972582,-0.0125,0.1884297520661157,0.04895572263993317,0.053921568627450976,0.0259090909090909,0.07553418803418803,0.032499999999999994,0.16428571428571428,0.11381406659184437,0.21473727422003286,0.002777777777777778,0.11961966604823746,0.2790674603174603,0.13371212121212123,0.06696428571428571,0.17333333333333334,0.18911809121111448,0.18972431077694238,0.060551948051948044,0.035606060606060606,0.21394543894543896,-0.0012012012012011849,0.1111111111111111,0.09125874125874127,0.19040404040404044,0.4,0.12462606837606836,0.10238095238095239,0.11099537037037036,0.1122077922077922,0.22812499999999994,0.3166666666666667,0.14810606060606057,0.20568181818181813,0.11865800865800864,0.16597222222222222,-0.029873136123136117,0.1991228070175438,0.04470899470899471,0.10868863049095606,0.10167483660130719,0.021578947368421055,0.1724647266313933,0.015303030303030301,0.028246753246753246,0.21526854928017716,0.007120720188902015,0.10997138047138047,0.8,0.19999999999999998,0.3875,0.044891138273491206,0.15474598930481287,0.18005050505050504,0.145,0.1087154614932393,0.3772727272727273,0.20501958359101216,0.113728354978355,0.00802139037433155,0.08821022727272729,0.4138888888888889,0.10357142857142856,0.4318181818181817,0.08970959595959598,0.1684651817716334,0.0901094276094276,0.0851686507936508,0.325,0.02499518999518999,0.06190476190476191,0.10209293394777268,-0.007702020202020202,0.02713450292397661,0.07487373737373737,0.13830266955266957,0.046267361111111106,0.8,0.07500000000000001,0.4714285714285715,0.1275462962962963,0.09472140762463344,0.09090909090909091,0.22083333333333335,0.06132756132756132,0.08188405797101449,0.01488095238095238,0.0005952380952380905,0.09821428571428571,0.061834235209235214,0.1375,0.15500000000000003,-0.10447860962566845,0.08702651515151515,0.08524720893141947,0.125,0.09120370370370373,0.049940191387559806,0.12678035178035174,0.03472222222222222,0.16881665082884595,0.12626262626262624,0.1073051948051948,0.019742063492063488,0.07685185185185187,0.08068783068783068,0.0,0.0,0.4916666666666667,0.0033333333333333344,0.27464646464646464,0.20422427035330262,0.07833964646464646,0.057124183006535934,0.020833333333333336,0.009532828282828282,0.018749999999999996,0.15714285714285717,0.11441798941798942,0.20125,0.13335253456221194,0.10075757575757575,0.24203703703703702,0.13809782608695653,0.06985294117647059,0.14704134366925065,0.1345943562610229,0.14375,0.10643939393939393,0.045454545454545456,0.0,0.3,0.09598135550516501,-0.014898989898989898,0.0010601141282959505,0.06874999999999999,0.4,0.08715277777777777,0.13518518518518519,0.007851239669421488,0.45,0.275,0.1327777777777778,0.06428571428571428,0.0971590909090909,0.27228650137741045,0.27760416666666665,-0.02714646464646465,0.06955128205128205,0.1500793650793651,0.24269480519480519,0.030303030303030307,0.08333333333333333,0.09739304812834222,0.057638888888888906,0.3085714285714286,0.20680849500293946,-0.18214285714285713,0.07314814814814814,-0.0011111111111110998,0.1476388888888889,0.2649621212121212,0.0625,0.20065789473684212,0.28623188405797106,0.22305194805194808,0.14431818181818182,0.0939484126984127,0.1875,0.05833333333333334,0.37321746880570406,0.02407407407407408,0.10416666666666667,0.0477272727272727,0.15179758107389688,0.07723214285714286,0.017561983471074374,0.01944444444444444,0.35333333333333333,-0.13819444444444445,0.04071146245059287,0.17227564102564102,0.040625,0.16041666666666668,0.11848898650369237,0.0945048309178744,0.10537344599844602,0.15535353535353535,0.1345182595182595,0.04010416666666666,0.18596413874191653,0.22700267985982256,0.3067196969696969,0.14277023481568935,0.136396978442433,0.14079228579228578,0.17561649659863945,0.2708333333333333,0.2148056653491436,0.25,0.24900793650793648,0.11005291005291007,0.11016349721706864,0.1390625,0.4145021645021645,0.3123015873015873,0.1947860962566845,0.023333333333333324,0.1951923076923077,0.007575757575757577,0.4666666666666666,0.2671739718614719,0.0038888888888888844,0.1201923076923077,-0.002102272727272727,0.14028925619834712,0.20431235431235434,0.20918822779287896,0.16033549783549783,0.06701587301587301,0.0870920745920746,0.13478260869565217,-0.028787878787878786,0.009523809523809523,0.0803030303030303,0.05555555555555555,0.08859180035650624,-0.012522461814914647,0.08055555555555555,0.11428571428571428,0.20564814814814814,0.16409632034632038,0.15760869565217392,0.24843749999999998,0.257051282051282,0.4375,0.1193452380952381,0.12589285714285717,0.045259890572390576,0.09491792929292929,0.047135416666666666,0.2803030303030303,0.009259259259259252,0.12166666666666666,0.1902236652236652,0.05944055944055944,0.26331168831168833,0.003968253968253962,0.16220238095238096,0.18333333333333332,0.12566137566137567,0.1406832298136646,0.21304659498207887,0.19907407407407407,-0.01305194805194806,0.27138447971781304,0.2676470588235294,0.11863636363636365,0.0004166666666666652,0.19620379620379622,0.014393939393939384,0.01863636363636365,0.14305555555555557,0.13,0.06118421052631577,0.1,-0.0580009276437848,0.1,0.2761904761904762,0.16035353535353536,0.08070218312153796,0.14676339285714288,0.049342105263157895,0.24800000000000005,0.045370370370370366,-0.030952380952380953,0.027676767676767664,0.06344444444444446,0.06312345062345062,0.16249999999999998,0.16049302549302544,0.012499999999999997,0.1177295918367347,0.07936507936507937,0.07150205761316873,0.015909090909090907,-0.004393939393939389,0.02000000000000001,0.5866666666666668,0.10557851239669423,-0.03886363636363634,0.2487938596491228,0.1626984126984127,0.060119047619047634,0.0869498556998557,0.054713804713804715,0.24280303030303027,0.0512987012987013,0.06423330527497194,0.1216108966108966,-0.04780132148553201,-0.021964285714285717,0.11084856501523167,0.09415584415584415,0.036574074074074064,0.12139917695473251,0.07909356725146198,0.03801652892561983,-6.938893903907228e-18,0.1111111111111111,0.14379509379509378,0.17095959595959598,0.11675627240143369,0.04187479187479188,0.05124242424242427,0.08368930905695614,0.21666666666666667,0.1791666666666667,-0.011111111111111122,0.22557870370370373,0.07363636363636364,0.09157046657046655,0.2480769230769231,0.12640692640692638,0.024206349206349207,0.365231259968102,0.0,0.18999999999999997,0.14522814350400556,0.25,0.03665223665223664,0.16196581196581197,0.17403381642512078,0.11875000000000001,0.09444444444444444,0.2904761904761905,0.07824074074074074,0.07034313725490196,0.04230769230769231,0.3,0.21362433862433863,0.04875,0.1980769230769231,0.06534090909090909,0.13348765432098764,0.06831550802139037,0.07698863636363637,-0.08125000000000002,0.11805555555555555,0.21785714285714283,0.02297979797979798,-0.04907296650717703,0.10833333333333334,0.095,0.30000000000000004,0.13839285714285715,0.0,0.13596681096681099,0.17563025210084035,0.10827505827505829,0.1661863533292105,-0.03848998223998226,0.09705086580086582,0.16153291153291155,-0.06222222222222222,0.1375,0.06402356902356901,0.25238095238095243,0.010179380006966216,0.012733585858585856,0.0,-0.12484848484848486,0.0,0.2375,0.03152597402597403,0.032179487179487175,0.077375,-0.1580753968253968,0.1683673469387755,-0.28201754385964917,-0.04813271604938271,0.0,-0.06590909090909092,-0.07816558441558442,-0.07236507936507937,0.24421487603305786,0.0856060606060606,0.17925324675324678,0.08183333333333334,0.11992424242424242,-0.02231884057971014,-0.146875,0.08333333333333333,0.14256198347107438,0.03419566544566544,0.04545454545454545,0.1879251700680272,0.025395256916996043,-0.03333333333333333,0.13279166666666667,0.10876623376623376,0.03628458498023715,0.05333333333333332,0.05333333333333332,0.13414063414063415,-0.04165852069077878,0.10147342995169081,0.038035714285714284,0.0,0.16751336898395724,-0.09732683982683983,0.0,0.0722222222222222,0.17281543109668104,-0.037697653223969015,0.1478,0.06624885215794306,0.09092312008978676,0.14600793650793653,0.10309305997985242,0.20500000000000002,0.10767045454545454,0.2357004830917874,0.018750000000000003,0.017841880341880348,0.09000000000000001,0.291045066045066,0.013888888888888881,0.15738636363636366,0.16000000000000003,0.29779353299761463,0.15202020202020206,-0.02066666666666666,-0.09655555555555555,0.22551136363636365,-0.023474025974025987,0.05641414141414139,-0.04922839506172837,0.3267857142857143,0.06116522366522365,0.1002851091560769,0.0772058823529412,0.0,0.04298921417565486,0.10765151515151516,0.07765151515151514,0.07374956124956125,-0.001245210727969348,0.0018696820420958334,0.11387987012987012,0.12236024844720497,0.006071428571428569,0.16474870657797483,0.04545454545454545,0.04537037037037037,0.09252604166666667,0.11570247933884295,0.17353488805101713,-0.16201923076923075,0.05845170454545453,0.0882996632996633,0.0578030303030303,0.0,-0.125,0.10416666666666667,-0.019949675324675332,0.0568742985409652,-0.04631944444444444,0.0,0.2612794612794613,0.09883040935672516,0.15923295454545455,-0.10248015873015873,-0.06545138888888889,0.1894736842105263,0.07843204775022956,0.27749999999999997,-0.10257034632034631,-0.004166666666666666,0.15109621561234465,0.14910192486085344,0.03480329611908559,0.033838383838383834,0.14504385964912284,-0.0625,0.031222222222222224,-0.049673913043478256,0.0,-0.0625,-0.011363636363636364,0.08213203463203465,0.006509539842873172,0.23341991341991342,0.039117063492063495,-0.2728632478632479,0.1760822510822511,-0.017414529914529915,0.11666666666666667,0.08219696969696969,0.11499999999999998,-0.2074074074074074,0.07196969696969698,0.115625,0.1142857142857143,0.19444444444444445,0.03133333333333333,0.09632121212121211,0.05980306895485465,-0.004999999999999999,0.20892857142857144,0.37467532467532466,0.07757073844030365,-0.05357142857142857,0.18430397727272727,-0.027884615384615393,-0.14960317460317465,-0.19999999999999998,0.04269133644133644,0.20277777777777775,0.044642857142857144,0.021875000000000002,0.04962121212121212,-0.06272727272727273,-0.06761363636363638,-0.30833333333333335,0.11964285714285712,0.077,0.057407407407407414,0.16666666666666669,0.03683542744518354,0.088997113997114,-0.021380471380471375,0.05,0.050148809523809526,0.21700680272108847,0.08,0.022822321711210597,0.10113636363636362,0.14181313131313134,0.055500000000000015,0.0886248852157943,0.03409090909090909,0.02961647727272727,-0.007954545454545464,-0.08333333333333333,0.017637310606060608,0.015530303030303024,0.14912280701754385,0.1300619834710744,0.5,0.06882716049382717,0.08069938515590688,0.08057851239669422,0.26,0.07261904761904762,0.14327601410934743,0.23363636363636364,-0.016205101205101203,0.023000000000000013,0.11363636363636363,-0.0008357383357383431,0.1084659090909091,0.16006493506493508,0.03000000000000001,0.11457010582010582,0.09655303030303031,0.09615384615384616,0.1525892857142857,0.09738636363636363,0.08947230929989551,0.034848484848484844,-0.06216329966329967,-0.027272727272727275,0.08934691745036571,-0.07297979797979799,0.07158465117648792,-0.07777777777777778,0.11371527777777779,-0.005555555555555554,0.04420677361853833,0.31212121212121213,0.07510489510489511,0.1268595041322314,0.19166666666666665,-0.02748677248677249,0.08125,0.15949197860962566,0.05527777777777779,0.2625,-0.15241477272727272,0.09512154512154512,0.3,0.25,0.45,-0.08354377104377102,0.0714733542319749,0.19561639118457297,0.13618326118326118,0.09176587301587301,0.11694214876033056,0.17227777777777778,-0.20751262626262623,0.2234848484848485,-0.06289682539682541,0.09191919191919194,0.04835858585858587,0.1595959595959596,0.002135145556198192,-0.0021324354657688014,0.17370766488413547,0.038157894736842106,-0.028000000000000008,-0.1938888888888889,0.0714733542319749,0.19561639118457297,0.13618326118326118,0.09176587301587301,0.11694214876033056,0.17227777777777778,-0.20751262626262623,0.2234848484848485,-0.06289682539682541,0.09191919191919194,0.04835858585858587,0.1595959595959596,0.002135145556198192,-0.0021324354657688014,0.17370766488413547,0.038157894736842106,-0.028000000000000008,-0.1938888888888889,0.11084956709956709,0.3263419913419914],\"yaxis\":\"y\",\"type\":\"scatter\"}],                        {\"template\":{\"data\":{\"bar\":[{\"error_x\":{\"color\":\"#2a3f5f\"},\"error_y\":{\"color\":\"#2a3f5f\"},\"marker\":{\"line\":{\"color\":\"#E5ECF6\",\"width\":0.5},\"pattern\":{\"fillmode\":\"overlay\",\"size\":10,\"solidity\":0.2}},\"type\":\"bar\"}],\"barpolar\":[{\"marker\":{\"line\":{\"color\":\"#E5ECF6\",\"width\":0.5},\"pattern\":{\"fillmode\":\"overlay\",\"size\":10,\"solidity\":0.2}},\"type\":\"barpolar\"}],\"carpet\":[{\"aaxis\":{\"endlinecolor\":\"#2a3f5f\",\"gridcolor\":\"white\",\"linecolor\":\"white\",\"minorgridcolor\":\"white\",\"startlinecolor\":\"#2a3f5f\"},\"baxis\":{\"endlinecolor\":\"#2a3f5f\",\"gridcolor\":\"white\",\"linecolor\":\"white\",\"minorgridcolor\":\"white\",\"startlinecolor\":\"#2a3f5f\"},\"type\":\"carpet\"}],\"choropleth\":[{\"colorbar\":{\"outlinewidth\":0,\"ticks\":\"\"},\"type\":\"choropleth\"}],\"contour\":[{\"colorbar\":{\"outlinewidth\":0,\"ticks\":\"\"},\"colorscale\":[[0.0,\"#0d0887\"],[0.1111111111111111,\"#46039f\"],[0.2222222222222222,\"#7201a8\"],[0.3333333333333333,\"#9c179e\"],[0.4444444444444444,\"#bd3786\"],[0.5555555555555556,\"#d8576b\"],[0.6666666666666666,\"#ed7953\"],[0.7777777777777778,\"#fb9f3a\"],[0.8888888888888888,\"#fdca26\"],[1.0,\"#f0f921\"]],\"type\":\"contour\"}],\"contourcarpet\":[{\"colorbar\":{\"outlinewidth\":0,\"ticks\":\"\"},\"type\":\"contourcarpet\"}],\"heatmap\":[{\"colorbar\":{\"outlinewidth\":0,\"ticks\":\"\"},\"colorscale\":[[0.0,\"#0d0887\"],[0.1111111111111111,\"#46039f\"],[0.2222222222222222,\"#7201a8\"],[0.3333333333333333,\"#9c179e\"],[0.4444444444444444,\"#bd3786\"],[0.5555555555555556,\"#d8576b\"],[0.6666666666666666,\"#ed7953\"],[0.7777777777777778,\"#fb9f3a\"],[0.8888888888888888,\"#fdca26\"],[1.0,\"#f0f921\"]],\"type\":\"heatmap\"}],\"heatmapgl\":[{\"colorbar\":{\"outlinewidth\":0,\"ticks\":\"\"},\"colorscale\":[[0.0,\"#0d0887\"],[0.1111111111111111,\"#46039f\"],[0.2222222222222222,\"#7201a8\"],[0.3333333333333333,\"#9c179e\"],[0.4444444444444444,\"#bd3786\"],[0.5555555555555556,\"#d8576b\"],[0.6666666666666666,\"#ed7953\"],[0.7777777777777778,\"#fb9f3a\"],[0.8888888888888888,\"#fdca26\"],[1.0,\"#f0f921\"]],\"type\":\"heatmapgl\"}],\"histogram\":[{\"marker\":{\"pattern\":{\"fillmode\":\"overlay\",\"size\":10,\"solidity\":0.2}},\"type\":\"histogram\"}],\"histogram2d\":[{\"colorbar\":{\"outlinewidth\":0,\"ticks\":\"\"},\"colorscale\":[[0.0,\"#0d0887\"],[0.1111111111111111,\"#46039f\"],[0.2222222222222222,\"#7201a8\"],[0.3333333333333333,\"#9c179e\"],[0.4444444444444444,\"#bd3786\"],[0.5555555555555556,\"#d8576b\"],[0.6666666666666666,\"#ed7953\"],[0.7777777777777778,\"#fb9f3a\"],[0.8888888888888888,\"#fdca26\"],[1.0,\"#f0f921\"]],\"type\":\"histogram2d\"}],\"histogram2dcontour\":[{\"colorbar\":{\"outlinewidth\":0,\"ticks\":\"\"},\"colorscale\":[[0.0,\"#0d0887\"],[0.1111111111111111,\"#46039f\"],[0.2222222222222222,\"#7201a8\"],[0.3333333333333333,\"#9c179e\"],[0.4444444444444444,\"#bd3786\"],[0.5555555555555556,\"#d8576b\"],[0.6666666666666666,\"#ed7953\"],[0.7777777777777778,\"#fb9f3a\"],[0.8888888888888888,\"#fdca26\"],[1.0,\"#f0f921\"]],\"type\":\"histogram2dcontour\"}],\"mesh3d\":[{\"colorbar\":{\"outlinewidth\":0,\"ticks\":\"\"},\"type\":\"mesh3d\"}],\"parcoords\":[{\"line\":{\"colorbar\":{\"outlinewidth\":0,\"ticks\":\"\"}},\"type\":\"parcoords\"}],\"pie\":[{\"automargin\":true,\"type\":\"pie\"}],\"scatter\":[{\"marker\":{\"colorbar\":{\"outlinewidth\":0,\"ticks\":\"\"}},\"type\":\"scatter\"}],\"scatter3d\":[{\"line\":{\"colorbar\":{\"outlinewidth\":0,\"ticks\":\"\"}},\"marker\":{\"colorbar\":{\"outlinewidth\":0,\"ticks\":\"\"}},\"type\":\"scatter3d\"}],\"scattercarpet\":[{\"marker\":{\"colorbar\":{\"outlinewidth\":0,\"ticks\":\"\"}},\"type\":\"scattercarpet\"}],\"scattergeo\":[{\"marker\":{\"colorbar\":{\"outlinewidth\":0,\"ticks\":\"\"}},\"type\":\"scattergeo\"}],\"scattergl\":[{\"marker\":{\"colorbar\":{\"outlinewidth\":0,\"ticks\":\"\"}},\"type\":\"scattergl\"}],\"scattermapbox\":[{\"marker\":{\"colorbar\":{\"outlinewidth\":0,\"ticks\":\"\"}},\"type\":\"scattermapbox\"}],\"scatterpolar\":[{\"marker\":{\"colorbar\":{\"outlinewidth\":0,\"ticks\":\"\"}},\"type\":\"scatterpolar\"}],\"scatterpolargl\":[{\"marker\":{\"colorbar\":{\"outlinewidth\":0,\"ticks\":\"\"}},\"type\":\"scatterpolargl\"}],\"scatterternary\":[{\"marker\":{\"colorbar\":{\"outlinewidth\":0,\"ticks\":\"\"}},\"type\":\"scatterternary\"}],\"surface\":[{\"colorbar\":{\"outlinewidth\":0,\"ticks\":\"\"},\"colorscale\":[[0.0,\"#0d0887\"],[0.1111111111111111,\"#46039f\"],[0.2222222222222222,\"#7201a8\"],[0.3333333333333333,\"#9c179e\"],[0.4444444444444444,\"#bd3786\"],[0.5555555555555556,\"#d8576b\"],[0.6666666666666666,\"#ed7953\"],[0.7777777777777778,\"#fb9f3a\"],[0.8888888888888888,\"#fdca26\"],[1.0,\"#f0f921\"]],\"type\":\"surface\"}],\"table\":[{\"cells\":{\"fill\":{\"color\":\"#EBF0F8\"},\"line\":{\"color\":\"white\"}},\"header\":{\"fill\":{\"color\":\"#C8D4E3\"},\"line\":{\"color\":\"white\"}},\"type\":\"table\"}]},\"layout\":{\"annotationdefaults\":{\"arrowcolor\":\"#2a3f5f\",\"arrowhead\":0,\"arrowwidth\":1},\"autotypenumbers\":\"strict\",\"coloraxis\":{\"colorbar\":{\"outlinewidth\":0,\"ticks\":\"\"}},\"colorscale\":{\"diverging\":[[0,\"#8e0152\"],[0.1,\"#c51b7d\"],[0.2,\"#de77ae\"],[0.3,\"#f1b6da\"],[0.4,\"#fde0ef\"],[0.5,\"#f7f7f7\"],[0.6,\"#e6f5d0\"],[0.7,\"#b8e186\"],[0.8,\"#7fbc41\"],[0.9,\"#4d9221\"],[1,\"#276419\"]],\"sequential\":[[0.0,\"#0d0887\"],[0.1111111111111111,\"#46039f\"],[0.2222222222222222,\"#7201a8\"],[0.3333333333333333,\"#9c179e\"],[0.4444444444444444,\"#bd3786\"],[0.5555555555555556,\"#d8576b\"],[0.6666666666666666,\"#ed7953\"],[0.7777777777777778,\"#fb9f3a\"],[0.8888888888888888,\"#fdca26\"],[1.0,\"#f0f921\"]],\"sequentialminus\":[[0.0,\"#0d0887\"],[0.1111111111111111,\"#46039f\"],[0.2222222222222222,\"#7201a8\"],[0.3333333333333333,\"#9c179e\"],[0.4444444444444444,\"#bd3786\"],[0.5555555555555556,\"#d8576b\"],[0.6666666666666666,\"#ed7953\"],[0.7777777777777778,\"#fb9f3a\"],[0.8888888888888888,\"#fdca26\"],[1.0,\"#f0f921\"]]},\"colorway\":[\"#636efa\",\"#EF553B\",\"#00cc96\",\"#ab63fa\",\"#FFA15A\",\"#19d3f3\",\"#FF6692\",\"#B6E880\",\"#FF97FF\",\"#FECB52\"],\"font\":{\"color\":\"#2a3f5f\"},\"geo\":{\"bgcolor\":\"white\",\"lakecolor\":\"white\",\"landcolor\":\"#E5ECF6\",\"showlakes\":true,\"showland\":true,\"subunitcolor\":\"white\"},\"hoverlabel\":{\"align\":\"left\"},\"hovermode\":\"closest\",\"mapbox\":{\"style\":\"light\"},\"paper_bgcolor\":\"white\",\"plot_bgcolor\":\"#E5ECF6\",\"polar\":{\"angularaxis\":{\"gridcolor\":\"white\",\"linecolor\":\"white\",\"ticks\":\"\"},\"bgcolor\":\"#E5ECF6\",\"radialaxis\":{\"gridcolor\":\"white\",\"linecolor\":\"white\",\"ticks\":\"\"}},\"scene\":{\"xaxis\":{\"backgroundcolor\":\"#E5ECF6\",\"gridcolor\":\"white\",\"gridwidth\":2,\"linecolor\":\"white\",\"showbackground\":true,\"ticks\":\"\",\"zerolinecolor\":\"white\"},\"yaxis\":{\"backgroundcolor\":\"#E5ECF6\",\"gridcolor\":\"white\",\"gridwidth\":2,\"linecolor\":\"white\",\"showbackground\":true,\"ticks\":\"\",\"zerolinecolor\":\"white\"},\"zaxis\":{\"backgroundcolor\":\"#E5ECF6\",\"gridcolor\":\"white\",\"gridwidth\":2,\"linecolor\":\"white\",\"showbackground\":true,\"ticks\":\"\",\"zerolinecolor\":\"white\"}},\"shapedefaults\":{\"line\":{\"color\":\"#2a3f5f\"}},\"ternary\":{\"aaxis\":{\"gridcolor\":\"white\",\"linecolor\":\"white\",\"ticks\":\"\"},\"baxis\":{\"gridcolor\":\"white\",\"linecolor\":\"white\",\"ticks\":\"\"},\"bgcolor\":\"#E5ECF6\",\"caxis\":{\"gridcolor\":\"white\",\"linecolor\":\"white\",\"ticks\":\"\"}},\"title\":{\"x\":0.05},\"xaxis\":{\"automargin\":true,\"gridcolor\":\"white\",\"linecolor\":\"white\",\"ticks\":\"\",\"title\":{\"standoff\":15},\"zerolinecolor\":\"white\",\"zerolinewidth\":2},\"yaxis\":{\"automargin\":true,\"gridcolor\":\"white\",\"linecolor\":\"white\",\"ticks\":\"\",\"title\":{\"standoff\":15},\"zerolinecolor\":\"white\",\"zerolinewidth\":2}}},\"xaxis\":{\"anchor\":\"y\",\"domain\":[0.0,1.0],\"title\":{\"text\":\"Date\"}},\"yaxis\":{\"anchor\":\"x\",\"domain\":[0.0,1.0],\"title\":{\"text\":\"senti_polarity\"}},\"legend\":{\"tracegroupgap\":0},\"title\":{\"text\":\"Negative/Positive News vs Dates\"}},                        {\"responsive\": true}                    ).then(function(){\n",
              "                            \n",
              "var gd = document.getElementById('511fa631-24ad-42dd-9a77-35ab289d61ca');\n",
              "var x = new MutationObserver(function (mutations, observer) {{\n",
              "        var display = window.getComputedStyle(gd).display;\n",
              "        if (!display || display === 'none') {{\n",
              "            console.log([gd, 'removed!']);\n",
              "            Plotly.purge(gd);\n",
              "            observer.disconnect();\n",
              "        }}\n",
              "}});\n",
              "\n",
              "// Listen for the removal of the full notebook cells\n",
              "var notebookContainer = gd.closest('#notebook-container');\n",
              "if (notebookContainer) {{\n",
              "    x.observe(notebookContainer, {childList: true});\n",
              "}}\n",
              "\n",
              "// Listen for the clearing of the current output cell\n",
              "var outputEl = gd.closest('.output');\n",
              "if (outputEl) {{\n",
              "    x.observe(outputEl, {childList: true});\n",
              "}}\n",
              "\n",
              "                        })                };                            </script>        </div>\n",
              "</body>\n",
              "</html>"
            ]
          },
          "metadata": {}
        }
      ]
    },
    {
      "cell_type": "markdown",
      "source": [
        "### Here polarity towards negative axis means negative news and vice versa"
      ],
      "metadata": {
        "id": "X5wxFcEBSIat"
      }
    },
    {
      "cell_type": "code",
      "source": [
        ""
      ],
      "metadata": {
        "id": "xKS-IgptSRSo"
      },
      "execution_count": null,
      "outputs": []
    }
  ]
}